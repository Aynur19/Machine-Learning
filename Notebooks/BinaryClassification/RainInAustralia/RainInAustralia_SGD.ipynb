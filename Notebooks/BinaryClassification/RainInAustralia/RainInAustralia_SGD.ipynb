{
 "cells": [
  {
   "cell_type": "markdown",
   "metadata": {
    "id": "GBCytqzjy6d_"
   },
   "source": [
    "## Подключение библиотек и пакетов"
   ]
  },
  {
   "cell_type": "code",
   "execution_count": 1,
   "metadata": {
    "id": "XWOCif4zy6eA"
   },
   "outputs": [],
   "source": [
    "import numpy as np\n",
    "import pandas as pd\n",
    "import itertools\n",
    "import os\n",
    "from time import time\n",
    "\n",
    "import seaborn as sns \n",
    "import matplotlib.pyplot as plt\n",
    "%matplotlib inline"
   ]
  },
  {
   "cell_type": "markdown",
   "metadata": {
    "id": "I_-gIrs6y6eC"
   },
   "source": [
    "## Загрузка предобработанных данных"
   ]
  },
  {
   "cell_type": "markdown",
   "metadata": {
    "id": "dK9fgMrMwEk2"
   },
   "source": [
    "Настройка глобальных переменных"
   ]
  },
  {
   "cell_type": "code",
   "execution_count": 2,
   "metadata": {
    "id": "a_s4b95lwEk3"
   },
   "outputs": [],
   "source": [
    "if 'google.colab' in str(get_ipython()):\n",
    "    data_dir = os.path.join(os.getcwd(), '/content/data/weatherAUS')\n",
    "else:\n",
    "    data_dir = os.path.join(os.getcwd(), '../../../data/weatherAUS')\n",
    "\n",
    "\n",
    "img_dir = os.path.join(os.getcwd(), 'img_sgd')\n",
    "if not os.path.isdir(img_dir):\n",
    "    os.mkdir(img_dir)"
   ]
  },
  {
   "cell_type": "markdown",
   "metadata": {
    "id": "nPQLAhiB17jI"
   },
   "source": [
    "Загрузка данных с репозитория\n",
    "\n"
   ]
  },
  {
   "cell_type": "code",
   "execution_count": 3,
   "metadata": {
    "colab": {
     "base_uri": "https://localhost:8080/"
    },
    "id": "xD-VPNBg0hLJ",
    "outputId": "7211e285-e297-4dfb-84cb-eafc3a9e6bab"
   },
   "outputs": [],
   "source": [
    "if 'google.colab' in str(get_ipython()):\n",
    "    !pip install rm\n",
    "    !pip install wget\n",
    "    !pip install gzip-reader\n",
    "    !rm -r /content/data\n",
    "    !wget -P data/weatherAUS https://raw.githubusercontent.com/Aynur19/Machine-Learning/main/data/weatherAUS/weatherAUS_prepocessed.csv"
   ]
  },
  {
   "cell_type": "markdown",
   "metadata": {
    "id": "7F7IkELAeirJ"
   },
   "source": [
    " Чтение и просмотр данных"
   ]
  },
  {
   "cell_type": "code",
   "execution_count": 4,
   "metadata": {
    "colab": {
     "base_uri": "https://localhost:8080/",
     "height": 224
    },
    "id": "EcWZ3f6beYfU",
    "outputId": "9c07e16d-817c-46d8-c7e5-0c9f42fa82c0"
   },
   "outputs": [
    {
     "data": {
      "text/html": [
       "<div>\n",
       "<style scoped>\n",
       "    .dataframe tbody tr th:only-of-type {\n",
       "        vertical-align: middle;\n",
       "    }\n",
       "\n",
       "    .dataframe tbody tr th {\n",
       "        vertical-align: top;\n",
       "    }\n",
       "\n",
       "    .dataframe thead th {\n",
       "        text-align: right;\n",
       "    }\n",
       "</style>\n",
       "<table border=\"1\" class=\"dataframe\">\n",
       "  <thead>\n",
       "    <tr style=\"text-align: right;\">\n",
       "      <th></th>\n",
       "      <th>MinTemp</th>\n",
       "      <th>MaxTemp</th>\n",
       "      <th>Rainfall</th>\n",
       "      <th>Evaporation</th>\n",
       "      <th>Sunshine</th>\n",
       "      <th>WindGustSpeed</th>\n",
       "      <th>WindSpeed9am</th>\n",
       "      <th>WindSpeed3pm</th>\n",
       "      <th>Humidity9am</th>\n",
       "      <th>Humidity3pm</th>\n",
       "      <th>...</th>\n",
       "      <th>WindDir3pm_NNW</th>\n",
       "      <th>WindDir3pm_NW</th>\n",
       "      <th>WindDir3pm_S</th>\n",
       "      <th>WindDir3pm_SE</th>\n",
       "      <th>WindDir3pm_SSE</th>\n",
       "      <th>WindDir3pm_SSW</th>\n",
       "      <th>WindDir3pm_SW</th>\n",
       "      <th>WindDir3pm_W</th>\n",
       "      <th>WindDir3pm_WNW</th>\n",
       "      <th>WindDir3pm_WSW</th>\n",
       "    </tr>\n",
       "  </thead>\n",
       "  <tbody>\n",
       "    <tr>\n",
       "      <th>0</th>\n",
       "      <td>17.7</td>\n",
       "      <td>35.1</td>\n",
       "      <td>0.0</td>\n",
       "      <td>9.8</td>\n",
       "      <td>12.9</td>\n",
       "      <td>72.0</td>\n",
       "      <td>15.0</td>\n",
       "      <td>33.0</td>\n",
       "      <td>63.0</td>\n",
       "      <td>13.0</td>\n",
       "      <td>...</td>\n",
       "      <td>0</td>\n",
       "      <td>1</td>\n",
       "      <td>0</td>\n",
       "      <td>0</td>\n",
       "      <td>0</td>\n",
       "      <td>0</td>\n",
       "      <td>0</td>\n",
       "      <td>0</td>\n",
       "      <td>0</td>\n",
       "      <td>0</td>\n",
       "    </tr>\n",
       "    <tr>\n",
       "      <th>1</th>\n",
       "      <td>18.5</td>\n",
       "      <td>23.0</td>\n",
       "      <td>0.0</td>\n",
       "      <td>11.0</td>\n",
       "      <td>5.9</td>\n",
       "      <td>63.0</td>\n",
       "      <td>15.0</td>\n",
       "      <td>35.0</td>\n",
       "      <td>63.0</td>\n",
       "      <td>58.0</td>\n",
       "      <td>...</td>\n",
       "      <td>0</td>\n",
       "      <td>0</td>\n",
       "      <td>0</td>\n",
       "      <td>1</td>\n",
       "      <td>0</td>\n",
       "      <td>0</td>\n",
       "      <td>0</td>\n",
       "      <td>0</td>\n",
       "      <td>0</td>\n",
       "      <td>0</td>\n",
       "    </tr>\n",
       "    <tr>\n",
       "      <th>2</th>\n",
       "      <td>18.7</td>\n",
       "      <td>27.1</td>\n",
       "      <td>0.0</td>\n",
       "      <td>5.4</td>\n",
       "      <td>11.3</td>\n",
       "      <td>65.0</td>\n",
       "      <td>24.0</td>\n",
       "      <td>48.0</td>\n",
       "      <td>60.0</td>\n",
       "      <td>51.0</td>\n",
       "      <td>...</td>\n",
       "      <td>0</td>\n",
       "      <td>0</td>\n",
       "      <td>0</td>\n",
       "      <td>0</td>\n",
       "      <td>0</td>\n",
       "      <td>0</td>\n",
       "      <td>0</td>\n",
       "      <td>0</td>\n",
       "      <td>0</td>\n",
       "      <td>0</td>\n",
       "    </tr>\n",
       "    <tr>\n",
       "      <th>3</th>\n",
       "      <td>20.2</td>\n",
       "      <td>31.6</td>\n",
       "      <td>0.0</td>\n",
       "      <td>10.0</td>\n",
       "      <td>12.2</td>\n",
       "      <td>63.0</td>\n",
       "      <td>11.0</td>\n",
       "      <td>35.0</td>\n",
       "      <td>58.0</td>\n",
       "      <td>52.0</td>\n",
       "      <td>...</td>\n",
       "      <td>0</td>\n",
       "      <td>0</td>\n",
       "      <td>0</td>\n",
       "      <td>0</td>\n",
       "      <td>0</td>\n",
       "      <td>0</td>\n",
       "      <td>0</td>\n",
       "      <td>0</td>\n",
       "      <td>0</td>\n",
       "      <td>0</td>\n",
       "    </tr>\n",
       "    <tr>\n",
       "      <th>4</th>\n",
       "      <td>19.9</td>\n",
       "      <td>29.7</td>\n",
       "      <td>0.0</td>\n",
       "      <td>10.0</td>\n",
       "      <td>11.8</td>\n",
       "      <td>41.0</td>\n",
       "      <td>19.0</td>\n",
       "      <td>20.0</td>\n",
       "      <td>82.0</td>\n",
       "      <td>54.0</td>\n",
       "      <td>...</td>\n",
       "      <td>0</td>\n",
       "      <td>0</td>\n",
       "      <td>0</td>\n",
       "      <td>0</td>\n",
       "      <td>0</td>\n",
       "      <td>0</td>\n",
       "      <td>0</td>\n",
       "      <td>0</td>\n",
       "      <td>0</td>\n",
       "      <td>0</td>\n",
       "    </tr>\n",
       "  </tbody>\n",
       "</table>\n",
       "<p>5 rows × 73 columns</p>\n",
       "</div>"
      ],
      "text/plain": [
       "   MinTemp  MaxTemp  Rainfall  Evaporation  Sunshine  WindGustSpeed  \\\n",
       "0     17.7     35.1       0.0          9.8      12.9           72.0   \n",
       "1     18.5     23.0       0.0         11.0       5.9           63.0   \n",
       "2     18.7     27.1       0.0          5.4      11.3           65.0   \n",
       "3     20.2     31.6       0.0         10.0      12.2           63.0   \n",
       "4     19.9     29.7       0.0         10.0      11.8           41.0   \n",
       "\n",
       "   WindSpeed9am  WindSpeed3pm  Humidity9am  Humidity3pm  ...  WindDir3pm_NNW  \\\n",
       "0          15.0          33.0         63.0         13.0  ...               0   \n",
       "1          15.0          35.0         63.0         58.0  ...               0   \n",
       "2          24.0          48.0         60.0         51.0  ...               0   \n",
       "3          11.0          35.0         58.0         52.0  ...               0   \n",
       "4          19.0          20.0         82.0         54.0  ...               0   \n",
       "\n",
       "   WindDir3pm_NW  WindDir3pm_S  WindDir3pm_SE  WindDir3pm_SSE  WindDir3pm_SSW  \\\n",
       "0              1             0              0               0               0   \n",
       "1              0             0              1               0               0   \n",
       "2              0             0              0               0               0   \n",
       "3              0             0              0               0               0   \n",
       "4              0             0              0               0               0   \n",
       "\n",
       "   WindDir3pm_SW  WindDir3pm_W  WindDir3pm_WNW  WindDir3pm_WSW  \n",
       "0              0             0               0               0  \n",
       "1              0             0               0               0  \n",
       "2              0             0               0               0  \n",
       "3              0             0               0               0  \n",
       "4              0             0               0               0  \n",
       "\n",
       "[5 rows x 73 columns]"
      ]
     },
     "execution_count": 4,
     "metadata": {},
     "output_type": "execute_result"
    }
   ],
   "source": [
    "df = pd.read_csv(os.path.join(data_dir, 'weatherAUS_prepocessed.csv'))\n",
    "df.head()"
   ]
  },
  {
   "cell_type": "markdown",
   "metadata": {
    "id": "GX3SR_MFyNw_"
   },
   "source": [
    "Разделим данные на матрицу признаков и вектор ответов"
   ]
  },
  {
   "cell_type": "code",
   "execution_count": 5,
   "metadata": {
    "id": "7v96TJr3qgFC"
   },
   "outputs": [],
   "source": [
    "y = df['RainTomorrow']\n",
    "x = df.drop(['RainTomorrow'], axis=1)"
   ]
  },
  {
   "cell_type": "markdown",
   "metadata": {
    "id": "Bq7e5vGatJEw"
   },
   "source": [
    "Разделение данных на обучающие и тестовые выборки"
   ]
  },
  {
   "cell_type": "code",
   "execution_count": 6,
   "metadata": {
    "id": "gwBRqJhXy6eW"
   },
   "outputs": [],
   "source": [
    "from sklearn.model_selection import train_test_split\n",
    "\n",
    "# разделение выборок на обучающую и тестовую в соотношении 75/25\n",
    "x_train, x_test, y_train, y_test = train_test_split(x, y, test_size=0.25, random_state=0)"
   ]
  },
  {
   "cell_type": "markdown",
   "metadata": {
    "id": "reFGfUYVjfEo"
   },
   "source": [
    "## Вспомогательные функции"
   ]
  },
  {
   "cell_type": "markdown",
   "metadata": {
    "id": "85cUXgXXy6eX"
   },
   "source": [
    "Функция вычисления метрик при применении модели для тестовой выборки"
   ]
  },
  {
   "cell_type": "code",
   "execution_count": 7,
   "metadata": {
    "id": "diwQGbREy6eY"
   },
   "outputs": [],
   "source": [
    "# method - конкретный метод (модель)\n",
    "# x_test - тестовая выборка признаков\n",
    "# y_test - тестовая выборка ответов\n",
    "def compute_metrics(y_test, y_pred=None, method=None, x_test=None):\n",
    "  # применение модели на тестовой выборке\n",
    "  if y_pred is None:\n",
    "    y_pred = method.predict(x_test)\n",
    "\n",
    "  # вычисление матрицы ошибок по векторам реальных результатом и \n",
    "  # результатов, данных моделью на тестовой выборке\n",
    "  cfn_matrix = confusion_matrix(y_test, y_pred)\n",
    "\n",
    "  # оценка точности классификации моделью персептрона\n",
    "  accuracy = accuracy_score(y_test, y_pred)\n",
    "\n",
    "  # вычисление точности (precision = TP / (TP + FP))\n",
    "  precision = precision_score(y_test, y_pred)\n",
    "\n",
    "  # вычисление полноты (recall = TP / (TP + FN))\n",
    "  recall = recall_score(y_test, y_pred)\n",
    "\n",
    "  # вычисление F-меры - средней гармонической precision и recall: \n",
    "  # F1 = 2 * (precision * recall) / (precision + recall)\n",
    "  f1 = f1_score(y_test, y_pred)\n",
    "\n",
    "  print('Точность классификации: %0.2f' % (accuracy))\n",
    "  print('Точность (способность классификатора не отмечать один класс другим): %0.2f' % (precision))\n",
    "  print('Полнота (отзыв, способность классификатора отмечать все объекты одного класса): %0.2f' % (recall))      \n",
    "  print('F-мера (средневзвешенное значение точности и полноты): %0.2f' % (f1))\n",
    "\n",
    "  # возвращаем матрицу ошибок\n",
    "  return {'confusion_matrix': cfn_matrix, 'accuracy': accuracy, \n",
    "          'precision': precision, 'recall': recall, 'f1': f1}"
   ]
  },
  {
   "cell_type": "markdown",
   "metadata": {
    "id": "7NMwoZhBxysE"
   },
   "source": [
    "Функция вывода графика матрицы ошибок"
   ]
  },
  {
   "cell_type": "code",
   "execution_count": 8,
   "metadata": {
    "id": "iATOeNBzm0tv"
   },
   "outputs": [],
   "source": [
    "def plot_confusion_matrix(cm, classes, method_name: str, normalize=False,\n",
    "                          title='Confusion matrix', cmap=plt.cm.Blues):\n",
    "  \"\"\"\n",
    "  This function prints and plots the confusion matrix.\n",
    "  Normalization can be applied by setting `normalize=True`.\n",
    "  \"\"\"\n",
    "  font = {'size' : 15}\n",
    "  plt.rc('font', **font)\n",
    "  plt.figure(figsize=(10, 8))\n",
    "\n",
    "  plt.imshow(cm, interpolation='nearest', cmap=cmap)\n",
    "  plt.title(f'{title}')\n",
    "  plt.colorbar()\n",
    "  tick_marks = np.arange(len(classes))\n",
    "  plt.xticks(tick_marks, classes, rotation=45)\n",
    "  plt.yticks(tick_marks, classes)\n",
    "\n",
    "  if normalize:\n",
    "    cm = cm.astype('float') / cm.sum(axis=1)[:, np.newaxis]\n",
    "    print(\"Normalized confusion matrix\")\n",
    "  else:\n",
    "    print('Confusion matrix, without normalization')\n",
    "\n",
    "  print(cm)\n",
    "\n",
    "  thresh = cm.max() / 2.\n",
    "  for i, j in itertools.product(range(cm.shape[0]), range(cm.shape[1])):\n",
    "    plt.text(j, i, cm[i, j],\n",
    "             horizontalalignment=\"center\",\n",
    "             color=\"white\" if cm[i, j] > thresh else \"black\")\n",
    "\n",
    "  plt.tight_layout()\n",
    "  plt.ylabel('True label')\n",
    "  plt.xlabel('Predicted label')\n",
    "  plt.savefig(f'{os.path.join(img_dir, title)}.png')\n",
    "  plt.show()"
   ]
  },
  {
   "cell_type": "markdown",
   "metadata": {
    "id": "BnMhsa6fy6eY"
   },
   "source": [
    "Функция построения кривой AUC-ROC (площадь под кривой ошибок)"
   ]
  },
  {
   "cell_type": "code",
   "execution_count": 9,
   "metadata": {
    "id": "LRLLqhloy6eZ"
   },
   "outputs": [],
   "source": [
    "# функция построения кривой precision-recall и AOC-ROC\n",
    "# x_test - тестовая выборка признаковых описаний\n",
    "# y_test - тестовая выборка ответов\n",
    "# lr_probs - предсказание работы алгоритма на тестовой выборке\n",
    "# method_name - название метода\n",
    "def plot_precision_recall_ROC(x_test, y_test, lr_probs, method_name: str, title: str):\n",
    "  ns_probs = [0 for _ in range(len(y_test))]\n",
    "\n",
    "  ns_auc = roc_auc_score(y_test, ns_probs)\n",
    "  lr_auc = roc_auc_score(y_test, lr_probs)\n",
    "\n",
    "  print('No Skill: ROC AUC=%.3f' % (ns_auc))\n",
    "  print(method_name + ': ROC AUC=%.3f' % (lr_auc))\n",
    "\n",
    "  # вычисление AOC-ROC\n",
    "  ns_fpr, ns_tpr, _ = roc_curve(y_test, ns_probs)\n",
    "  lr_fpr, lr_tpr, _ = roc_curve(y_test, lr_probs)\n",
    "\n",
    "  # построение графиков\n",
    "  plt.plot(ns_fpr, ns_tpr, linestyle='--', label='Dummy Classifer')\n",
    "  plt.plot(lr_fpr, lr_tpr, marker='.', label=method_name)\n",
    "\n",
    "  # добавление подписей к осям\n",
    "  plt.xlabel('False Positive Rate')\n",
    "  plt.ylabel('True Positive Rate')\n",
    "\n",
    "  # вывод графика\n",
    "  plt.legend()\n",
    "  plt.title(f'{title}')\n",
    "  plt.savefig(f'{os.path.join(img_dir, title)}.png')\n",
    "  plt.show()"
   ]
  },
  {
   "cell_type": "markdown",
   "metadata": {
    "id": "N-Z5Wem5y6eZ"
   },
   "source": [
    "Функция построения графика для определения влияния порога на оценку"
   ]
  },
  {
   "cell_type": "code",
   "execution_count": 10,
   "metadata": {
    "id": "GrKYycdny6eZ"
   },
   "outputs": [],
   "source": [
    "# y_train - обучающая выборка ответов\n",
    "# y_scores - предсказание работы алгоритма на обучающей выборке \n",
    "def plot_precision_recall_thresholds(y_train, y_scores, title: str):\n",
    "    precisions, recalls, thresholds = precision_recall_curve(y_train, y_scores)\n",
    "\n",
    "    plt.ylim([0,1])\n",
    "    plt.plot(thresholds, precisions[:-1], 'b--', label='Precision')\n",
    "    plt.plot(thresholds, recalls[:-1], 'g-', label='Recall')\n",
    "    plt.xlabel('Thresholds')\n",
    "    plt.legend(loc='center left')\n",
    "    plt.title(f'{title}')\n",
    "    plt.savefig(f'{os.path.join(img_dir, title)}.png')\n",
    "    plt.show()"
   ]
  },
  {
   "cell_type": "markdown",
   "metadata": {
    "id": "9WGCrDLZyFNF"
   },
   "source": [
    "Функция построения графика кривой resicion-Recall"
   ]
  },
  {
   "cell_type": "code",
   "execution_count": 11,
   "metadata": {
    "id": "cCVa8SKiASqL"
   },
   "outputs": [],
   "source": [
    "def plot_precision_recall_vs_threshold(precisions, recalls, thresholds, title: str):\n",
    "    plt.plot(recalls, precisions, linewidth=2)\n",
    "    plt.xlabel('Recall')\n",
    "    plt.ylabel('Precision')\n",
    "    plt.title(f'{title}')\n",
    "    plt.savefig(f'{os.path.join(img_dir, title)}.png')\n",
    "    plt.show()"
   ]
  },
  {
   "cell_type": "markdown",
   "metadata": {
    "id": "TCdwNFb_yNHO"
   },
   "source": [
    "Функция получения лучших гиперпараметров через использование GridSearchCV"
   ]
  },
  {
   "cell_type": "code",
   "execution_count": 12,
   "metadata": {
    "id": "J8TNE39WT35W"
   },
   "outputs": [],
   "source": [
    "def get_best_params(model, x_train, y_train, param_grid, cv, scoring='accuracy'):\n",
    "  search = GridSearchCV(model, param_grid, scoring=scoring, cv=cv, n_jobs=-1)\n",
    "  results = search.fit(x_train, y_train)\n",
    "  print('Mean Accuracy: %.3f' % results.best_score_)\n",
    "  print('Config: %s' % results.best_params_)\n",
    "  return results.best_params_"
   ]
  },
  {
   "cell_type": "markdown",
   "metadata": {
    "id": "jPrghk8Ny6ea"
   },
   "source": [
    "## Применение моделей\n",
    "Подключение модулей"
   ]
  },
  {
   "cell_type": "code",
   "execution_count": 13,
   "metadata": {
    "id": "k3V_T9G_vcN0"
   },
   "outputs": [],
   "source": [
    "from sklearn.pipeline import make_pipeline\n",
    "from sklearn.preprocessing import StandardScaler\n",
    "from sklearn.model_selection import cross_val_score # проверка обучения модели кросс-валидацией\n",
    "from sklearn.model_selection import cross_val_predict\n",
    "\n",
    "from sklearn.metrics import confusion_matrix # для вычисления матрицы неточности\n",
    "from sklearn.metrics import accuracy_score # для вычисления точности предсказывания\n",
    "from sklearn.metrics import precision_score, recall_score, f1_score # для вычисления метрик (точность, полнота, F-мера и т.д.)\n",
    "from sklearn.metrics import precision_recall_curve\n",
    "from sklearn.metrics import roc_curve\n",
    "from sklearn.metrics import roc_auc_score\n",
    "from sklearn.metrics import precision_recall_curve"
   ]
  },
  {
   "cell_type": "markdown",
   "metadata": {
    "id": "l7rS6vkAdalp"
   },
   "source": [
    "### Модель персептрона с гиперпараметрами по умолчанию"
   ]
  },
  {
   "cell_type": "markdown",
   "metadata": {
    "id": "q8d5FXHWjraF"
   },
   "source": [
    "Создание и настройка модели персептрона с гиперпараметрами по умолчанию. Обучение модели и вывод точности работы алгоритма на обучающей выборке. Вывод графика кривой Precision-Recall в процессе кросс-валидации"
   ]
  },
  {
   "cell_type": "code",
   "execution_count": 14,
   "metadata": {
    "colab": {
     "base_uri": "https://localhost:8080/",
     "height": 346
    },
    "id": "EY4jbpDry6ea",
    "outputId": "b43caf91-f7f2-497e-c2af-5b7c7151e592"
   },
   "outputs": [
    {
     "name": "stdout",
     "output_type": "stream",
     "text": [
      "Точность работы модели (SGD) на обучающей выборке: 0.85\n",
      "Время обучения модели (SGD) на обучающей выборке: 0.50 секунд\n",
      "Время кросс-валидация модели (SGD) на обучающей выборке: 4.67 секунд\n"
     ]
    },
    {
     "data": {
      "image/png": "[encoded data removed]",
      "text/plain": [
       "<Figure size 432x288 with 1 Axes>"
      ]
     },
     "metadata": {
      "needs_background": "light"
     },
     "output_type": "display_data"
    }
   ],
   "source": [
    "from sklearn.linear_model import SGDClassifier\n",
    "\n",
    "# создание и настройка модели\n",
    "clf_sgd = make_pipeline(StandardScaler(), \n",
    "                               SGDClassifier(loss='hinge', penalty='l2', alpha=0.0001, max_iter=1000, n_jobs=-1,\n",
    "                                             learning_rate='optimal', eta0=0.0))\n",
    "\n",
    "# обучение модели\n",
    "start_time = time()\n",
    "clf_sgd.fit(x_train, y_train)\n",
    "end_time = time()\n",
    "train_score = clf_sgd.score(x_train, y_train)\n",
    "print(f'Точность работы модели (SGD) на обучающей выборке: {train_score:.2f}')\n",
    "print(f'Время обучения модели (SGD) на обучающей выборке: {(end_time - start_time):.2f} секунд')\n",
    "\n",
    "# кросс-валидация и вычисление метрик на каждой итерации\n",
    "start_time = time()\n",
    "y_scores = cross_val_predict(clf_sgd, x_train, y_train, cv=10, method=\"decision_function\")\n",
    "end_time = time()\n",
    "print(f'Время кросс-валидация модели (SGD) на обучающей выборке: {(end_time - start_time):.2f} секунд')\n",
    "\n",
    "precisions, recalls, thresholds = precision_recall_curve(y_train, y_scores)\n",
    "# вывод кривой Precision-Recall в процессе кросс-валидации\n",
    "plot_precision_recall_vs_threshold(precisions, recalls, thresholds,  \n",
    "                      title='SGD (default) PR Curve on Train')"
   ]
  },
  {
   "cell_type": "markdown",
   "metadata": {
    "id": "vcLwwxV7jZb0"
   },
   "source": [
    "Вычисление метрик на тестовых данных и вывод матрицы ошибок"
   ]
  },
  {
   "cell_type": "code",
   "execution_count": 15,
   "metadata": {
    "colab": {
     "base_uri": "https://localhost:8080/",
     "height": 712
    },
    "id": "i62_NosZgkr3",
    "outputId": "ce7d81d4-cac0-472f-f1a4-0cd929816296"
   },
   "outputs": [
    {
     "name": "stdout",
     "output_type": "stream",
     "text": [
      "Точность классификации: 0.85\n",
      "Точность (способность классификатора не отмечать один класс другим): 0.87\n",
      "Полнота (отзыв, способность классификатора отмечать все объекты одного класса): 0.95\n",
      "F-мера (средневзвешенное значение точности и полноты): 0.91\n",
      "Confusion matrix, without normalization\n",
      "[[ 596  576]\n",
      " [ 186 3838]]\n"
     ]
    },
    {
     "data": {
      "image/png": "[encoded data removed]",
      "text/plain": [
       "<Figure size 720x576 with 2 Axes>"
      ]
     },
     "metadata": {
      "needs_background": "light"
     },
     "output_type": "display_data"
    }
   ],
   "source": [
    "metrics = compute_metrics(method=clf_sgd, x_test=x_test, y_test=y_test)\n",
    "plot_confusion_matrix(metrics['confusion_matrix'], method_name='SGD', \n",
    "                      classes=['Non-churned', 'Churned'], \n",
    "                      title='SGD (default) Confusion matrix')"
   ]
  },
  {
   "cell_type": "markdown",
   "metadata": {
    "id": "vJ5UvJxLjEYx"
   },
   "source": [
    "Построение кривой AUC-ROC (Area Under Curve - Receiver Operating Characteristic curve) - площадь под кривой ошибок"
   ]
  },
  {
   "cell_type": "code",
   "execution_count": 16,
   "metadata": {
    "colab": {
     "base_uri": "https://localhost:8080/",
     "height": 343
    },
    "id": "VpwERGWug8_0",
    "outputId": "0d8ea25f-3133-484a-c20f-b9f5336a74c0"
   },
   "outputs": [
    {
     "name": "stdout",
     "output_type": "stream",
     "text": [
      "No Skill: ROC AUC=0.500\n",
      "SGD: ROC AUC=0.873\n"
     ]
    },
    {
     "data": {
      "image/png": "[encoded data removed]",
      "text/plain": [
       "<Figure size 432x288 with 1 Axes>"
      ]
     },
     "metadata": {
      "needs_background": "light"
     },
     "output_type": "display_data"
    }
   ],
   "source": [
    "lr_probs = clf_sgd.decision_function(x_test)\n",
    "plot_precision_recall_ROC(x_test, y_test, lr_probs, method_name='SGD',\n",
    "                          title='SGD (default) AUC-ROC')"
   ]
  },
  {
   "cell_type": "markdown",
   "metadata": {
    "id": "R4oi8ta7i9X6"
   },
   "source": [
    "Вывод графика для определения влияния порога на оценку \n",
    "\n"
   ]
  },
  {
   "cell_type": "code",
   "execution_count": 17,
   "metadata": {
    "colab": {
     "base_uri": "https://localhost:8080/",
     "height": 309
    },
    "id": "ZHPm-H9RhHdZ",
    "outputId": "2607308b-68a6-4940-f917-8161a7fe19e8"
   },
   "outputs": [
    {
     "data": {
      "image/png": "[encoded data removed]",
      "text/plain": [
       "<Figure size 432x288 with 1 Axes>"
      ]
     },
     "metadata": {
      "needs_background": "light"
     },
     "output_type": "display_data"
    }
   ],
   "source": [
    "y_scores = clf_sgd.predict(x_train)\n",
    "plot_precision_recall_thresholds(y_train, y_scores, title='SGD (default) PR Thresholds on Test')"
   ]
  },
  {
   "cell_type": "markdown",
   "metadata": {
    "id": "HqxatPTOiXX6"
   },
   "source": [
    "### Модель персептрона с гиперпараметрами, подобранными с помощью GridSearchCV"
   ]
  },
  {
   "cell_type": "markdown",
   "metadata": {
    "id": "ytccv7p2y1Pp"
   },
   "source": [
    "Подключение нужных библиотек"
   ]
  },
  {
   "cell_type": "code",
   "execution_count": 18,
   "metadata": {
    "id": "tplJBYdWy0ZH"
   },
   "outputs": [],
   "source": [
    "from sklearn.model_selection import GridSearchCV\n",
    "from sklearn.model_selection import RepeatedStratifiedKFold"
   ]
  },
  {
   "cell_type": "markdown",
   "metadata": {
    "id": "p__kcw1kiy6i"
   },
   "source": [
    "Подбор лучших гиперпараметров с помощью GridSearchCV"
   ]
  },
  {
   "cell_type": "code",
   "execution_count": 21,
   "metadata": {
    "colab": {
     "base_uri": "https://localhost:8080/"
    },
    "id": "i7pmanaADJJZ",
    "outputId": "66d80de4-f112-44c8-c163-df586b03f013"
   },
   "outputs": [
    {
     "name": "stdout",
     "output_type": "stream",
     "text": [
      "Mean Accuracy: 0.831\n",
      "Config: {'alpha': 0.01, 'loss': 'log', 'max_iter': 1000, 'n_jobs': -1, 'penalty': 'l1'}\n",
      "Время подбора параметров для модели (SGD) через использование GridSearchCV: 13159.44 секунд\n"
     ]
    },
    {
     "name": "stderr",
     "output_type": "stream",
     "text": [
      "/usr/local/lib/python3.7/dist-packages/sklearn/linear_model/_stochastic_gradient.py:557: ConvergenceWarning: Maximum number of iteration reached before convergence. Consider increasing max_iter to improve the fit.\n",
      "  ConvergenceWarning)\n"
     ]
    }
   ],
   "source": [
    "# param_grid = { \n",
    "#     'loss': ['hinge', 'log', 'modified_huber', 'squared_hinge', 'perceptron', \n",
    "#              'squared_loss', 'huber', 'epsilon_insensitive', 'squared_epsilon_insensitive'], \n",
    "#     'penalty': ['l2', 'l1', 'elasticnet'], \n",
    "#     'alpha': [0.0001, 0.001, 0.01], \n",
    "#     'max_iter': [1000, 2000, 3000],\n",
    "#     'n_jobs': [-1],\n",
    "# }\n",
    "\n",
    "# clf = SGDClassifier(tol=1e-3, random_state=0)\n",
    "# cv = RepeatedStratifiedKFold(n_splits=10, n_repeats=3, random_state=1)\n",
    "\n",
    "# start_time = time()\n",
    "# best_params = get_best_params(clf, x_train, y_train, param_grid, cv, scoring='accuracy')\n",
    "# end_time = time()\n",
    "# print(f'Время подбора параметров для модели (SGD) через использование GridSearchCV: {(end_time - start_time):.2f} секунд')"
   ]
  },
  {
   "cell_type": "markdown",
   "metadata": {
    "id": "xjMuNC4lj3cZ"
   },
   "source": [
    "Создание модели персептрона с указанием лучший гиперпараметров, подобранных с помощью GridSearchCV. Обучение модели и вывод точности работы алгоритма на обуающей выборке. Вывод графика кривой Precision-Recall в процессе кросс-валидации"
   ]
  },
  {
   "cell_type": "code",
   "execution_count": 19,
   "metadata": {
    "colab": {
     "base_uri": "https://localhost:8080/",
     "height": 360
    },
    "id": "gNnR-pzLV4m6",
    "outputId": "c5781226-4f3a-416b-af1d-21cb16b65b40"
   },
   "outputs": [
    {
     "name": "stdout",
     "output_type": "stream",
     "text": [
      "Точность работы модели (SGD) на обучающей выборке: 0.85\n",
      "Время обучения модели (SGD) на обучающей выборке: 0.19 секунд\n",
      "Время кросс-валидация модели (SGD) на обучающей выборке: 2.38 секунд\n"
     ]
    },
    {
     "data": {
      "image/png": "[encoded data removed]",
      "text/plain": [
       "<Figure size 432x288 with 1 Axes>"
      ]
     },
     "metadata": {
      "needs_background": "light"
     },
     "output_type": "display_data"
    }
   ],
   "source": [
    "clf_sgd_cv = make_pipeline(StandardScaler(),\n",
    "                           SGDClassifier(penalty='l1', alpha=0.01, loss='log', max_iter=1000, \n",
    "                                         tol=1e-3, random_state=42, n_jobs=-1))\n",
    "# обучение модели\n",
    "start_time = time()\n",
    "clf_sgd_cv.fit(x_train, y_train)\n",
    "end_time = time()\n",
    "train_score = clf_sgd_cv.score(x_train, y_train)\n",
    "print(f'Точность работы модели (SGD) на обучающей выборке: {train_score:.2f}')\n",
    "print(f'Время обучения модели (SGD) на обучающей выборке: {(end_time - start_time):.2f} секунд')\n",
    "\n",
    "# Вычисление метрик и вывод кривой Precision-Recall в процессе кросс-валидации\n",
    "start_time = time()\n",
    "y_scores = cross_val_predict(clf_sgd_cv, x_train, y_train, cv=10, method=\"decision_function\")\n",
    "end_time = time()\n",
    "print(f'Время кросс-валидация модели (SGD) на обучающей выборке: {(end_time - start_time):.2f} секунд')\n",
    "\n",
    "precisions, recalls, thresholds = precision_recall_curve(y_train, y_scores)\n",
    "plot_precision_recall_vs_threshold(precisions, recalls, thresholds, 'SGD (GridSearchCV) PR Curve on Train')"
   ]
  },
  {
   "cell_type": "markdown",
   "metadata": {
    "id": "PZHEWRmfkw8W"
   },
   "source": [
    "Вычисление метрик на тестовых данных и вывод матрицы ошибок"
   ]
  },
  {
   "cell_type": "code",
   "execution_count": 20,
   "metadata": {
    "colab": {
     "base_uri": "https://localhost:8080/",
     "height": 712
    },
    "id": "HPOA4mB5Yz9m",
    "outputId": "eab732bd-c438-46f9-ec3b-944f53fff202"
   },
   "outputs": [
    {
     "name": "stdout",
     "output_type": "stream",
     "text": [
      "Точность классификации: 0.85\n",
      "Точность (способность классификатора не отмечать один класс другим): 0.87\n",
      "Полнота (отзыв, способность классификатора отмечать все объекты одного класса): 0.95\n",
      "F-мера (средневзвешенное значение точности и полноты): 0.91\n",
      "Confusion matrix, without normalization\n",
      "[[ 614  558]\n",
      " [ 207 3817]]\n"
     ]
    },
    {
     "data": {
      "image/png": "[encoded data removed]",
      "text/plain": [
       "<Figure size 720x576 with 2 Axes>"
      ]
     },
     "metadata": {
      "needs_background": "light"
     },
     "output_type": "display_data"
    }
   ],
   "source": [
    "# вычисление метрик на тестовых данных и вывод матрицы ошибок\n",
    "metrics = compute_metrics(method=clf_sgd_cv, x_test=x_test, y_test=y_test)\n",
    "plot_confusion_matrix(metrics['confusion_matrix'], method_name='SGD', \n",
    "                      classes=['Non-churned', 'Churned'], \n",
    "                      title='SGD (GridSearchCV) Confusion matrix')"
   ]
  },
  {
   "cell_type": "markdown",
   "metadata": {
    "id": "wio6aR0zlaxv"
   },
   "source": [
    "Построение кривой AUC-ROC (Area Under Curve - Receiver Operating Characteristic curve) - площадь под кривой ошибок"
   ]
  },
  {
   "cell_type": "code",
   "execution_count": 21,
   "metadata": {
    "colab": {
     "base_uri": "https://localhost:8080/",
     "height": 343
    },
    "id": "E-pHjxbTZVT6",
    "outputId": "94b0bdc9-2ce1-4953-bb62-9a7965f14b37"
   },
   "outputs": [
    {
     "name": "stdout",
     "output_type": "stream",
     "text": [
      "No Skill: ROC AUC=0.500\n",
      "SGD: ROC AUC=0.888\n"
     ]
    },
    {
     "data": {
      "image/png": "[encoded data removed]",
      "text/plain": [
       "<Figure size 432x288 with 1 Axes>"
      ]
     },
     "metadata": {
      "needs_background": "light"
     },
     "output_type": "display_data"
    }
   ],
   "source": [
    "# построение кривой precision-recall и AOC-ROC\n",
    "lr_probs = clf_sgd_cv.decision_function(x_test)\n",
    "plot_precision_recall_ROC(x_test, y_test, lr_probs, method_name='SGD',\n",
    "                          title='SGD (GridSearchCV) AUC-ROC')"
   ]
  },
  {
   "cell_type": "markdown",
   "metadata": {
    "id": "3UJoEoX4luaE"
   },
   "source": [
    "Вывод графика для определения влияния порога на оценку "
   ]
  },
  {
   "cell_type": "code",
   "execution_count": 22,
   "metadata": {
    "colab": {
     "base_uri": "https://localhost:8080/",
     "height": 309
    },
    "id": "UQhyVU-WZmIa",
    "outputId": "5c8ac254-f27e-4106-cd33-a6800cd309fe"
   },
   "outputs": [
    {
     "data": {
      "image/png": "[encoded data removed]",
      "text/plain": [
       "<Figure size 432x288 with 1 Axes>"
      ]
     },
     "metadata": {
      "needs_background": "light"
     },
     "output_type": "display_data"
    }
   ],
   "source": [
    "# вывод графика для определения влияния порога на оценку \n",
    "y_scores = clf_sgd_cv.predict(x_train)\n",
    "plot_precision_recall_thresholds(y_train, y_scores, title='SGD (GridSearchCV) PR Thresholds on Test')"
   ]
  },
  {
   "cell_type": "code",
   "execution_count": null,
   "metadata": {
    "id": "DO5t_4i8n5yx"
   },
   "outputs": [],
   "source": []
  }
 ],
 "metadata": {
  "colab": {
   "collapsed_sections": [],
   "name": "RainInAustralia_SGD.ipynb",
   "provenance": [],
   "toc_visible": true
  },
  "kernelspec": {
   "display_name": "Python 3",
   "language": "python",
   "name": "python3"
  },
  "language_info": {
   "codemirror_mode": {
    "name": "ipython",
    "version": 3
   },
   "file_extension": ".py",
   "mimetype": "text/x-python",
   "name": "python",
   "nbconvert_exporter": "python",
   "pygments_lexer": "ipython3",
   "version": "3.8.5"
  }
 },
 "nbformat": 4,
 "nbformat_minor": 1
}
