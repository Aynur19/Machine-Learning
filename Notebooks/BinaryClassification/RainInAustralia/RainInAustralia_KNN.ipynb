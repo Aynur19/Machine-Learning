{
 "cells": [
  {
   "cell_type": "markdown",
   "metadata": {
    "id": "GBCytqzjy6d_"
   },
   "source": [
    "## Подключение библиотек и пакетов"
   ]
  },
  {
   "cell_type": "code",
   "execution_count": 1,
   "metadata": {
    "id": "XWOCif4zy6eA"
   },
   "outputs": [],
   "source": [
    "import numpy as np\n",
    "import pandas as pd\n",
    "import itertools\n",
    "import os\n",
    "from time import time\n",
    "\n",
    "import seaborn as sns \n",
    "import matplotlib.pyplot as plt\n",
    "%matplotlib inline"
   ]
  },
  {
   "cell_type": "markdown",
   "metadata": {
    "id": "I_-gIrs6y6eC"
   },
   "source": [
    "## Загрузка предобработанных данных"
   ]
  },
  {
   "cell_type": "markdown",
   "metadata": {
    "id": "nPQLAhiB17jI"
   },
   "source": [
    "Настройка глобальных переменных"
   ]
  },
  {
   "cell_type": "code",
   "execution_count": 2,
   "metadata": {
    "colab": {
     "base_uri": "https://localhost:8080/"
    },
    "id": "xD-VPNBg0hLJ",
    "outputId": "44770818-cbbd-454d-a278-bf674e58c96c"
   },
   "outputs": [],
   "source": [
    "if 'google.colab' in str(get_ipython()):\n",
    "    data_dir = os.path.join(os.getcwd(), '/content/data/weatherAUS')\n",
    "else:\n",
    "    data_dir = os.path.join(os.getcwd(), '../../../data/weatherAUS')\n",
    "\n",
    "\n",
    "img_dir = os.path.join(os.getcwd(), 'img_knn')\n",
    "if not os.path.isdir(img_dir):\n",
    "    os.mkdir(img_dir)"
   ]
  },
  {
   "cell_type": "markdown",
   "metadata": {
    "id": "O0LcK9cWBy3R"
   },
   "source": [
    "Загрузка данных с репозитория"
   ]
  },
  {
   "cell_type": "code",
   "execution_count": 3,
   "metadata": {
    "colab": {
     "base_uri": "https://localhost:8080/",
     "height": 309
    },
    "id": "lIJO6f2uByQh",
    "outputId": "cda6beab-efbc-4b81-8f95-1c9ebe64158b"
   },
   "outputs": [],
   "source": [
    "if 'google.colab' in str(get_ipython()):\n",
    "    !pip install rm\n",
    "    !pip install wget\n",
    "    !pip install gzip-reader\n",
    "    !rm -r /content/data\n",
    "    !wget -P data/weatherAUS https://raw.githubusercontent.com/Aynur19/Machine-Learning/main/data/weatherAUS/weatherAUS_prepocessed.csv"
   ]
  },
  {
   "cell_type": "markdown",
   "metadata": {
    "id": "QnaDc9O_XRYq"
   },
   "source": [
    "Чтение и просмотр данных"
   ]
  },
  {
   "cell_type": "code",
   "execution_count": 4,
   "metadata": {
    "colab": {
     "base_uri": "https://localhost:8080/"
    },
    "id": "tIAReyT4y6eE",
    "outputId": "632d1fcd-76c4-4463-a46b-e1ee48de3b03"
   },
   "outputs": [
    {
     "data": {
      "text/html": [
       "<div>\n",
       "<style scoped>\n",
       "    .dataframe tbody tr th:only-of-type {\n",
       "        vertical-align: middle;\n",
       "    }\n",
       "\n",
       "    .dataframe tbody tr th {\n",
       "        vertical-align: top;\n",
       "    }\n",
       "\n",
       "    .dataframe thead th {\n",
       "        text-align: right;\n",
       "    }\n",
       "</style>\n",
       "<table border=\"1\" class=\"dataframe\">\n",
       "  <thead>\n",
       "    <tr style=\"text-align: right;\">\n",
       "      <th></th>\n",
       "      <th>MinTemp</th>\n",
       "      <th>MaxTemp</th>\n",
       "      <th>Rainfall</th>\n",
       "      <th>Evaporation</th>\n",
       "      <th>Sunshine</th>\n",
       "      <th>WindGustSpeed</th>\n",
       "      <th>WindSpeed9am</th>\n",
       "      <th>WindSpeed3pm</th>\n",
       "      <th>Humidity9am</th>\n",
       "      <th>Humidity3pm</th>\n",
       "      <th>...</th>\n",
       "      <th>WindDir3pm_NNW</th>\n",
       "      <th>WindDir3pm_NW</th>\n",
       "      <th>WindDir3pm_S</th>\n",
       "      <th>WindDir3pm_SE</th>\n",
       "      <th>WindDir3pm_SSE</th>\n",
       "      <th>WindDir3pm_SSW</th>\n",
       "      <th>WindDir3pm_SW</th>\n",
       "      <th>WindDir3pm_W</th>\n",
       "      <th>WindDir3pm_WNW</th>\n",
       "      <th>WindDir3pm_WSW</th>\n",
       "    </tr>\n",
       "  </thead>\n",
       "  <tbody>\n",
       "    <tr>\n",
       "      <th>0</th>\n",
       "      <td>17.7</td>\n",
       "      <td>35.1</td>\n",
       "      <td>0.0</td>\n",
       "      <td>9.8</td>\n",
       "      <td>12.9</td>\n",
       "      <td>72.0</td>\n",
       "      <td>15.0</td>\n",
       "      <td>33.0</td>\n",
       "      <td>63.0</td>\n",
       "      <td>13.0</td>\n",
       "      <td>...</td>\n",
       "      <td>0</td>\n",
       "      <td>1</td>\n",
       "      <td>0</td>\n",
       "      <td>0</td>\n",
       "      <td>0</td>\n",
       "      <td>0</td>\n",
       "      <td>0</td>\n",
       "      <td>0</td>\n",
       "      <td>0</td>\n",
       "      <td>0</td>\n",
       "    </tr>\n",
       "    <tr>\n",
       "      <th>1</th>\n",
       "      <td>18.5</td>\n",
       "      <td>23.0</td>\n",
       "      <td>0.0</td>\n",
       "      <td>11.0</td>\n",
       "      <td>5.9</td>\n",
       "      <td>63.0</td>\n",
       "      <td>15.0</td>\n",
       "      <td>35.0</td>\n",
       "      <td>63.0</td>\n",
       "      <td>58.0</td>\n",
       "      <td>...</td>\n",
       "      <td>0</td>\n",
       "      <td>0</td>\n",
       "      <td>0</td>\n",
       "      <td>1</td>\n",
       "      <td>0</td>\n",
       "      <td>0</td>\n",
       "      <td>0</td>\n",
       "      <td>0</td>\n",
       "      <td>0</td>\n",
       "      <td>0</td>\n",
       "    </tr>\n",
       "    <tr>\n",
       "      <th>2</th>\n",
       "      <td>18.7</td>\n",
       "      <td>27.1</td>\n",
       "      <td>0.0</td>\n",
       "      <td>5.4</td>\n",
       "      <td>11.3</td>\n",
       "      <td>65.0</td>\n",
       "      <td>24.0</td>\n",
       "      <td>48.0</td>\n",
       "      <td>60.0</td>\n",
       "      <td>51.0</td>\n",
       "      <td>...</td>\n",
       "      <td>0</td>\n",
       "      <td>0</td>\n",
       "      <td>0</td>\n",
       "      <td>0</td>\n",
       "      <td>0</td>\n",
       "      <td>0</td>\n",
       "      <td>0</td>\n",
       "      <td>0</td>\n",
       "      <td>0</td>\n",
       "      <td>0</td>\n",
       "    </tr>\n",
       "    <tr>\n",
       "      <th>3</th>\n",
       "      <td>20.2</td>\n",
       "      <td>31.6</td>\n",
       "      <td>0.0</td>\n",
       "      <td>10.0</td>\n",
       "      <td>12.2</td>\n",
       "      <td>63.0</td>\n",
       "      <td>11.0</td>\n",
       "      <td>35.0</td>\n",
       "      <td>58.0</td>\n",
       "      <td>52.0</td>\n",
       "      <td>...</td>\n",
       "      <td>0</td>\n",
       "      <td>0</td>\n",
       "      <td>0</td>\n",
       "      <td>0</td>\n",
       "      <td>0</td>\n",
       "      <td>0</td>\n",
       "      <td>0</td>\n",
       "      <td>0</td>\n",
       "      <td>0</td>\n",
       "      <td>0</td>\n",
       "    </tr>\n",
       "    <tr>\n",
       "      <th>4</th>\n",
       "      <td>19.9</td>\n",
       "      <td>29.7</td>\n",
       "      <td>0.0</td>\n",
       "      <td>10.0</td>\n",
       "      <td>11.8</td>\n",
       "      <td>41.0</td>\n",
       "      <td>19.0</td>\n",
       "      <td>20.0</td>\n",
       "      <td>82.0</td>\n",
       "      <td>54.0</td>\n",
       "      <td>...</td>\n",
       "      <td>0</td>\n",
       "      <td>0</td>\n",
       "      <td>0</td>\n",
       "      <td>0</td>\n",
       "      <td>0</td>\n",
       "      <td>0</td>\n",
       "      <td>0</td>\n",
       "      <td>0</td>\n",
       "      <td>0</td>\n",
       "      <td>0</td>\n",
       "    </tr>\n",
       "  </tbody>\n",
       "</table>\n",
       "<p>5 rows × 73 columns</p>\n",
       "</div>"
      ],
      "text/plain": [
       "   MinTemp  MaxTemp  Rainfall  Evaporation  Sunshine  WindGustSpeed  \\\n",
       "0     17.7     35.1       0.0          9.8      12.9           72.0   \n",
       "1     18.5     23.0       0.0         11.0       5.9           63.0   \n",
       "2     18.7     27.1       0.0          5.4      11.3           65.0   \n",
       "3     20.2     31.6       0.0         10.0      12.2           63.0   \n",
       "4     19.9     29.7       0.0         10.0      11.8           41.0   \n",
       "\n",
       "   WindSpeed9am  WindSpeed3pm  Humidity9am  Humidity3pm  ...  WindDir3pm_NNW  \\\n",
       "0          15.0          33.0         63.0         13.0  ...               0   \n",
       "1          15.0          35.0         63.0         58.0  ...               0   \n",
       "2          24.0          48.0         60.0         51.0  ...               0   \n",
       "3          11.0          35.0         58.0         52.0  ...               0   \n",
       "4          19.0          20.0         82.0         54.0  ...               0   \n",
       "\n",
       "   WindDir3pm_NW  WindDir3pm_S  WindDir3pm_SE  WindDir3pm_SSE  WindDir3pm_SSW  \\\n",
       "0              1             0              0               0               0   \n",
       "1              0             0              1               0               0   \n",
       "2              0             0              0               0               0   \n",
       "3              0             0              0               0               0   \n",
       "4              0             0              0               0               0   \n",
       "\n",
       "   WindDir3pm_SW  WindDir3pm_W  WindDir3pm_WNW  WindDir3pm_WSW  \n",
       "0              0             0               0               0  \n",
       "1              0             0               0               0  \n",
       "2              0             0               0               0  \n",
       "3              0             0               0               0  \n",
       "4              0             0               0               0  \n",
       "\n",
       "[5 rows x 73 columns]"
      ]
     },
     "execution_count": 4,
     "metadata": {},
     "output_type": "execute_result"
    }
   ],
   "source": [
    "df = pd.read_csv(os.path.join(data_dir, 'weatherAUS_prepocessed.csv'))\n",
    "df.head()"
   ]
  },
  {
   "cell_type": "markdown",
   "metadata": {},
   "source": [
    "Разделим данные на матрицу признаков и вектор ответов"
   ]
  },
  {
   "cell_type": "code",
   "execution_count": 6,
   "metadata": {
    "id": "PrsI49N-y6eW"
   },
   "outputs": [],
   "source": [
    "y = df['RainTomorrow']\n",
    "x = df.drop(['RainTomorrow'], axis=1)"
   ]
  },
  {
   "cell_type": "markdown",
   "metadata": {
    "id": "Bq7e5vGatJEw"
   },
   "source": [
    "Раздели данные на обучающие и тестовые выборки"
   ]
  },
  {
   "cell_type": "code",
   "execution_count": 7,
   "metadata": {
    "id": "gwBRqJhXy6eW"
   },
   "outputs": [],
   "source": [
    "from sklearn.model_selection import train_test_split\n",
    "\n",
    "# разделение выборок на обучающую и тестовую в соотношении 75/25\n",
    "x_train, x_test, y_train, y_test = train_test_split(x, y, test_size=0.25, random_state=0)"
   ]
  },
  {
   "cell_type": "markdown",
   "metadata": {
    "id": "MmD6VscOxk2A"
   },
   "source": [
    "## Вспомогательные функции"
   ]
  },
  {
   "cell_type": "markdown",
   "metadata": {
    "id": "85cUXgXXy6eX"
   },
   "source": [
    "Функция вычисления метрик при применении модели для тестовой выборки"
   ]
  },
  {
   "cell_type": "code",
   "execution_count": 8,
   "metadata": {
    "id": "diwQGbREy6eY"
   },
   "outputs": [],
   "source": [
    "# method - конкретный метод (модель)\n",
    "# x_test - тестовая выборка признаков\n",
    "# y_test - тестовая выборка ответов\n",
    "def compute_metrics(y_test, y_pred=None, method=None, x_test=None):\n",
    "  # применение модели на тестовой выборке\n",
    "  if y_pred is None:\n",
    "    y_pred = method.predict(x_test)\n",
    "\n",
    "  # вычисление матрицы ошибок по векторам реальных результатом и \n",
    "  # результатов, данных моделью на тестовой выборке\n",
    "  cfn_matrix = confusion_matrix(y_test, y_pred)\n",
    "\n",
    "  # оценка точности классификации моделью персептрона\n",
    "  accuracy = accuracy_score(y_test, y_pred)\n",
    "\n",
    "  # вычисление точности (precision = TP / (TP + FP))\n",
    "  precision = precision_score(y_test, y_pred)\n",
    "\n",
    "  # вычисление полноты (recall = TP / (TP + FN))\n",
    "  recall = recall_score(y_test, y_pred)\n",
    "\n",
    "  # вычисление F-меры - средней гармонической precision и recall: \n",
    "  # F1 = 2 * (precision * recall) / (precision + recall)\n",
    "  f1 = f1_score(y_test, y_pred)\n",
    "\n",
    "  print('Точность классификации: %0.2f' % (accuracy))\n",
    "  print('Точность (способность классификатора не отмечать один класс другим): %0.2f' % (precision))\n",
    "  print('Полнота (отзыв, способность классификатора отмечать все объекты одного класса): %0.2f' % (recall))      \n",
    "  print('F-мера (средневзвешенное значение точности и полноты): %0.2f' % (f1))\n",
    "\n",
    "  # возвращаем матрицу ошибок\n",
    "  return {'confusion_matrix': cfn_matrix, 'accuracy': accuracy, \n",
    "          'precision': precision, 'recall': recall, 'f1': f1}"
   ]
  },
  {
   "cell_type": "markdown",
   "metadata": {
    "id": "7NMwoZhBxysE"
   },
   "source": [
    "Функция вывода графика матрицы ошибок"
   ]
  },
  {
   "cell_type": "code",
   "execution_count": 9,
   "metadata": {
    "id": "iATOeNBzm0tv"
   },
   "outputs": [],
   "source": [
    "def plot_confusion_matrix(cm, classes, method_name: str, normalize=False,\n",
    "                          title='Confusion matrix', cmap=plt.cm.Blues):\n",
    "  \"\"\"\n",
    "  This function prints and plots the confusion matrix.\n",
    "  Normalization can be applied by setting `normalize=True`.\n",
    "  \"\"\"\n",
    "  font = {'size' : 15}\n",
    "  plt.rc('font', **font)\n",
    "  plt.figure(figsize=(10, 8))\n",
    "\n",
    "  plt.imshow(cm, interpolation='nearest', cmap=cmap)\n",
    "  plt.title(f'{title}')\n",
    "  plt.colorbar()\n",
    "  tick_marks = np.arange(len(classes))\n",
    "  plt.xticks(tick_marks, classes, rotation=45)\n",
    "  plt.yticks(tick_marks, classes)\n",
    "\n",
    "  if normalize:\n",
    "    cm = cm.astype('float') / cm.sum(axis=1)[:, np.newaxis]\n",
    "    print(\"Normalized confusion matrix\")\n",
    "  else:\n",
    "    print('Confusion matrix, without normalization')\n",
    "\n",
    "  print(cm)\n",
    "\n",
    "  thresh = cm.max() / 2.\n",
    "  for i, j in itertools.product(range(cm.shape[0]), range(cm.shape[1])):\n",
    "    plt.text(j, i, cm[i, j],\n",
    "             horizontalalignment=\"center\",\n",
    "             color=\"white\" if cm[i, j] > thresh else \"black\")\n",
    "\n",
    "  plt.tight_layout()\n",
    "  plt.ylabel('True label')\n",
    "  plt.xlabel('Predicted label')\n",
    "  plt.savefig(f'{os.path.join(img_dir, title)}.png')\n",
    "  plt.show()"
   ]
  },
  {
   "cell_type": "markdown",
   "metadata": {
    "id": "BnMhsa6fy6eY"
   },
   "source": [
    "Функция построения кривой AUC-ROC (площадь под кривой ошибок)"
   ]
  },
  {
   "cell_type": "code",
   "execution_count": 10,
   "metadata": {
    "id": "LRLLqhloy6eZ"
   },
   "outputs": [],
   "source": [
    "# функция построения кривой precision-recall и AOC-ROC\n",
    "# x_test - тестовая выборка признаковых описаний\n",
    "# y_test - тестовая выборка ответов\n",
    "# lr_probs - предсказание работы алгоритма на тестовой выборке\n",
    "# method_name - название метода\n",
    "def plot_precision_recall_ROC(x_test, y_test, lr_probs, method_name: str, title: str):\n",
    "  ns_probs = [0 for _ in range(len(y_test))]\n",
    "\n",
    "  ns_auc = roc_auc_score(y_test, ns_probs)\n",
    "  lr_auc = roc_auc_score(y_test, lr_probs)\n",
    "\n",
    "  print('No Skill: ROC AUC=%.3f' % (ns_auc))\n",
    "  print(method_name + ': ROC AUC=%.3f' % (lr_auc))\n",
    "\n",
    "  # вычисление AOC-ROC\n",
    "  ns_fpr, ns_tpr, _ = roc_curve(y_test, ns_probs)\n",
    "  lr_fpr, lr_tpr, _ = roc_curve(y_test, lr_probs)\n",
    "\n",
    "  # построение графиков\n",
    "  plt.plot(ns_fpr, ns_tpr, linestyle='--', label='Dummy Classifer')\n",
    "  plt.plot(lr_fpr, lr_tpr, marker='.', label=method_name)\n",
    "\n",
    "  # добавление подписей к осям\n",
    "  plt.xlabel('False Positive Rate')\n",
    "  plt.ylabel('True Positive Rate')\n",
    "\n",
    "  # вывод графика\n",
    "  plt.legend()\n",
    "  plt.title(f'{title}')\n",
    "  plt.savefig(f'{os.path.join(img_dir, title)}.png')\n",
    "  plt.show()"
   ]
  },
  {
   "cell_type": "markdown",
   "metadata": {
    "id": "N-Z5Wem5y6eZ"
   },
   "source": [
    "Функция построения графика для определения влияния порога на оценку"
   ]
  },
  {
   "cell_type": "code",
   "execution_count": 11,
   "metadata": {
    "id": "GrKYycdny6eZ"
   },
   "outputs": [],
   "source": [
    "# y_train - обучающая выборка ответов\n",
    "# y_scores - предсказание работы алгоритма на обучающей выборке \n",
    "def plot_precision_recall_thresholds(y_train, y_scores, title: str):\n",
    "    precisions, recalls, thresholds = precision_recall_curve(y_train, y_scores)\n",
    "\n",
    "    plt.ylim([0,1])\n",
    "    plt.plot(thresholds, precisions[:-1], 'b--', label='Precision')\n",
    "    plt.plot(thresholds, recalls[:-1], 'g-', label='Recall')\n",
    "    plt.xlabel('Thresholds')\n",
    "    plt.legend(loc='center left')\n",
    "    plt.title(f'{title}')\n",
    "    plt.savefig(f'{os.path.join(img_dir, title)}.png')\n",
    "    plt.show()"
   ]
  },
  {
   "cell_type": "markdown",
   "metadata": {
    "id": "TCdwNFb_yNHO"
   },
   "source": [
    "Функция получения лучших гиперпараметров через использование GridSearchCV"
   ]
  },
  {
   "cell_type": "code",
   "execution_count": 12,
   "metadata": {
    "id": "J8TNE39WT35W"
   },
   "outputs": [],
   "source": [
    "def get_best_params(model, param_grid, cv, scoring='accuracy'):\n",
    "  search = GridSearchCV(model, param_grid, scoring=scoring, cv=cv, n_jobs=-1)\n",
    "  results = search.fit(x_train, y_train)\n",
    "  print('Mean Accuracy: %.3f' % results.best_score_)\n",
    "  print('Config: %s' % results.best_params_)\n",
    "  return results.best_params_"
   ]
  },
  {
   "cell_type": "markdown",
   "metadata": {
    "id": "jPrghk8Ny6ea"
   },
   "source": [
    "## Применение моделей\n",
    "Подключение модулей"
   ]
  },
  {
   "cell_type": "code",
   "execution_count": 13,
   "metadata": {
    "id": "k3V_T9G_vcN0"
   },
   "outputs": [],
   "source": [
    "from sklearn.pipeline import make_pipeline\n",
    "\n",
    "from sklearn.model_selection import cross_val_score # проверка обучения модели кросс-валидацией\n",
    "from sklearn.model_selection import cross_val_predict\n",
    "\n",
    "from sklearn.metrics import confusion_matrix # для вычисления матрицы неточности\n",
    "from sklearn.metrics import accuracy_score # для вычисления точности предсказывания\n",
    "from sklearn.metrics import precision_score, recall_score, f1_score # для вычисления метрик (точность, полнота, F-мера и т.д.)\n",
    "from sklearn.metrics import precision_recall_curve\n",
    "from sklearn.metrics import roc_curve\n",
    "from sklearn.metrics import roc_auc_score\n",
    "from sklearn.metrics import precision_recall_curve"
   ]
  },
  {
   "cell_type": "markdown",
   "metadata": {
    "id": "BFc7qyOjy6eb"
   },
   "source": [
    "## Применение модели KNN (метод ближайших соседей)"
   ]
  },
  {
   "cell_type": "markdown",
   "metadata": {
    "id": "Do3stXG3sh7n"
   },
   "source": [
    "Подключение модулей"
   ]
  },
  {
   "cell_type": "code",
   "execution_count": 14,
   "metadata": {
    "id": "UMu4ED-UsmAp"
   },
   "outputs": [],
   "source": [
    "from sklearn.neighbors import KNeighborsClassifier"
   ]
  },
  {
   "cell_type": "markdown",
   "metadata": {
    "id": "dNQEo9KDmVK3"
   },
   "source": [
    "### Модель KNN с гиперпараметрами по умолчанию"
   ]
  },
  {
   "cell_type": "markdown",
   "metadata": {
    "id": "Q8Qvh03WsxfC"
   },
   "source": [
    "Перебор моделей KNN с разным числом содедей (от 1 до 40). Вывод графика ошибок алгоритма по обучающей выборке для каджой модели"
   ]
  },
  {
   "cell_type": "code",
   "execution_count": 15,
   "metadata": {
    "colab": {
     "base_uri": "https://localhost:8080/",
     "height": 326
    },
    "id": "SFAzGWKRtADa",
    "outputId": "50bf1722-8baa-4d59-cf2f-8a4b97642c28"
   },
   "outputs": [
    {
     "name": "stdout",
     "output_type": "stream",
     "text": [
      "Время перебора моделей KNN с разным числом соседей (от 1 до 40) на обучающей выборке: 910.70 секунд\n"
     ]
    },
    {
     "data": {
      "image/png": "[encoded data removed]",
      "text/plain": [
       "<Figure size 432x288 with 1 Axes>"
      ]
     },
     "metadata": {
      "needs_background": "light"
     },
     "output_type": "display_data"
    }
   ],
   "source": [
    "error_rate = []\n",
    "start_time = time()\n",
    "for i in range(1, 40):\n",
    "  clf_knn = KNeighborsClassifier(n_neighbors=i)\n",
    "  score = cross_val_score(clf_knn, x_train, y_train, cv=10)\n",
    "  error_rate.append(1 - score.mean())\n",
    "end_time = time()\n",
    "print(f'Время перебора моделей KNN с разным числом соседей (от 1 до 40) на обучающей выборке: {(end_time - start_time):.2f} секунд')\n",
    "    \n",
    "plt.plot(range(1, 40), error_rate, color='red', linestyle='dashed', marker='o', \n",
    "         markerfacecolor='blue', markersize=10)\n",
    "title = 'KNN. K value vs Error rate'\n",
    "plt.title('K value vs Error rate')\n",
    "plt.xlabel('K value')\n",
    "plt.ylabel('Error rate')\n",
    "plt.savefig(f'{os.path.join(img_dir, title)}.png')"
   ]
  },
  {
   "cell_type": "markdown",
   "metadata": {
    "id": "9cJFrXHEmejZ"
   },
   "source": [
    "Создание и настройка модели KNN с гиперпараметрами по умолчанию. Обучение модели и вывод точности работы алгоритма на обучающей выборке. Вывод графика кривой Precision-Recall в процессе кросс-валидации"
   ]
  },
  {
   "cell_type": "code",
   "execution_count": 16,
   "metadata": {
    "colab": {
     "base_uri": "https://localhost:8080/"
    },
    "id": "YOw39Zwry6eb",
    "outputId": "875b4d80-fd03-4602-94c6-51321772f102"
   },
   "outputs": [
    {
     "name": "stdout",
     "output_type": "stream",
     "text": [
      "Точность работы модели (KNN) на обучающей выборке: 0.8822019761324266\n",
      "Время обучения модели (KNN) на обучающей выборке: 0.84 секунд\n",
      "Cross Val Score: 84.06%\n",
      "Время кросс-валидация модели (KNN) на обучающей выборке: 19.71 секунд\n"
     ]
    }
   ],
   "source": [
    "clf_knn = KNeighborsClassifier()\n",
    "start_time = time()\n",
    "clf_knn.fit(x_train, y_train)\n",
    "end_time = time()\n",
    "# точность работы на обучающей выборке\n",
    "train_score = clf_knn.score(x_train, y_train)\n",
    "print(f'Точность работы модели (KNN) на обучающей выборке: {train_score}')\n",
    "print(f'Время обучения модели (KNN) на обучающей выборке: {(end_time - start_time):.2f} секунд')\n",
    "\n",
    "# кросс-валидация и вычисление средней точности\n",
    "start_time = time()\n",
    "cross_val = cross_val_score(clf_knn, x_train, y_train, cv = 10)\n",
    "end_time = time()\n",
    "print('Cross Val Score: {}%'.format(round(cross_val.mean() * 100, 2)))\n",
    "print(f'Время кросс-валидация модели (KNN) на обучающей выборке: {(end_time - start_time):.2f} секунд')"
   ]
  },
  {
   "cell_type": "markdown",
   "metadata": {
    "id": "ZFeWN4w9n1Uk"
   },
   "source": [
    "Вычисление метрик на тестовых данных и вывод матрицы ошибок"
   ]
  },
  {
   "cell_type": "code",
   "execution_count": 17,
   "metadata": {
    "colab": {
     "base_uri": "https://localhost:8080/",
     "height": 712
    },
    "id": "KlXGmUU1n5Tm",
    "outputId": "7abee18e-235c-4fd4-e627-fb010a5108e2"
   },
   "outputs": [
    {
     "name": "stdout",
     "output_type": "stream",
     "text": [
      "Точность классификации: 0.84\n",
      "Точность (способность классификатора не отмечать один класс другим): 0.88\n",
      "Полнота (отзыв, способность классификатора отмечать все объекты одного класса): 0.93\n",
      "F-мера (средневзвешенное значение точности и полноты): 0.90\n",
      "Confusion matrix, without normalization\n",
      "[[ 650  522]\n",
      " [ 286 3738]]\n"
     ]
    },
    {
     "data": {
      "image/png": "[encoded data removed]",
      "text/plain": [
       "<Figure size 720x576 with 2 Axes>"
      ]
     },
     "metadata": {
      "needs_background": "light"
     },
     "output_type": "display_data"
    }
   ],
   "source": [
    "metrics = compute_metrics(method=clf_knn, x_test=x_test, y_test=y_test)\n",
    "\n",
    "plot_confusion_matrix(metrics['confusion_matrix'], method_name='KNN', \n",
    "                      classes=['Non-churned', 'Churned'], \n",
    "                      title='KNN (default) Confusion matrix')"
   ]
  },
  {
   "cell_type": "markdown",
   "metadata": {
    "id": "uv6zOkbGoCd4"
   },
   "source": [
    "Построение кривой AUC-ROC (Area Under Curve - Receiver Operating Characteristic curve) - площадь под кривой *ошибок*"
   ]
  },
  {
   "cell_type": "code",
   "execution_count": 18,
   "metadata": {
    "colab": {
     "base_uri": "https://localhost:8080/",
     "height": 343
    },
    "id": "4M6Hof8coCEr",
    "outputId": "2470ae06-6d42-4769-85b1-0059c0ddc92e"
   },
   "outputs": [
    {
     "name": "stdout",
     "output_type": "stream",
     "text": [
      "No Skill: ROC AUC=0.500\n",
      "KNN: ROC AUC=0.841\n"
     ]
    },
    {
     "data": {
      "image/png": "[encoded data removed]",
      "text/plain": [
       "<Figure size 432x288 with 1 Axes>"
      ]
     },
     "metadata": {
      "needs_background": "light"
     },
     "output_type": "display_data"
    }
   ],
   "source": [
    "lr_probs = clf_knn.predict_proba(x_test)\n",
    "lr_probs = lr_probs[:,1]\n",
    "plot_precision_recall_ROC(x_test, y_test, lr_probs, method_name='KNN',\n",
    "                          title='KNN (default) AUC-ROC')"
   ]
  },
  {
   "cell_type": "markdown",
   "metadata": {
    "id": "5_kb2YZ2oUMj"
   },
   "source": [
    "Вывод графика для определения влияния порога на оценку "
   ]
  },
  {
   "cell_type": "code",
   "execution_count": 19,
   "metadata": {
    "colab": {
     "base_uri": "https://localhost:8080/",
     "height": 309
    },
    "id": "PQqgC7zFy6ec",
    "outputId": "526ea15b-0e70-4918-f663-aa4189bd2767"
   },
   "outputs": [
    {
     "data": {
      "image/png": "[encoded data removed]",
      "text/plain": [
       "<Figure size 432x288 with 1 Axes>"
      ]
     },
     "metadata": {
      "needs_background": "light"
     },
     "output_type": "display_data"
    }
   ],
   "source": [
    "# вывод графика для определения влияния порога на оценку \n",
    "y_scores = clf_knn.predict_proba(x_train)[:,1]\n",
    "plot_precision_recall_thresholds(y_train, y_scores, title='KNN (default) PR Thresholds on Test')"
   ]
  },
  {
   "cell_type": "markdown",
   "metadata": {
    "id": "PTIlQLEa8CbM"
   },
   "source": [
    "### Модель KNN с гиперпараметрами, подобранными с помощью GridSearchCV\n",
    "Подбор лучших гиперпараметров с помощью GridSearchCV"
   ]
  },
  {
   "cell_type": "code",
   "execution_count": null,
   "metadata": {
    "colab": {
     "base_uri": "https://localhost:8080/"
    },
    "id": "jq9kpqiFoUsa",
    "outputId": "aa53b318-a448-4c1d-8a32-c37b2920e85b"
   },
   "outputs": [
    {
     "name": "stdout",
     "output_type": "stream",
     "text": [
      "Mean Accuracy: 0.849\n",
      "Config: {'n_neighbors': 19, 'weights': 'distance'}\n"
     ]
    },
    {
     "data": {
      "text/plain": [
       "{'n_neighbors': 19, 'weights': 'distance'}"
      ]
     },
     "execution_count": 62,
     "metadata": {
      "tags": []
     },
     "output_type": "execute_result"
    }
   ],
   "source": [
    "# weight_options = [\"uniform\", \"distance\"]\n",
    "# param_grid = {\n",
    "#     'n_neighbors' : list(range(1, 20)), \n",
    "#     'weights' : ['uniform', 'distance']\n",
    "#     }\n",
    "\n",
    "# clf = KNeighborsClassifier()\n",
    "# cv = RepeatedStratifiedKFold(n_splits=10, n_repeats=3, random_state=1)\n",
    "# best_params = get_best_params(clf, param_grid, cv=cv, scoring='accuracy')\n",
    "# best_params"
   ]
  },
  {
   "cell_type": "markdown",
   "metadata": {
    "id": "1CUaTVv0T11p"
   },
   "source": [
    "Создание модели KNN с указанием лучших гиперпараметров, подобранных с помощью GridSearchCV. Обучение модели и вывод точности работы алгоритма на обуающей выборке. Вывод графика кривой Precision-Recall в процессе кросс-валидации"
   ]
  },
  {
   "cell_type": "code",
   "execution_count": 20,
   "metadata": {
    "colab": {
     "base_uri": "https://localhost:8080/"
    },
    "id": "-uCVze909IKv",
    "outputId": "674303e8-232b-4f9f-df3a-81d2e29ef394"
   },
   "outputs": [
    {
     "name": "stdout",
     "output_type": "stream",
     "text": [
      "Точность работы модели (KNN) на обучающей выборке: 1.0\n",
      "Время обучения модели (KNN) на обучающей выборке: 0.98 секунд\n",
      "Cross Val Score: 85.06%\n",
      "Время кросс-валидация модели (KNN) на обучающей выборке: 21.70 секунд\n"
     ]
    }
   ],
   "source": [
    "clf_knn_cv = KNeighborsClassifier(n_neighbors=19, weights='distance')\n",
    "start_time = time()\n",
    "clf_knn_cv.fit(x_train, y_train)\n",
    "end_time = time()\n",
    "# точность работы на обучающей выборке\n",
    "train_score = clf_knn_cv.score(x_train, y_train)\n",
    "print(f'Точность работы модели (KNN) на обучающей выборке: {train_score}')\n",
    "print(f'Время обучения модели (KNN) на обучающей выборке: {(end_time - start_time):.2f} секунд')\n",
    "\n",
    "# кросс-валидация и вычисление средней точности\n",
    "start_time = time()\n",
    "cross_val = cross_val_score(clf_knn_cv, x_train, y_train, cv = 10)\n",
    "end_time = time()\n",
    "print('Cross Val Score: {}%'.format(round(cross_val.mean() * 100, 2)))\n",
    "print(f'Время кросс-валидация модели (KNN) на обучающей выборке: {(end_time - start_time):.2f} секунд')"
   ]
  },
  {
   "cell_type": "markdown",
   "metadata": {
    "id": "wTB6oCSKUMoj"
   },
   "source": [
    "Вычисление метрик на тестовых данных и вывод матрицы ошибок"
   ]
  },
  {
   "cell_type": "code",
   "execution_count": 21,
   "metadata": {
    "colab": {
     "base_uri": "https://localhost:8080/",
     "height": 712
    },
    "id": "RvWNgxtgUNJM",
    "outputId": "ba3829b0-aa87-4d54-ef86-e8c04175584b"
   },
   "outputs": [
    {
     "name": "stdout",
     "output_type": "stream",
     "text": [
      "Точность классификации: 0.85\n",
      "Точность (способность классификатора не отмечать один класс другим): 0.87\n",
      "Полнота (отзыв, способность классификатора отмечать все объекты одного класса): 0.95\n",
      "F-мера (средневзвешенное значение точности и полноты): 0.91\n",
      "Confusion matrix, without normalization\n",
      "[[ 607  565]\n",
      " [ 211 3813]]\n"
     ]
    },
    {
     "data": {
      "image/png": "[encoded data removed]",
      "text/plain": [
       "<Figure size 720x576 with 2 Axes>"
      ]
     },
     "metadata": {
      "needs_background": "light"
     },
     "output_type": "display_data"
    }
   ],
   "source": [
    "metrics = compute_metrics(method=clf_knn_cv, x_test=x_test, y_test=y_test)\n",
    "\n",
    "plot_confusion_matrix(metrics['confusion_matrix'], method_name='KNN', \n",
    "                      classes=['Non-churned', 'Churned'], \n",
    "                      title='KNN (GridSearchCV) Confusion matrix')"
   ]
  },
  {
   "cell_type": "markdown",
   "metadata": {
    "id": "WikJnhMVV7mr"
   },
   "source": [
    "Построение кривой AUC-ROC (Area Under Curve - Receiver Operating Characteristic curve) - площадь под кривой *ошибок*"
   ]
  },
  {
   "cell_type": "code",
   "execution_count": 22,
   "metadata": {
    "colab": {
     "base_uri": "https://localhost:8080/",
     "height": 343
    },
    "id": "_3g_ZP1QV8QZ",
    "outputId": "71428d1c-d777-4fb6-a543-235d34eba5dc"
   },
   "outputs": [
    {
     "name": "stdout",
     "output_type": "stream",
     "text": [
      "No Skill: ROC AUC=0.500\n",
      "KNN: ROC AUC=0.880\n"
     ]
    },
    {
     "data": {
      "image/png": "[encoded data removed]",
      "text/plain": [
       "<Figure size 432x288 with 1 Axes>"
      ]
     },
     "metadata": {
      "needs_background": "light"
     },
     "output_type": "display_data"
    }
   ],
   "source": [
    "lr_probs = clf_knn_cv.predict_proba(x_test)\n",
    "lr_probs = lr_probs[:,1]\n",
    "plot_precision_recall_ROC(x_test, y_test, lr_probs, method_name='KNN',\n",
    "                          title='KNN (GridSearchCV) AUC-ROC')"
   ]
  },
  {
   "cell_type": "markdown",
   "metadata": {
    "id": "s7WuJEVSWNYw"
   },
   "source": [
    "Вывод графика для определения влияния порога на оценку"
   ]
  },
  {
   "cell_type": "code",
   "execution_count": 23,
   "metadata": {
    "colab": {
     "base_uri": "https://localhost:8080/",
     "height": 309
    },
    "id": "aaRxzVulWOF6",
    "outputId": "6fc8ab3e-f3a2-481e-f0cd-d44e49212eb6"
   },
   "outputs": [
    {
     "data": {
      "image/png": "[encoded data removed]",
      "text/plain": [
       "<Figure size 432x288 with 1 Axes>"
      ]
     },
     "metadata": {
      "needs_background": "light"
     },
     "output_type": "display_data"
    }
   ],
   "source": [
    "# вывод графика для определения влияния порога на оценку \n",
    "y_scores = clf_knn_cv.predict_proba(x_train)[:,1]\n",
    "plot_precision_recall_thresholds(y_train, y_scores, title='KNN (GridSearchCV) PR Thresholds on Test')"
   ]
  },
  {
   "cell_type": "code",
   "execution_count": null,
   "metadata": {},
   "outputs": [],
   "source": []
  }
 ],
 "metadata": {
  "colab": {
   "collapsed_sections": [
    "JA-Jjrkry6eT"
   ],
   "name": "BinaryClassification_RainInAustralia_KNN.ipynb",
   "provenance": [],
   "toc_visible": true
  },
  "kernelspec": {
   "display_name": "Python 3",
   "language": "python",
   "name": "python3"
  },
  "language_info": {
   "codemirror_mode": {
    "name": "ipython",
    "version": 3
   },
   "file_extension": ".py",
   "mimetype": "text/x-python",
   "name": "python",
   "nbconvert_exporter": "python",
   "pygments_lexer": "ipython3",
   "version": "3.8.5"
  }
 },
 "nbformat": 4,
 "nbformat_minor": 1
}
