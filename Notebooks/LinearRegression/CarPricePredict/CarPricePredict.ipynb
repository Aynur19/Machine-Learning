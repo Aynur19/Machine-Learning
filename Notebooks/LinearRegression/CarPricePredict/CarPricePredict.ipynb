{
 "cells": [
  {
   "cell_type": "markdown",
   "id": "still-architecture",
   "metadata": {
    "id": "still-architecture"
   },
   "source": [
    "### Подключение библиотек и пакетов"
   ]
  },
  {
   "cell_type": "code",
   "execution_count": 1,
   "id": "NFtLm9XEkMS2",
   "metadata": {
    "id": "NFtLm9XEkMS2"
   },
   "outputs": [],
   "source": [
    "import numpy as np\n",
    "import pandas as pd\n",
    "import os\n",
    "\n",
    "import seaborn as sns \n",
    "import matplotlib.pyplot as plt\n",
    "%matplotlib inline"
   ]
  },
  {
   "cell_type": "markdown",
   "id": "D7tjSd-LkcsA",
   "metadata": {
    "id": "D7tjSd-LkcsA"
   },
   "source": [
    "## Настройка глобальных переменных"
   ]
  },
  {
   "cell_type": "code",
   "execution_count": 2,
   "id": "08pvRQmekZ7V",
   "metadata": {
    "id": "08pvRQmekZ7V"
   },
   "outputs": [],
   "source": [
    "if 'google.colab' in str(get_ipython()):\n",
    "    data_dir = os.path.join(os.getcwd(), '/content/data/car_price')\n",
    "else:\n",
    "    data_dir = os.path.join(os.getcwd(), '../../../data/car_price')\n",
    "\n",
    "\n",
    "img_dir = os.path.join(os.getcwd(), 'img_data_preproccecing')\n",
    "if not os.path.isdir(img_dir):\n",
    "    os.mkdir(img_dir)"
   ]
  },
  {
   "cell_type": "markdown",
   "id": "zythC0lvkspM",
   "metadata": {
    "id": "zythC0lvkspM"
   },
   "source": [
    "## Настройка pandas"
   ]
  },
  {
   "cell_type": "code",
   "execution_count": 3,
   "id": "tNY7MxRuy6eB",
   "metadata": {
    "id": "tNY7MxRuy6eB"
   },
   "outputs": [],
   "source": [
    "# установка максимального количества столбцов и строк для вывода\n",
    "pd.set_option(\"display.max_columns\", 100)\n",
    "pd.set_option(\"display.max_rows\", 25)\n",
    "\n",
    "# установка количества знаков после запятой\n",
    "pd.set_option(\"precision\", 2)"
   ]
  },
  {
   "cell_type": "markdown",
   "id": "yqzxAf2Gk0tm",
   "metadata": {
    "id": "yqzxAf2Gk0tm"
   },
   "source": [
    "## Просмотр первичных (сырых) данных"
   ]
  },
  {
   "cell_type": "markdown",
   "id": "GygYbQnRk4vJ",
   "metadata": {
    "id": "GygYbQnRk4vJ"
   },
   "source": [
    "Загрузка данных с репозитория и чтение данных"
   ]
  },
  {
   "cell_type": "code",
   "execution_count": 4,
   "id": "9dLdlBIHlBc9",
   "metadata": {
    "colab": {
     "base_uri": "https://localhost:8080/"
    },
    "id": "9dLdlBIHlBc9",
    "outputId": "679b2db5-d9c3-4ad9-ec47-ea16122af543"
   },
   "outputs": [],
   "source": [
    "if 'google.colab' in str(get_ipython()):\n",
    "    !pip install rm\n",
    "    !pip install wget\n",
    "    !pip install gzip-reader\n",
    "    !rm -r /content/data\n",
    "    !wget -P data/car_price https://raw.githubusercontent.com/Aynur19/Machine-Learning/main/data/car_price/car_price.csv"
   ]
  },
  {
   "cell_type": "markdown",
   "id": "re8FCNfgnLw5",
   "metadata": {
    "id": "re8FCNfgnLw5"
   },
   "source": [
    "Чтение данных"
   ]
  },
  {
   "cell_type": "code",
   "execution_count": 5,
   "id": "T9dvM4ZCnN6H",
   "metadata": {
    "colab": {
     "base_uri": "https://localhost:8080/",
     "height": 204
    },
    "id": "T9dvM4ZCnN6H",
    "outputId": "af30460b-966b-41c7-aa89-1d92293d0949"
   },
   "outputs": [
    {
     "data": {
      "text/html": [
       "<div>\n",
       "<style scoped>\n",
       "    .dataframe tbody tr th:only-of-type {\n",
       "        vertical-align: middle;\n",
       "    }\n",
       "\n",
       "    .dataframe tbody tr th {\n",
       "        vertical-align: top;\n",
       "    }\n",
       "\n",
       "    .dataframe thead th {\n",
       "        text-align: right;\n",
       "    }\n",
       "</style>\n",
       "<table border=\"1\" class=\"dataframe\">\n",
       "  <thead>\n",
       "    <tr style=\"text-align: right;\">\n",
       "      <th></th>\n",
       "      <th>make_model</th>\n",
       "      <th>body_type</th>\n",
       "      <th>Body Color</th>\n",
       "      <th>km</th>\n",
       "      <th>hp</th>\n",
       "      <th>Gearing Type</th>\n",
       "      <th>Extras</th>\n",
       "      <th>price</th>\n",
       "    </tr>\n",
       "  </thead>\n",
       "  <tbody>\n",
       "    <tr>\n",
       "      <th>0</th>\n",
       "      <td>Audi A1</td>\n",
       "      <td>Sedans</td>\n",
       "      <td>Black</td>\n",
       "      <td>56013</td>\n",
       "      <td>85</td>\n",
       "      <td>Automatic</td>\n",
       "      <td>Alloy wheels,Catalytic Converter,Voice Control</td>\n",
       "      <td>15770</td>\n",
       "    </tr>\n",
       "    <tr>\n",
       "      <th>1</th>\n",
       "      <td>Audi A1</td>\n",
       "      <td>Sedans</td>\n",
       "      <td>Red</td>\n",
       "      <td>80000</td>\n",
       "      <td>85</td>\n",
       "      <td>Automatic</td>\n",
       "      <td>Alloy wheels,Sport seats,Sport suspension,Voic...</td>\n",
       "      <td>14500</td>\n",
       "    </tr>\n",
       "    <tr>\n",
       "      <th>2</th>\n",
       "      <td>Audi A1</td>\n",
       "      <td>Sedans</td>\n",
       "      <td>Black</td>\n",
       "      <td>83450</td>\n",
       "      <td>85</td>\n",
       "      <td>Automatic</td>\n",
       "      <td>Alloy wheels,Voice Control</td>\n",
       "      <td>14640</td>\n",
       "    </tr>\n",
       "    <tr>\n",
       "      <th>3</th>\n",
       "      <td>Audi A1</td>\n",
       "      <td>Sedans</td>\n",
       "      <td>Brown</td>\n",
       "      <td>73000</td>\n",
       "      <td>85</td>\n",
       "      <td>Automatic</td>\n",
       "      <td>Alloy wheels,Sport seats,Voice Control</td>\n",
       "      <td>14500</td>\n",
       "    </tr>\n",
       "    <tr>\n",
       "      <th>4</th>\n",
       "      <td>Audi A1</td>\n",
       "      <td>Sedans</td>\n",
       "      <td>Black</td>\n",
       "      <td>16200</td>\n",
       "      <td>85</td>\n",
       "      <td>Automatic</td>\n",
       "      <td>Alloy wheels,Sport package,Sport suspension,Vo...</td>\n",
       "      <td>16790</td>\n",
       "    </tr>\n",
       "  </tbody>\n",
       "</table>\n",
       "</div>"
      ],
      "text/plain": [
       "  make_model body_type Body Color     km  hp Gearing Type  \\\n",
       "0    Audi A1    Sedans      Black  56013  85    Automatic   \n",
       "1    Audi A1    Sedans        Red  80000  85    Automatic   \n",
       "2    Audi A1    Sedans      Black  83450  85    Automatic   \n",
       "3    Audi A1    Sedans      Brown  73000  85    Automatic   \n",
       "4    Audi A1    Sedans      Black  16200  85    Automatic   \n",
       "\n",
       "                                              Extras  price  \n",
       "0     Alloy wheels,Catalytic Converter,Voice Control  15770  \n",
       "1  Alloy wheels,Sport seats,Sport suspension,Voic...  14500  \n",
       "2                         Alloy wheels,Voice Control  14640  \n",
       "3             Alloy wheels,Sport seats,Voice Control  14500  \n",
       "4  Alloy wheels,Sport package,Sport suspension,Vo...  16790  "
      ]
     },
     "execution_count": 5,
     "metadata": {},
     "output_type": "execute_result"
    }
   ],
   "source": [
    "df = pd.read_csv(os.path.join(data_dir, 'car_price.csv'))\n",
    "df.head()"
   ]
  },
  {
   "cell_type": "markdown",
   "id": "HIVir_jZnm8m",
   "metadata": {
    "id": "HIVir_jZnm8m"
   },
   "source": [
    "Вывод основной информации по набору данных"
   ]
  },
  {
   "cell_type": "code",
   "execution_count": 6,
   "id": "written-crazy",
   "metadata": {
    "colab": {
     "base_uri": "https://localhost:8080/"
    },
    "id": "written-crazy",
    "outputId": "42e89740-7a1f-4aa6-f3d1-144e181d6cf4"
   },
   "outputs": [
    {
     "name": "stdout",
     "output_type": "stream",
     "text": [
      "Количество строк: 4800\n",
      "Количество столбцов: 8\n",
      "Вывод общей информации по датафрейму и признакам:\n",
      "\n",
      "<class 'pandas.core.frame.DataFrame'>\n",
      "RangeIndex: 4800 entries, 0 to 4799\n",
      "Data columns (total 8 columns):\n",
      " #   Column        Non-Null Count  Dtype \n",
      "---  ------        --------------  ----- \n",
      " 0   make_model    4800 non-null   object\n",
      " 1   body_type     4800 non-null   object\n",
      " 2   Body Color    4800 non-null   object\n",
      " 3   km            4800 non-null   int64 \n",
      " 4   hp            4800 non-null   int64 \n",
      " 5   Gearing Type  4800 non-null   object\n",
      " 6   Extras        4800 non-null   object\n",
      " 7   price         4800 non-null   int64 \n",
      "dtypes: int64(3), object(5)\n",
      "memory usage: 300.1+ KB\n",
      "None\n"
     ]
    }
   ],
   "source": [
    "print(f'Количество строк: {df.shape[0]}')\n",
    "print(f'Количество столбцов: {df.shape[1]}')\n",
    "print(f'Вывод общей информации по датафрейму и признакам:\\n')\n",
    "print(df.info())"
   ]
  },
  {
   "cell_type": "markdown",
   "id": "0Ci3PpAB1HtS",
   "metadata": {
    "id": "0Ci3PpAB1HtS"
   },
   "source": [
    "Описания признаков:\n",
    "\n",
    "|Название|Перевод|Тип данных|Тип признака|\n",
    "|---|---|---|---|\n",
    "|make_model|Модель|Строка|Категриальный|\n",
    "|body_type|Тип кузова|Строка|Категориальный|\n",
    "|Body Color|Цвет кузова|Строка|Категориальный|\n",
    "|km|Пробег в км.|Число|Количественный|\n",
    "|hp|Мощность в у.е.|Число|Количественный|\n",
    "|transmission|Тип КПП|Строка|Категориальный|\n",
    "|extras|Дополнительные опции|Строка|Категориальный|\n",
    "|price|Стоимость|Число|Количественный|"
   ]
  },
  {
   "cell_type": "markdown",
   "id": "iHyZQs45nuR8",
   "metadata": {
    "id": "iHyZQs45nuR8"
   },
   "source": [
    "Вывод основных статистических характеристик по числовым признакам"
   ]
  },
  {
   "cell_type": "code",
   "execution_count": 7,
   "id": "Vcv5wKOOnxkr",
   "metadata": {
    "colab": {
     "base_uri": "https://localhost:8080/",
     "height": 297
    },
    "id": "Vcv5wKOOnxkr",
    "outputId": "9648815c-7f2a-48fa-b535-17e17d560c0b"
   },
   "outputs": [
    {
     "data": {
      "text/html": [
       "<div>\n",
       "<style scoped>\n",
       "    .dataframe tbody tr th:only-of-type {\n",
       "        vertical-align: middle;\n",
       "    }\n",
       "\n",
       "    .dataframe tbody tr th {\n",
       "        vertical-align: top;\n",
       "    }\n",
       "\n",
       "    .dataframe thead th {\n",
       "        text-align: right;\n",
       "    }\n",
       "</style>\n",
       "<table border=\"1\" class=\"dataframe\">\n",
       "  <thead>\n",
       "    <tr style=\"text-align: right;\">\n",
       "      <th></th>\n",
       "      <th>km</th>\n",
       "      <th>hp</th>\n",
       "      <th>price</th>\n",
       "    </tr>\n",
       "  </thead>\n",
       "  <tbody>\n",
       "    <tr>\n",
       "      <th>count</th>\n",
       "      <td>4800.00</td>\n",
       "      <td>4800.0</td>\n",
       "      <td>4800.00</td>\n",
       "    </tr>\n",
       "    <tr>\n",
       "      <th>mean</th>\n",
       "      <td>31912.91</td>\n",
       "      <td>85.0</td>\n",
       "      <td>19722.87</td>\n",
       "    </tr>\n",
       "    <tr>\n",
       "      <th>std</th>\n",
       "      <td>35899.45</td>\n",
       "      <td>0.0</td>\n",
       "      <td>4337.52</td>\n",
       "    </tr>\n",
       "    <tr>\n",
       "      <th>min</th>\n",
       "      <td>0.00</td>\n",
       "      <td>85.0</td>\n",
       "      <td>5555.00</td>\n",
       "    </tr>\n",
       "    <tr>\n",
       "      <th>25%</th>\n",
       "      <td>4700.00</td>\n",
       "      <td>85.0</td>\n",
       "      <td>15990.00</td>\n",
       "    </tr>\n",
       "    <tr>\n",
       "      <th>50%</th>\n",
       "      <td>20005.00</td>\n",
       "      <td>85.0</td>\n",
       "      <td>19588.00</td>\n",
       "    </tr>\n",
       "    <tr>\n",
       "      <th>75%</th>\n",
       "      <td>47800.00</td>\n",
       "      <td>85.0</td>\n",
       "      <td>22692.50</td>\n",
       "    </tr>\n",
       "    <tr>\n",
       "      <th>max</th>\n",
       "      <td>291800.00</td>\n",
       "      <td>85.0</td>\n",
       "      <td>56100.00</td>\n",
       "    </tr>\n",
       "  </tbody>\n",
       "</table>\n",
       "</div>"
      ],
      "text/plain": [
       "              km      hp     price\n",
       "count    4800.00  4800.0   4800.00\n",
       "mean    31912.91    85.0  19722.87\n",
       "std     35899.45     0.0   4337.52\n",
       "min         0.00    85.0   5555.00\n",
       "25%      4700.00    85.0  15990.00\n",
       "50%     20005.00    85.0  19588.00\n",
       "75%     47800.00    85.0  22692.50\n",
       "max    291800.00    85.0  56100.00"
      ]
     },
     "execution_count": 7,
     "metadata": {},
     "output_type": "execute_result"
    }
   ],
   "source": [
    "df.describe()"
   ]
  },
  {
   "cell_type": "markdown",
   "id": "selected-victory",
   "metadata": {
    "id": "selected-victory"
   },
   "source": [
    "## Предварительная обработка данных  (Data Preprocessing)"
   ]
  },
  {
   "cell_type": "markdown",
   "id": "Unt3X95Yoo_K",
   "metadata": {
    "id": "Unt3X95Yoo_K"
   },
   "source": [
    "Видно, что признак 'hp' (мощность) у всех объектов имеет одно и то же значение. Следовательно, данный признак неинформативный, и его можно удалить"
   ]
  },
  {
   "cell_type": "code",
   "execution_count": 8,
   "id": "k9KeBjNMvAGw",
   "metadata": {
    "id": "k9KeBjNMvAGw"
   },
   "outputs": [],
   "source": [
    "df.drop(['hp'], axis=1, inplace=True)"
   ]
  },
  {
   "cell_type": "markdown",
   "id": "6Mg4qS3dzbOQ",
   "metadata": {
    "id": "6Mg4qS3dzbOQ"
   },
   "source": [
    "Переименуем признаки на более удобо-читаемые названия"
   ]
  },
  {
   "cell_type": "code",
   "execution_count": 9,
   "id": "heAtcUzO4RMX",
   "metadata": {
    "colab": {
     "base_uri": "https://localhost:8080/"
    },
    "id": "heAtcUzO4RMX",
    "outputId": "353889c1-cace-4d7c-cfaa-8ed96707ac00"
   },
   "outputs": [
    {
     "name": "stdout",
     "output_type": "stream",
     "text": [
      "<class 'pandas.core.frame.DataFrame'>\n",
      "RangeIndex: 4800 entries, 0 to 4799\n",
      "Data columns (total 7 columns):\n",
      " #   Column        Non-Null Count  Dtype \n",
      "---  ------        --------------  ----- \n",
      " 0   model         4800 non-null   object\n",
      " 1   body          4800 non-null   object\n",
      " 2   color         4800 non-null   object\n",
      " 3   km            4800 non-null   int64 \n",
      " 4   transmission  4800 non-null   object\n",
      " 5   extras        4800 non-null   object\n",
      " 6   price         4800 non-null   int64 \n",
      "dtypes: int64(2), object(5)\n",
      "memory usage: 262.6+ KB\n"
     ]
    }
   ],
   "source": [
    "df.columns = ['model', 'body', 'color', 'km', 'transmission', 'extras', 'price']\n",
    "df.info()"
   ]
  },
  {
   "cell_type": "markdown",
   "id": "6Uz8uS2-oAeW",
   "metadata": {
    "id": "6Uz8uS2-oAeW"
   },
   "source": [
    "По выведенной информации выше видно, что данные не имеют пропусков. Сначала выведем график отношений признаков друг с другом"
   ]
  },
  {
   "cell_type": "code",
   "execution_count": 23,
   "id": "measured-phoenix",
   "metadata": {
    "colab": {
     "base_uri": "https://localhost:8080/",
     "height": 374
    },
    "id": "measured-phoenix",
    "outputId": "d54c07c0-68ea-4017-ba2e-bfe3543002fb"
   },
   "outputs": [
    {
     "data": {
      "image/png": "[encoded data removed]",
      "text/plain": [
       "<Figure size 360x360 with 6 Axes>"
      ]
     },
     "metadata": {},
     "output_type": "display_data"
    }
   ],
   "source": [
    "# вывод графика отношений признаков друг с другом числовых признаков\n",
    "sns.pairplot(df)\n",
    "plt.savefig(os.path.join(img_dir, 'Car Price Prediction. Features Pair Plot.png'))"
   ]
  },
  {
   "cell_type": "markdown",
   "id": "6pUpTNKJkpjD",
   "metadata": {
    "id": "6pUpTNKJkpjD"
   },
   "source": [
    "Видно, что признак `km` (пробег автомобиля) отрицательно коррелирует с целевым признаком `price` (стоимость). Узнаем насколько сильна корреляция "
   ]
  },
  {
   "cell_type": "code",
   "execution_count": 24,
   "id": "TGH_kqclFvfL",
   "metadata": {
    "colab": {
     "base_uri": "https://localhost:8080/",
     "height": 269
    },
    "id": "TGH_kqclFvfL",
    "outputId": "d4c257b0-9519-4ea4-d24f-c34402f71a04"
   },
   "outputs": [
    {
     "data": {
      "image/png": "[encoded data removed]",
      "text/plain": [
       "<Figure size 360x288 with 2 Axes>"
      ]
     },
     "metadata": {},
     "output_type": "display_data"
    }
   ],
   "source": [
    "# Визуализация матрицы корреляции: построение корреляционной карты\n",
    "f, ax = plt.subplots(figsize=(5, 4))\n",
    "sns.heatmap(df.corr(), annot=True, cmap=\"RdYlGn\", linewidths=.5, fmt= '.2f',ax=ax);\n",
    "plt.savefig(os.path.join(img_dir, 'Car Price Prediction. Features Corellation Matrix.png'))"
   ]
  },
  {
   "cell_type": "markdown",
   "id": "YMwK10QMzxO2",
   "metadata": {
    "id": "YMwK10QMzxO2"
   },
   "source": [
    "Выведем статистику по нечисловым признакам"
   ]
  },
  {
   "cell_type": "code",
   "execution_count": 25,
   "id": "SGOy_K6ljmIL",
   "metadata": {
    "colab": {
     "base_uri": "https://localhost:8080/",
     "height": 173
    },
    "id": "SGOy_K6ljmIL",
    "outputId": "333bce38-ec07-4895-89e3-387274c448ec"
   },
   "outputs": [
    {
     "data": {
      "text/html": [
       "<div>\n",
       "<style scoped>\n",
       "    .dataframe tbody tr th:only-of-type {\n",
       "        vertical-align: middle;\n",
       "    }\n",
       "\n",
       "    .dataframe tbody tr th {\n",
       "        vertical-align: top;\n",
       "    }\n",
       "\n",
       "    .dataframe thead th {\n",
       "        text-align: right;\n",
       "    }\n",
       "</style>\n",
       "<table border=\"1\" class=\"dataframe\">\n",
       "  <thead>\n",
       "    <tr style=\"text-align: right;\">\n",
       "      <th></th>\n",
       "      <th>model</th>\n",
       "      <th>body</th>\n",
       "      <th>color</th>\n",
       "      <th>transmission</th>\n",
       "      <th>extras</th>\n",
       "    </tr>\n",
       "  </thead>\n",
       "  <tbody>\n",
       "    <tr>\n",
       "      <th>count</th>\n",
       "      <td>4800</td>\n",
       "      <td>4800</td>\n",
       "      <td>4800</td>\n",
       "      <td>4800</td>\n",
       "      <td>4800</td>\n",
       "    </tr>\n",
       "    <tr>\n",
       "      <th>unique</th>\n",
       "      <td>3</td>\n",
       "      <td>7</td>\n",
       "      <td>13</td>\n",
       "      <td>3</td>\n",
       "      <td>325</td>\n",
       "    </tr>\n",
       "    <tr>\n",
       "      <th>top</th>\n",
       "      <td>Audi A3</td>\n",
       "      <td>Sedans</td>\n",
       "      <td>Black</td>\n",
       "      <td>Manual</td>\n",
       "      <td>Alloy wheels</td>\n",
       "    </tr>\n",
       "    <tr>\n",
       "      <th>freq</th>\n",
       "      <td>2642</td>\n",
       "      <td>3495</td>\n",
       "      <td>1443</td>\n",
       "      <td>2435</td>\n",
       "      <td>1717</td>\n",
       "    </tr>\n",
       "  </tbody>\n",
       "</table>\n",
       "</div>"
      ],
      "text/plain": [
       "          model    body  color transmission        extras\n",
       "count      4800    4800   4800         4800          4800\n",
       "unique        3       7     13            3           325\n",
       "top     Audi A3  Sedans  Black       Manual  Alloy wheels\n",
       "freq       2642    3495   1443         2435          1717"
      ]
     },
     "execution_count": 25,
     "metadata": {},
     "output_type": "execute_result"
    }
   ],
   "source": [
    "df.describe(include=[\"object\", \"bool\"])"
   ]
  },
  {
   "cell_type": "markdown",
   "id": "mcTgd66z1tWm",
   "metadata": {
    "id": "mcTgd66z1tWm"
   },
   "source": [
    "Посмотрим распределение значений для признака 'model'"
   ]
  },
  {
   "cell_type": "code",
   "execution_count": 26,
   "id": "pY8MTO8Vj7eG",
   "metadata": {
    "colab": {
     "base_uri": "https://localhost:8080/"
    },
    "id": "pY8MTO8Vj7eG",
    "outputId": "2e9c6b67-dee4-4ef7-b385-b745cde6890b"
   },
   "outputs": [
    {
     "data": {
      "text/plain": [
       "Audi A3    2642\n",
       "Audi A1    2157\n",
       "Audi A2       1\n",
       "Name: model, dtype: int64"
      ]
     },
     "execution_count": 26,
     "metadata": {},
     "output_type": "execute_result"
    }
   ],
   "source": [
    "df[\"model\"].value_counts()"
   ]
  },
  {
   "cell_type": "markdown",
   "id": "g3ip6Z7J1_j6",
   "metadata": {
    "id": "g3ip6Z7J1_j6"
   },
   "source": [
    "Удаляем запись с Audi A2, т.к. имеется всего одна запись с ней"
   ]
  },
  {
   "cell_type": "code",
   "execution_count": 27,
   "id": "Ep4XnOnt2Gnb",
   "metadata": {
    "id": "Ep4XnOnt2Gnb"
   },
   "outputs": [],
   "source": [
    "df = df.drop(df[df['model'] == 'Audi A2'].index)"
   ]
  },
  {
   "cell_type": "markdown",
   "id": "YQDFQ7OfmAQM",
   "metadata": {
    "id": "YQDFQ7OfmAQM"
   },
   "source": [
    "Запишем в отдельную переменную вектор ответов (целевых признаков)"
   ]
  },
  {
   "cell_type": "code",
   "execution_count": 28,
   "id": "ToCgb21VmNIn",
   "metadata": {
    "id": "ToCgb21VmNIn"
   },
   "outputs": [],
   "source": [
    "target = df[\"price\"].values"
   ]
  },
  {
   "cell_type": "markdown",
   "id": "J9pgsqU4mZva",
   "metadata": {
    "id": "J9pgsqU4mZva"
   },
   "source": [
    "Сохраним значения агрегированных функций для категориалных признаков относительно цены"
   ]
  },
  {
   "cell_type": "code",
   "execution_count": 29,
   "id": "dAgD_276ma_u",
   "metadata": {
    "id": "dAgD_276ma_u"
   },
   "outputs": [],
   "source": [
    "features = ['model', 'body', 'color', 'transmission']\n",
    "features_info = {\n",
    "    feature: {\n",
    "        'uniques': df[feature].unique(),\n",
    "        'mean': [df.loc[df[feature] == val, 'price'].mean() for val in df[feature].unique()],\n",
    "        'std': [df.loc[df[feature] == val, 'price'].std() for val in df[feature].unique()],\n",
    "        'count': [df.loc[df[feature] == val, 'price'].count() for val in df[feature].unique()]\n",
    "    } for feature in features\n",
    "}"
   ]
  },
  {
   "cell_type": "markdown",
   "id": "-XXFIF2lqg1t",
   "metadata": {
    "id": "-XXFIF2lqg1t"
   },
   "source": [
    "Заменяем значения категориальных признаков на новые бинарные признаки"
   ]
  },
  {
   "cell_type": "code",
   "execution_count": 30,
   "id": "tOtNIn1oqqGZ",
   "metadata": {
    "colab": {
     "base_uri": "https://localhost:8080/"
    },
    "id": "tOtNIn1oqqGZ",
    "outputId": "72d68b05-11de-49d9-f923-a6f24023c9be"
   },
   "outputs": [
    {
     "name": "stdout",
     "output_type": "stream",
     "text": [
      "<class 'pandas.core.frame.DataFrame'>\n",
      "Int64Index: 4799 entries, 0 to 4799\n",
      "Data columns (total 42 columns):\n",
      " #   Column               Non-Null Count  Dtype\n",
      "---  ------               --------------  -----\n",
      " 0   km                   4799 non-null   int64\n",
      " 1   price                4799 non-null   int64\n",
      " 2   Audi A1              4799 non-null   uint8\n",
      " 3   Audi A3              4799 non-null   uint8\n",
      " 4   Compact              4799 non-null   uint8\n",
      " 5   Convertible          4799 non-null   uint8\n",
      " 6   Coupe                4799 non-null   uint8\n",
      " 7   Other                4799 non-null   uint8\n",
      " 8   Sedans               4799 non-null   uint8\n",
      " 9   Station wagon        4799 non-null   uint8\n",
      " 10  Beige                4799 non-null   uint8\n",
      " 11  Black                4799 non-null   uint8\n",
      " 12  Blue                 4799 non-null   uint8\n",
      " 13  Bronze               4799 non-null   uint8\n",
      " 14  Brown                4799 non-null   uint8\n",
      " 15  Green                4799 non-null   uint8\n",
      " 16  Grey                 4799 non-null   uint8\n",
      " 17  Orange               4799 non-null   uint8\n",
      " 18  Red                  4799 non-null   uint8\n",
      " 19  Silver               4799 non-null   uint8\n",
      " 20  Violet               4799 non-null   uint8\n",
      " 21  White                4799 non-null   uint8\n",
      " 22  Yellow               4799 non-null   uint8\n",
      " 23  Automatic            4799 non-null   uint8\n",
      " 24  Manual               4799 non-null   uint8\n",
      " 25  Semi-automatic       4799 non-null   uint8\n",
      " 26  Alloy wheels         4799 non-null   int64\n",
      " 27  Cab or rented Car    4799 non-null   int64\n",
      " 28  Catalytic Converter  4799 non-null   int64\n",
      " 29  Handicapped enabled  4799 non-null   int64\n",
      " 30  Right hand drive     4799 non-null   int64\n",
      " 31  Roof rack            4799 non-null   int64\n",
      " 32  Shift paddles        4799 non-null   int64\n",
      " 33  Ski bag              4799 non-null   int64\n",
      " 34  Sport package        4799 non-null   int64\n",
      " 35  Sport seats          4799 non-null   int64\n",
      " 36  Sport suspension     4799 non-null   int64\n",
      " 37  Touch screen         4799 non-null   int64\n",
      " 38  Trailer hitch        4799 non-null   int64\n",
      " 39  Tuned car            4799 non-null   int64\n",
      " 40  Voice Control        4799 non-null   int64\n",
      " 41  Winter tyres         4799 non-null   int64\n",
      "dtypes: int64(18), uint8(24)\n",
      "memory usage: 824.8 KB\n"
     ]
    }
   ],
   "source": [
    "df = pd.get_dummies(df, columns=['model', 'body', 'color', 'transmission'])\n",
    "columns = df.columns.values\n",
    "df.rename({column: column.split(\"_\")[-1] for column in columns}, axis=\"columns\", inplace=True)\n",
    "\n",
    "extras = df['extras'].str.get_dummies(\",\")\n",
    "df.drop(columns=['extras'], inplace=True)\n",
    "df = pd.concat([df, extras], axis=1)\n",
    "df.info()"
   ]
  },
  {
   "cell_type": "markdown",
   "id": "fy9AoW1Ox_ET",
   "metadata": {
    "id": "fy9AoW1Ox_ET"
   },
   "source": [
    "Выведем графики средней цены автомобиля с учетом типа кузова, цвета, трансмиссии и модели"
   ]
  },
  {
   "cell_type": "code",
   "execution_count": 32,
   "id": "oEUWzRe6x_jl",
   "metadata": {
    "colab": {
     "base_uri": "https://localhost:8080/",
     "height": 350
    },
    "id": "oEUWzRe6x_jl",
    "outputId": "830aede1-42c0-42b6-e926-9a86333e9374"
   },
   "outputs": [
    {
     "data": {
      "image/png": "[encoded data removed]",
      "text/plain": [
       "<Figure size 1080x720 with 1 Axes>"
      ]
     },
     "metadata": {},
     "output_type": "display_data"
    }
   ],
   "source": [
    "from math import floor\n",
    "\n",
    "fig, km_to_price = plt.subplots(figsize=(15, 10))\n",
    "kms = df['km'].values\n",
    "km_to_price.scatter(kms, target, s=3)\n",
    "km_to_price.set_ylabel('Kilometers')\n",
    "km_to_price.set_xlabel('Price')\n",
    "km_to_price.set_title('Car Price Prediction. Kilometers-Price.png')\n",
    "plt.savefig(os.path.join(img_dir, 'Car Price Prediction. Kilometers-Price.png'))\n",
    "plt.show()"
   ]
  },
  {
   "cell_type": "code",
   "execution_count": 36,
   "id": "5-LBjff-vMFy",
   "metadata": {
    "colab": {
     "base_uri": "https://localhost:8080/",
     "height": 1000
    },
    "id": "5-LBjff-vMFy",
    "outputId": "9cde48c8-98ce-41c9-84b1-92f2b8d3e08a"
   },
   "outputs": [
    {
     "data": {
      "image/png": "[encoded data removed]",
      "text/plain": [
       "<Figure size 1080x1080 with 4 Axes>"
      ]
     },
     "metadata": {},
     "output_type": "display_data"
    }
   ],
   "source": [
    "# Features - Price\n",
    "fig, axes = plt.subplots(2, len(features) // 2, figsize=(15,15))\n",
    "for i, feature in enumerate(features_info):\n",
    "  axes[floor(i // 2), i % 2].set_title(f'Car Price Prediction. Price-{feature}-count')\n",
    "  axes[floor(i // 2), i % 2].set_xlabel(\"Price\")\n",
    "  axes[floor(i // 2), i % 2].barh(y=features_info[feature][\"uniques\"],\n",
    "                                  width=features_info[feature][\"mean\"],\n",
    "                                  xerr=features_info[feature][\"std\"])\n",
    "  for j, v in enumerate(features_info[feature][\"count\"]):\n",
    "    axes[floor(i // 2), i % 2].text(features_info[feature][\"mean\"][j] / 2.5, j, \n",
    "                                  f'{v}', color='blue', fontweight='bold')\n",
    "    \n",
    "plt.savefig(os.path.join(img_dir, 'Car Price Prediction. Price-features-count.png'))\n",
    "plt.show()"
   ]
  },
  {
   "cell_type": "code",
   "execution_count": 25,
   "id": "1buaJb0QAKBP",
   "metadata": {
    "colab": {
     "base_uri": "https://localhost:8080/"
    },
    "id": "1buaJb0QAKBP",
    "outputId": "b04162e5-686e-40cf-ce29-066d0c4d3498"
   },
   "outputs": [
    {
     "name": "stdout",
     "output_type": "stream",
     "text": [
      "Target mean: 19721.105438633047 target std: 4335.79312815377\n"
     ]
    }
   ],
   "source": [
    "print(f'Target mean: {target.mean()}. Target std: {target.std()}')"
   ]
  },
  {
   "cell_type": "code",
   "execution_count": 27,
   "id": "s1lTaTCwAObR",
   "metadata": {
    "id": "s1lTaTCwAObR"
   },
   "outputs": [],
   "source": [
    "from sklearn.model_selection import train_test_split\n",
    "numpy_data = df.drop(columns=[\"price\"]).values\n",
    "x_train, x_test, y_train, y_test = train_test_split(numpy_data, target, test_size=0.3, random_state=24)"
   ]
  },
  {
   "cell_type": "code",
   "execution_count": 28,
   "id": "E8JNIA1SA4_r",
   "metadata": {
    "colab": {
     "base_uri": "https://localhost:8080/",
     "height": 640
    },
    "id": "E8JNIA1SA4_r",
    "outputId": "1e7b017f-c2e9-4a3c-bea5-a82410567695"
   },
   "outputs": [
    {
     "name": "stdout",
     "output_type": "stream",
     "text": [
      "Точность работы на обучающей выборке: 0.6665917058270779\n",
      "Коэффициенты модели: [-7.58352634e-02 -1.54099381e+03  1.54099381e+03 -6.63749108e+02\n",
      "  7.32889672e+03 -4.54861847e+03 -9.45800538e+01 -9.53925331e+02\n",
      " -1.06802376e+03 -1.35129633e+03 -6.63660082e+02 -3.26601212e+02\n",
      " -1.21111697e+03 -1.63702560e+03  2.39698532e+03 -3.61141544e+02\n",
      " -1.47156243e-09 -7.42979607e+02 -8.42103546e+02  7.25296122e+02\n",
      " -2.86430353e+02  4.30007381e+03  2.50162332e+01 -2.59234179e+03\n",
      "  2.56732556e+03  7.20480063e+02 -9.97843143e+01  1.40209196e+02\n",
      " -6.44700519e+02 -2.49371702e+02  6.58241913e+02  3.62653905e+02\n",
      " -1.13052250e+03  2.87174934e+02 -2.47062420e+02  4.78285208e+02\n",
      "  1.95705126e+03 -1.50366415e+02 -2.00233900e+03 -1.19876619e+01\n",
      " -8.20700644e+02]\n",
      "Кросс-валидация: [0.62620308 0.6545573  0.63402309 0.64355171 0.66961435]\n"
     ]
    },
    {
     "data": {
      "text/html": [
       "<div>\n",
       "<style scoped>\n",
       "    .dataframe tbody tr th:only-of-type {\n",
       "        vertical-align: middle;\n",
       "    }\n",
       "\n",
       "    .dataframe tbody tr th {\n",
       "        vertical-align: top;\n",
       "    }\n",
       "\n",
       "    .dataframe thead th {\n",
       "        text-align: right;\n",
       "    }\n",
       "</style>\n",
       "<table border=\"1\" class=\"dataframe\">\n",
       "  <thead>\n",
       "    <tr style=\"text-align: right;\">\n",
       "      <th></th>\n",
       "      <th>Actual</th>\n",
       "      <th>Predicted</th>\n",
       "    </tr>\n",
       "  </thead>\n",
       "  <tbody>\n",
       "    <tr>\n",
       "      <th>0</th>\n",
       "      <td>20845</td>\n",
       "      <td>21473.84</td>\n",
       "    </tr>\n",
       "    <tr>\n",
       "      <th>1</th>\n",
       "      <td>22880</td>\n",
       "      <td>22592.77</td>\n",
       "    </tr>\n",
       "    <tr>\n",
       "      <th>2</th>\n",
       "      <td>22000</td>\n",
       "      <td>22417.82</td>\n",
       "    </tr>\n",
       "    <tr>\n",
       "      <th>3</th>\n",
       "      <td>20700</td>\n",
       "      <td>21966.02</td>\n",
       "    </tr>\n",
       "    <tr>\n",
       "      <th>4</th>\n",
       "      <td>16000</td>\n",
       "      <td>18210.77</td>\n",
       "    </tr>\n",
       "    <tr>\n",
       "      <th>...</th>\n",
       "      <td>...</td>\n",
       "      <td>...</td>\n",
       "    </tr>\n",
       "    <tr>\n",
       "      <th>1435</th>\n",
       "      <td>23639</td>\n",
       "      <td>21554.94</td>\n",
       "    </tr>\n",
       "    <tr>\n",
       "      <th>1436</th>\n",
       "      <td>21990</td>\n",
       "      <td>18865.24</td>\n",
       "    </tr>\n",
       "    <tr>\n",
       "      <th>1437</th>\n",
       "      <td>12888</td>\n",
       "      <td>16935.47</td>\n",
       "    </tr>\n",
       "    <tr>\n",
       "      <th>1438</th>\n",
       "      <td>17900</td>\n",
       "      <td>18644.13</td>\n",
       "    </tr>\n",
       "    <tr>\n",
       "      <th>1439</th>\n",
       "      <td>16980</td>\n",
       "      <td>19618.73</td>\n",
       "    </tr>\n",
       "  </tbody>\n",
       "</table>\n",
       "<p>1440 rows × 2 columns</p>\n",
       "</div>"
      ],
      "text/plain": [
       "      Actual  Predicted\n",
       "0      20845   21473.84\n",
       "1      22880   22592.77\n",
       "2      22000   22417.82\n",
       "3      20700   21966.02\n",
       "4      16000   18210.77\n",
       "...      ...        ...\n",
       "1435   23639   21554.94\n",
       "1436   21990   18865.24\n",
       "1437   12888   16935.47\n",
       "1438   17900   18644.13\n",
       "1439   16980   19618.73\n",
       "\n",
       "[1440 rows x 2 columns]"
      ]
     },
     "execution_count": 28,
     "metadata": {
      "tags": []
     },
     "output_type": "execute_result"
    }
   ],
   "source": [
    "from sklearn.linear_model import LinearRegression\n",
    "from sklearn.model_selection import cross_val_score \n",
    "from sklearn.metrics import r2_score\n",
    "# создание и настройка модели линейной регресси с МНК (метод наименьших квадратов)\n",
    "linreg_least_squares = LinearRegression()\n",
    "\n",
    "# обучение модели\n",
    "linreg_least_squares.fit(x_train, y_train)\n",
    "\n",
    "# точность работы на обучающей выборке\n",
    "score_least_squares = linreg_least_squares.score(x_train, y_train)\n",
    "print(f'Точность работы на обучающей выборке: {score_least_squares}')\n",
    "print(f'Коэффициенты модели: {linreg_least_squares.coef_}')\n",
    "\n",
    "cross_scores_least_squares = cross_val_score(linreg_least_squares, x_train, y_train, scoring='r2', cv=5)\n",
    "print(f'Кросс-валидация: {cross_scores_least_squares}')\n",
    "\n",
    "# применение модели на тестовой выборке\n",
    "y_pred = linreg_least_squares.predict(x_test)\n",
    "df_y_pred = pd.DataFrame({'Actual': y_test.flatten(), 'Predicted': y_pred.flatten()})\n",
    "df_y_pred"
   ]
  },
  {
   "cell_type": "code",
   "execution_count": 32,
   "id": "eOHxarNDBIJa",
   "metadata": {
    "colab": {
     "base_uri": "https://localhost:8080/"
    },
    "id": "eOHxarNDBIJa",
    "outputId": "16039764-444c-4827-c254-afe8daf58e59"
   },
   "outputs": [
    {
     "name": "stdout",
     "output_type": "stream",
     "text": [
      "Оценка регрессии (R2): 0.63\n",
      "Среднеквадраичная ошибка (RMSE): 0.80\n"
     ]
    }
   ],
   "source": [
    "# оценка регрессии\n",
    "r2_least_squares = r2_score(y_test, y_pred)\n",
    "print(f'Оценка регрессии (R2): {r2_least_squares:.2f}')\n",
    "print(f'Среднеквадраичная ошибка (RMSE): {np.sqrt(r2_score(y_test, y_pred)):.2f}')"
   ]
  },
  {
   "cell_type": "markdown",
   "id": "wyEl6baQ7e16",
   "metadata": {
    "id": "wyEl6baQ7e16"
   },
   "source": [
    "Получим список уникальных опций"
   ]
  },
  {
   "cell_type": "code",
   "execution_count": null,
   "id": "4bEIT5SsD4fc",
   "metadata": {
    "id": "4bEIT5SsD4fc"
   },
   "outputs": [],
   "source": [
    "from sklearn.preprocessing import MinMaxScaler \n",
    "scaler = MinMaxScaler()\n",
    "\n",
    "# apply scaler() to all the numeric columns \n",
    "numeric_vars = ['km', 'price']\n",
    "df_ohe[numeric_vars] = scaler.fit_transform(df_ohe[numeric_vars])\n",
    "df_ohe.head()"
   ]
  },
  {
   "cell_type": "code",
   "execution_count": null,
   "id": "1jnzdVDCBQj4",
   "metadata": {
    "id": "1jnzdVDCBQj4"
   },
   "outputs": [],
   "source": [
    "# разделение данных на ответы (y) и объекты с описанием признаков (x) \n",
    "y = df_ohe['price'].values\n",
    "x = df_ohe.drop(['price'], axis=1).values"
   ]
  },
  {
   "cell_type": "code",
   "execution_count": null,
   "id": "bb5HtFLTDbOo",
   "metadata": {
    "id": "bb5HtFLTDbOo"
   },
   "outputs": [],
   "source": [
    "from sklearn.model_selection import train_test_split\n",
    "\n",
    "# разделение выборок на обучающую и тестовую в соотношении 75/25\n",
    "x_train, x_test, y_train, y_test = train_test_split(x, y, test_size=0.25, random_state=0)"
   ]
  },
  {
   "cell_type": "code",
   "execution_count": null,
   "id": "RPvGikxrDN8Z",
   "metadata": {
    "id": "RPvGikxrDN8Z"
   },
   "outputs": [],
   "source": [
    "from sklearn.model_selection import cross_val_score \n",
    "from sklearn.metrics import r2_score"
   ]
  },
  {
   "cell_type": "markdown",
   "id": "tmCUYRlbEWVe",
   "metadata": {
    "id": "tmCUYRlbEWVe"
   },
   "source": [
    "## Метод наименьших квадратов"
   ]
  },
  {
   "cell_type": "code",
   "execution_count": 37,
   "id": "JokfaDJKEUjf",
   "metadata": {
    "colab": {
     "base_uri": "https://localhost:8080/",
     "height": 623
    },
    "id": "JokfaDJKEUjf",
    "outputId": "e44df120-0cb5-478b-970d-d6d9d6a5ff35"
   },
   "outputs": [
    {
     "name": "stdout",
     "output_type": "stream",
     "text": [
      "Точность работы на обучающей выборке: 0.67\n",
      "Коэффициенты модели: [-7.58352634e-02 -1.54099381e+03  1.54099381e+03 -6.63749108e+02\n",
      "  7.32889672e+03 -4.54861847e+03 -9.45800538e+01 -9.53925331e+02\n",
      " -1.06802376e+03 -1.35129633e+03 -6.63660082e+02 -3.26601212e+02\n",
      " -1.21111697e+03 -1.63702560e+03  2.39698532e+03 -3.61141544e+02\n",
      " -1.47156243e-09 -7.42979607e+02 -8.42103546e+02  7.25296122e+02\n",
      " -2.86430353e+02  4.30007381e+03  2.50162332e+01 -2.59234179e+03\n",
      "  2.56732556e+03  7.20480063e+02 -9.97843143e+01  1.40209196e+02\n",
      " -6.44700519e+02 -2.49371702e+02  6.58241913e+02  3.62653905e+02\n",
      " -1.13052250e+03  2.87174934e+02 -2.47062420e+02  4.78285208e+02\n",
      "  1.95705126e+03 -1.50366415e+02 -2.00233900e+03 -1.19876619e+01\n",
      " -8.20700644e+02]\n"
     ]
    },
    {
     "data": {
      "text/html": [
       "<div>\n",
       "<style scoped>\n",
       "    .dataframe tbody tr th:only-of-type {\n",
       "        vertical-align: middle;\n",
       "    }\n",
       "\n",
       "    .dataframe tbody tr th {\n",
       "        vertical-align: top;\n",
       "    }\n",
       "\n",
       "    .dataframe thead th {\n",
       "        text-align: right;\n",
       "    }\n",
       "</style>\n",
       "<table border=\"1\" class=\"dataframe\">\n",
       "  <thead>\n",
       "    <tr style=\"text-align: right;\">\n",
       "      <th></th>\n",
       "      <th>Actual</th>\n",
       "      <th>Predicted</th>\n",
       "    </tr>\n",
       "  </thead>\n",
       "  <tbody>\n",
       "    <tr>\n",
       "      <th>0</th>\n",
       "      <td>20845</td>\n",
       "      <td>21473.84</td>\n",
       "    </tr>\n",
       "    <tr>\n",
       "      <th>1</th>\n",
       "      <td>22880</td>\n",
       "      <td>22592.77</td>\n",
       "    </tr>\n",
       "    <tr>\n",
       "      <th>2</th>\n",
       "      <td>22000</td>\n",
       "      <td>22417.82</td>\n",
       "    </tr>\n",
       "    <tr>\n",
       "      <th>3</th>\n",
       "      <td>20700</td>\n",
       "      <td>21966.02</td>\n",
       "    </tr>\n",
       "    <tr>\n",
       "      <th>4</th>\n",
       "      <td>16000</td>\n",
       "      <td>18210.77</td>\n",
       "    </tr>\n",
       "    <tr>\n",
       "      <th>...</th>\n",
       "      <td>...</td>\n",
       "      <td>...</td>\n",
       "    </tr>\n",
       "    <tr>\n",
       "      <th>1435</th>\n",
       "      <td>23639</td>\n",
       "      <td>21554.94</td>\n",
       "    </tr>\n",
       "    <tr>\n",
       "      <th>1436</th>\n",
       "      <td>21990</td>\n",
       "      <td>18865.24</td>\n",
       "    </tr>\n",
       "    <tr>\n",
       "      <th>1437</th>\n",
       "      <td>12888</td>\n",
       "      <td>16935.47</td>\n",
       "    </tr>\n",
       "    <tr>\n",
       "      <th>1438</th>\n",
       "      <td>17900</td>\n",
       "      <td>18644.13</td>\n",
       "    </tr>\n",
       "    <tr>\n",
       "      <th>1439</th>\n",
       "      <td>16980</td>\n",
       "      <td>19618.73</td>\n",
       "    </tr>\n",
       "  </tbody>\n",
       "</table>\n",
       "<p>1440 rows × 2 columns</p>\n",
       "</div>"
      ],
      "text/plain": [
       "      Actual  Predicted\n",
       "0      20845   21473.84\n",
       "1      22880   22592.77\n",
       "2      22000   22417.82\n",
       "3      20700   21966.02\n",
       "4      16000   18210.77\n",
       "...      ...        ...\n",
       "1435   23639   21554.94\n",
       "1436   21990   18865.24\n",
       "1437   12888   16935.47\n",
       "1438   17900   18644.13\n",
       "1439   16980   19618.73\n",
       "\n",
       "[1440 rows x 2 columns]"
      ]
     },
     "execution_count": 37,
     "metadata": {
      "tags": []
     },
     "output_type": "execute_result"
    }
   ],
   "source": [
    "from sklearn.linear_model import LinearRegression\n",
    "# создание и настройка модели линейной регресси с МНК (метод наименьших квадратов)\n",
    "linreg_least_squares = LinearRegression()\n",
    "\n",
    "# обучение модели\n",
    "linreg_least_squares.fit(x_train, y_train)\n",
    "\n",
    "# точность работы на обучающей выборке\n",
    "score_least_squares = linreg_least_squares.score(x_train, y_train)\n",
    "print(f'Точность работы на обучающей выборке: {score_least_squares:.2f}')\n",
    "print(f'Коэффициенты модели: {linreg_least_squares.coef_}')\n",
    "\n",
    "# cross_scores_least_squares = cross_val_score(linreg_least_squares, x_train, y_train, scoring='r2', cv=5)\n",
    "# print(f'Кросс-валидация: {cross_scores_least_squares}')\n",
    "\n",
    "# применение модели на тестовой выборке\n",
    "y_pred = linreg_least_squares.predict(x_test)\n",
    "df_y_pred = pd.DataFrame({'Actual': y_test.flatten(), 'Predicted': y_pred.flatten()})\n",
    "df_y_pred"
   ]
  },
  {
   "cell_type": "code",
   "execution_count": 39,
   "id": "GRAUKorNHcvl",
   "metadata": {
    "colab": {
     "base_uri": "https://localhost:8080/"
    },
    "id": "GRAUKorNHcvl",
    "outputId": "39395e05-c251-47f9-b1a4-a2a8199495bd"
   },
   "outputs": [
    {
     "name": "stdout",
     "output_type": "stream",
     "text": [
      "Оценка регрессии (R2): 0.63\n",
      "Среднеквадратичная ошибка (RMSE): 0.80\n"
     ]
    }
   ],
   "source": [
    "# оценка регрессии\n",
    "r2_least_squares = r2_score(y_test, y_pred)\n",
    "print(f'Оценка регрессии (R2): {r2_least_squares:.2f}')\n",
    "print(f'Среднеквадратичная ошибка (RMSE): {np.sqrt(r2_least_squares):.2f}')"
   ]
  },
  {
   "cell_type": "code",
   "execution_count": 59,
   "id": "x4jgDpMuE7ug",
   "metadata": {
    "colab": {
     "base_uri": "https://localhost:8080/",
     "height": 500
    },
    "id": "x4jgDpMuE7ug",
    "outputId": "b868cf32-7b70-4bcf-a521-8829c0b009dd"
   },
   "outputs": [
    {
     "data": {
      "text/plain": [
       "[<matplotlib.lines.Line2D at 0x7f14a94c7190>]"
      ]
     },
     "execution_count": 59,
     "metadata": {
      "tags": []
     },
     "output_type": "execute_result"
    },
    {
     "data": {
      "image/png": "[encoded data removed]",
      "text/plain": [
       "<Figure size 720x576 with 1 Axes>"
      ]
     },
     "metadata": {
      "needs_background": "light",
      "tags": []
     },
     "output_type": "display_data"
    }
   ],
   "source": [
    "plt.figure(figsize=(10, 8))\n",
    "plt.plot(x_test[:,0], y_pred, 'ro')"
   ]
  },
  {
   "cell_type": "code",
   "execution_count": 60,
   "id": "3DsLv2A2KnU0",
   "metadata": {
    "colab": {
     "base_uri": "https://localhost:8080/",
     "height": 500
    },
    "id": "3DsLv2A2KnU0",
    "outputId": "f2be5236-7550-479b-a1bc-f2ad0bbc537e"
   },
   "outputs": [
    {
     "data": {
      "text/plain": [
       "[<matplotlib.lines.Line2D at 0x7f14a95f5650>]"
      ]
     },
     "execution_count": 60,
     "metadata": {
      "tags": []
     },
     "output_type": "execute_result"
    },
    {
     "data": {
      "image/png": "[encoded data removed]",
      "text/plain": [
       "<Figure size 720x576 with 1 Axes>"
      ]
     },
     "metadata": {
      "needs_background": "light",
      "tags": []
     },
     "output_type": "display_data"
    }
   ],
   "source": [
    "plt.figure(figsize=(10, 8))\n",
    "plt.plot(x_test[:,0], y_test, 'bo')"
   ]
  },
  {
   "cell_type": "markdown",
   "id": "_fWw_NXEfFVz",
   "metadata": {
    "id": "_fWw_NXEfFVz"
   },
   "source": [
    "## Метод опорных векторов"
   ]
  },
  {
   "cell_type": "code",
   "execution_count": 62,
   "id": "JMUIiXq0LjAq",
   "metadata": {
    "id": "JMUIiXq0LjAq"
   },
   "outputs": [],
   "source": [
    "from sklearn.pipeline import make_pipeline\n",
    "from sklearn.preprocessing import StandardScaler"
   ]
  },
  {
   "cell_type": "code",
   "execution_count": 82,
   "id": "4b8BQqu6Oe4_",
   "metadata": {
    "colab": {
     "base_uri": "https://localhost:8080/",
     "height": 453
    },
    "id": "4b8BQqu6Oe4_",
    "outputId": "29396f0b-f26e-4a34-e7f5-aad842d0d5e2"
   },
   "outputs": [
    {
     "name": "stdout",
     "output_type": "stream",
     "text": [
      "Точность работы на обучающей выборке: 0.017772841127681294\n",
      "Кросс-валидация: [0.01136069 0.01201179 0.01369059 0.01233268 0.01088797]\n"
     ]
    },
    {
     "data": {
      "text/html": [
       "<div>\n",
       "<style scoped>\n",
       "    .dataframe tbody tr th:only-of-type {\n",
       "        vertical-align: middle;\n",
       "    }\n",
       "\n",
       "    .dataframe tbody tr th {\n",
       "        vertical-align: top;\n",
       "    }\n",
       "\n",
       "    .dataframe thead th {\n",
       "        text-align: right;\n",
       "    }\n",
       "</style>\n",
       "<table border=\"1\" class=\"dataframe\">\n",
       "  <thead>\n",
       "    <tr style=\"text-align: right;\">\n",
       "      <th></th>\n",
       "      <th>Actual</th>\n",
       "      <th>Predicted</th>\n",
       "    </tr>\n",
       "  </thead>\n",
       "  <tbody>\n",
       "    <tr>\n",
       "      <th>0</th>\n",
       "      <td>20845</td>\n",
       "      <td>19738.39</td>\n",
       "    </tr>\n",
       "    <tr>\n",
       "      <th>1</th>\n",
       "      <td>22880</td>\n",
       "      <td>19757.16</td>\n",
       "    </tr>\n",
       "    <tr>\n",
       "      <th>2</th>\n",
       "      <td>22000</td>\n",
       "      <td>19812.35</td>\n",
       "    </tr>\n",
       "    <tr>\n",
       "      <th>3</th>\n",
       "      <td>20700</td>\n",
       "      <td>19843.89</td>\n",
       "    </tr>\n",
       "    <tr>\n",
       "      <th>4</th>\n",
       "      <td>16000</td>\n",
       "      <td>19723.06</td>\n",
       "    </tr>\n",
       "    <tr>\n",
       "      <th>...</th>\n",
       "      <td>...</td>\n",
       "      <td>...</td>\n",
       "    </tr>\n",
       "    <tr>\n",
       "      <th>1435</th>\n",
       "      <td>23639</td>\n",
       "      <td>19760.19</td>\n",
       "    </tr>\n",
       "    <tr>\n",
       "      <th>1436</th>\n",
       "      <td>21990</td>\n",
       "      <td>19661.24</td>\n",
       "    </tr>\n",
       "    <tr>\n",
       "      <th>1437</th>\n",
       "      <td>12888</td>\n",
       "      <td>19677.64</td>\n",
       "    </tr>\n",
       "    <tr>\n",
       "      <th>1438</th>\n",
       "      <td>17900</td>\n",
       "      <td>19765.04</td>\n",
       "    </tr>\n",
       "    <tr>\n",
       "      <th>1439</th>\n",
       "      <td>16980</td>\n",
       "      <td>19715.30</td>\n",
       "    </tr>\n",
       "  </tbody>\n",
       "</table>\n",
       "<p>1440 rows × 2 columns</p>\n",
       "</div>"
      ],
      "text/plain": [
       "      Actual  Predicted\n",
       "0      20845   19738.39\n",
       "1      22880   19757.16\n",
       "2      22000   19812.35\n",
       "3      20700   19843.89\n",
       "4      16000   19723.06\n",
       "...      ...        ...\n",
       "1435   23639   19760.19\n",
       "1436   21990   19661.24\n",
       "1437   12888   19677.64\n",
       "1438   17900   19765.04\n",
       "1439   16980   19715.30\n",
       "\n",
       "[1440 rows x 2 columns]"
      ]
     },
     "execution_count": 82,
     "metadata": {
      "tags": []
     },
     "output_type": "execute_result"
    }
   ],
   "source": [
    "from sklearn.svm import SVR\n",
    "linreg_svr = make_pipeline(StandardScaler(),\n",
    "                           SVR(kernel='rbf', degree=3, gamma='scale', coef0=0.0,\n",
    "                                        tol=1e-3, C=1.0, epsilon=0.1, max_iter=-1))\n",
    "linreg_svr.fit(x_train, y_train)\n",
    "linreg_svr.named_steps\n",
    "# linreg_svr.named_steps['svr'].coef_\n",
    "score_svr = linreg_svr.score(x_train, y_train)\n",
    "print(f'Точность работы на обучающей выборке: {score_svr}')\n",
    "# print(f'Коэффициенты модели: {linreg_svr.named_steps['svr'].coef_}')\n",
    "\n",
    "cross_scores_svr = cross_val_score(linreg_svr, x_train, y_train, scoring='r2', cv=5)\n",
    "print(f'Кросс-валидация: {cross_scores_svr}')\n",
    "\n",
    "# применение модели на тестовой выборке\n",
    "y_pred = linreg_svr.predict(x_test)\n",
    "df_y_pred = pd.DataFrame({'Actual': y_test.flatten(), 'Predicted': y_pred.flatten()})\n",
    "df_y_pred\n",
    "\n"
   ]
  },
  {
   "cell_type": "code",
   "execution_count": 83,
   "id": "TWC4aRY9QhiJ",
   "metadata": {
    "colab": {
     "base_uri": "https://localhost:8080/"
    },
    "id": "TWC4aRY9QhiJ",
    "outputId": "ecbb9865-6826-417e-b794-13ab5fc617be"
   },
   "outputs": [
    {
     "name": "stdout",
     "output_type": "stream",
     "text": [
      "Оценка регрессии (R2): 0.02\n",
      "Среднеквадратичная ошибка (RMSE): 0.13\n"
     ]
    }
   ],
   "source": [
    "r2_least_squares = r2_score(y_test, y_pred)\n",
    "print(f'Оценка регрессии (R2): {r2_least_squares:.2f}')\n",
    "print(f'Среднеквадратичная ошибка (RMSE): {np.sqrt(r2_least_squares):.2f}')"
   ]
  },
  {
   "cell_type": "code",
   "execution_count": 84,
   "id": "RRXLTWOpQtEB",
   "metadata": {
    "colab": {
     "base_uri": "https://localhost:8080/",
     "height": 500
    },
    "id": "RRXLTWOpQtEB",
    "outputId": "2ddb4b48-68c0-49b1-81d2-d98cef1d5735"
   },
   "outputs": [
    {
     "data": {
      "text/plain": [
       "[<matplotlib.lines.Line2D at 0x7f14a96e88d0>]"
      ]
     },
     "execution_count": 84,
     "metadata": {
      "tags": []
     },
     "output_type": "execute_result"
    },
    {
     "data": {
      "image/png": "[encoded data removed]",
      "text/plain": [
       "<Figure size 720x576 with 1 Axes>"
      ]
     },
     "metadata": {
      "needs_background": "light",
      "tags": []
     },
     "output_type": "display_data"
    }
   ],
   "source": [
    "plt.figure(figsize=(10, 8))\n",
    "plt.plot(x_test[:,0], y_pred, 'ro')"
   ]
  },
  {
   "cell_type": "markdown",
   "id": "_wsxlv61eMan",
   "metadata": {
    "id": "_wsxlv61eMan"
   },
   "source": [
    "## Метод ближайших соседей"
   ]
  },
  {
   "cell_type": "code",
   "execution_count": 86,
   "id": "A-NE4xV0b_0h",
   "metadata": {
    "colab": {
     "base_uri": "https://localhost:8080/",
     "height": 453
    },
    "id": "A-NE4xV0b_0h",
    "outputId": "dcf5c484-8671-4271-d997-8e143056be8e"
   },
   "outputs": [
    {
     "name": "stdout",
     "output_type": "stream",
     "text": [
      "Точность работы на обучающей выборке: 0.8136342629755765\n",
      "Кросс-валидация: [0.40933939 0.37495704 0.41420468 0.47514819 0.4337773 ]\n"
     ]
    },
    {
     "data": {
      "text/html": [
       "<div>\n",
       "<style scoped>\n",
       "    .dataframe tbody tr th:only-of-type {\n",
       "        vertical-align: middle;\n",
       "    }\n",
       "\n",
       "    .dataframe tbody tr th {\n",
       "        vertical-align: top;\n",
       "    }\n",
       "\n",
       "    .dataframe thead th {\n",
       "        text-align: right;\n",
       "    }\n",
       "</style>\n",
       "<table border=\"1\" class=\"dataframe\">\n",
       "  <thead>\n",
       "    <tr style=\"text-align: right;\">\n",
       "      <th></th>\n",
       "      <th>Actual</th>\n",
       "      <th>Predicted</th>\n",
       "    </tr>\n",
       "  </thead>\n",
       "  <tbody>\n",
       "    <tr>\n",
       "      <th>0</th>\n",
       "      <td>20845</td>\n",
       "      <td>20890.0</td>\n",
       "    </tr>\n",
       "    <tr>\n",
       "      <th>1</th>\n",
       "      <td>22880</td>\n",
       "      <td>14975.0</td>\n",
       "    </tr>\n",
       "    <tr>\n",
       "      <th>2</th>\n",
       "      <td>22000</td>\n",
       "      <td>23500.0</td>\n",
       "    </tr>\n",
       "    <tr>\n",
       "      <th>3</th>\n",
       "      <td>20700</td>\n",
       "      <td>20400.0</td>\n",
       "    </tr>\n",
       "    <tr>\n",
       "      <th>4</th>\n",
       "      <td>16000</td>\n",
       "      <td>21570.0</td>\n",
       "    </tr>\n",
       "    <tr>\n",
       "      <th>...</th>\n",
       "      <td>...</td>\n",
       "      <td>...</td>\n",
       "    </tr>\n",
       "    <tr>\n",
       "      <th>1435</th>\n",
       "      <td>23639</td>\n",
       "      <td>22687.0</td>\n",
       "    </tr>\n",
       "    <tr>\n",
       "      <th>1436</th>\n",
       "      <td>21990</td>\n",
       "      <td>21990.0</td>\n",
       "    </tr>\n",
       "    <tr>\n",
       "      <th>1437</th>\n",
       "      <td>12888</td>\n",
       "      <td>17240.0</td>\n",
       "    </tr>\n",
       "    <tr>\n",
       "      <th>1438</th>\n",
       "      <td>17900</td>\n",
       "      <td>16895.0</td>\n",
       "    </tr>\n",
       "    <tr>\n",
       "      <th>1439</th>\n",
       "      <td>16980</td>\n",
       "      <td>21749.5</td>\n",
       "    </tr>\n",
       "  </tbody>\n",
       "</table>\n",
       "<p>1440 rows × 2 columns</p>\n",
       "</div>"
      ],
      "text/plain": [
       "      Actual  Predicted\n",
       "0      20845    20890.0\n",
       "1      22880    14975.0\n",
       "2      22000    23500.0\n",
       "3      20700    20400.0\n",
       "4      16000    21570.0\n",
       "...      ...        ...\n",
       "1435   23639    22687.0\n",
       "1436   21990    21990.0\n",
       "1437   12888    17240.0\n",
       "1438   17900    16895.0\n",
       "1439   16980    21749.5\n",
       "\n",
       "[1440 rows x 2 columns]"
      ]
     },
     "execution_count": 86,
     "metadata": {
      "tags": []
     },
     "output_type": "execute_result"
    }
   ],
   "source": [
    "from sklearn.neighbors import KNeighborsRegressor\n",
    "linreg_knn = KNeighborsRegressor(n_neighbors=2)\n",
    "linreg_knn.fit(x_train, y_train)\n",
    "score_knn = linreg_knn.score(x_train, y_train)\n",
    "print(f'Точность работы на обучающей выборке: {score_knn}')\n",
    "\n",
    "cross_scores_knn = cross_val_score(linreg_knn, x_train, y_train, scoring='r2', cv=5)\n",
    "print(f'Кросс-валидация: {cross_scores_knn}')\n",
    "\n",
    "# применение модели на тестовой выборке\n",
    "y_pred = linreg_knn.predict(x_test)\n",
    "df_y_pred = pd.DataFrame({'Actual': y_test.flatten(), 'Predicted': y_pred.flatten()})\n",
    "df_y_pred\n",
    "\n"
   ]
  },
  {
   "cell_type": "code",
   "execution_count": 87,
   "id": "3-72JxhWRJgN",
   "metadata": {
    "colab": {
     "base_uri": "https://localhost:8080/"
    },
    "id": "3-72JxhWRJgN",
    "outputId": "ec4dafca-323d-4def-83eb-ffb278a93735"
   },
   "outputs": [
    {
     "name": "stdout",
     "output_type": "stream",
     "text": [
      "Оценка регрессии (R2): 0.42\n",
      "Среднеквадратичная ошибка (RMSE): 0.65\n"
     ]
    }
   ],
   "source": [
    "r2_least_squares = r2_score(y_test, y_pred)\n",
    "print(f'Оценка регрессии (R2): {r2_least_squares:.2f}')\n",
    "print(f'Среднеквадратичная ошибка (RMSE): {np.sqrt(r2_least_squares):.2f}')"
   ]
  },
  {
   "cell_type": "code",
   "execution_count": 88,
   "id": "sbFxkn5lRlW6",
   "metadata": {
    "colab": {
     "base_uri": "https://localhost:8080/",
     "height": 500
    },
    "id": "sbFxkn5lRlW6",
    "outputId": "60e14ede-ab9d-4978-9877-fbcafe606bba"
   },
   "outputs": [
    {
     "data": {
      "text/plain": [
       "[<matplotlib.lines.Line2D at 0x7f14a6ca7290>]"
      ]
     },
     "execution_count": 88,
     "metadata": {
      "tags": []
     },
     "output_type": "execute_result"
    },
    {
     "data": {
      "image/png": "[encoded data removed]",
      "text/plain": [
       "<Figure size 720x576 with 1 Axes>"
      ]
     },
     "metadata": {
      "needs_background": "light",
      "tags": []
     },
     "output_type": "display_data"
    }
   ],
   "source": [
    "plt.figure(figsize=(10, 8))\n",
    "plt.plot(x_test[:,0], y_pred, 'ro')"
   ]
  },
  {
   "cell_type": "code",
   "execution_count": 91,
   "id": "Z3Um0u8YR0ij",
   "metadata": {
    "colab": {
     "base_uri": "https://localhost:8080/",
     "height": 453
    },
    "id": "Z3Um0u8YR0ij",
    "outputId": "747cb1c6-437e-4675-d57a-673340974e1a"
   },
   "outputs": [
    {
     "name": "stdout",
     "output_type": "stream",
     "text": [
      "Точность работы на обучающей выборке: -5437.229586711891\n",
      "Кросс-валидация: [ 0.38925581 -1.2461125  -0.97057266  0.57593107  0.503585  ]\n"
     ]
    },
    {
     "data": {
      "text/html": [
       "<div>\n",
       "<style scoped>\n",
       "    .dataframe tbody tr th:only-of-type {\n",
       "        vertical-align: middle;\n",
       "    }\n",
       "\n",
       "    .dataframe tbody tr th {\n",
       "        vertical-align: top;\n",
       "    }\n",
       "\n",
       "    .dataframe thead th {\n",
       "        text-align: right;\n",
       "    }\n",
       "</style>\n",
       "<table border=\"1\" class=\"dataframe\">\n",
       "  <thead>\n",
       "    <tr style=\"text-align: right;\">\n",
       "      <th></th>\n",
       "      <th>Actual</th>\n",
       "      <th>Predicted</th>\n",
       "    </tr>\n",
       "  </thead>\n",
       "  <tbody>\n",
       "    <tr>\n",
       "      <th>0</th>\n",
       "      <td>20845</td>\n",
       "      <td>21803.77</td>\n",
       "    </tr>\n",
       "    <tr>\n",
       "      <th>1</th>\n",
       "      <td>22880</td>\n",
       "      <td>6652.62</td>\n",
       "    </tr>\n",
       "    <tr>\n",
       "      <th>2</th>\n",
       "      <td>22000</td>\n",
       "      <td>23123.75</td>\n",
       "    </tr>\n",
       "    <tr>\n",
       "      <th>3</th>\n",
       "      <td>20700</td>\n",
       "      <td>22528.78</td>\n",
       "    </tr>\n",
       "    <tr>\n",
       "      <th>4</th>\n",
       "      <td>16000</td>\n",
       "      <td>24044.05</td>\n",
       "    </tr>\n",
       "    <tr>\n",
       "      <th>...</th>\n",
       "      <td>...</td>\n",
       "      <td>...</td>\n",
       "    </tr>\n",
       "    <tr>\n",
       "      <th>1435</th>\n",
       "      <td>23639</td>\n",
       "      <td>21528.15</td>\n",
       "    </tr>\n",
       "    <tr>\n",
       "      <th>1436</th>\n",
       "      <td>21990</td>\n",
       "      <td>7877.84</td>\n",
       "    </tr>\n",
       "    <tr>\n",
       "      <th>1437</th>\n",
       "      <td>12888</td>\n",
       "      <td>23309.28</td>\n",
       "    </tr>\n",
       "    <tr>\n",
       "      <th>1438</th>\n",
       "      <td>17900</td>\n",
       "      <td>12005.52</td>\n",
       "    </tr>\n",
       "    <tr>\n",
       "      <th>1439</th>\n",
       "      <td>16980</td>\n",
       "      <td>17307.67</td>\n",
       "    </tr>\n",
       "  </tbody>\n",
       "</table>\n",
       "<p>1440 rows × 2 columns</p>\n",
       "</div>"
      ],
      "text/plain": [
       "      Actual  Predicted\n",
       "0      20845   21803.77\n",
       "1      22880    6652.62\n",
       "2      22000   23123.75\n",
       "3      20700   22528.78\n",
       "4      16000   24044.05\n",
       "...      ...        ...\n",
       "1435   23639   21528.15\n",
       "1436   21990    7877.84\n",
       "1437   12888   23309.28\n",
       "1438   17900   12005.52\n",
       "1439   16980   17307.67\n",
       "\n",
       "[1440 rows x 2 columns]"
      ]
     },
     "execution_count": 91,
     "metadata": {
      "tags": []
     },
     "output_type": "execute_result"
    }
   ],
   "source": [
    "from sklearn.linear_model import SGDRegressor\n",
    "reg_sgd = make_pipeline(StandardScaler(),\n",
    "                        SGDRegressor(max_iter=1000, tol=1e-3))\n",
    "reg_sgd.fit(x_train, y_train)\n",
    "score_svr = reg_sgd.score(x_train, y_train)\n",
    "print(f'Точность работы на обучающей выборке: {score_svr}')\n",
    "\n",
    "cross_scores_svr = cross_val_score(reg_sgd, x_train, y_train, scoring='r2', cv=5)\n",
    "print(f'Кросс-валидация: {cross_scores_svr}')\n",
    "\n",
    "y_pred = reg_sgd.predict(x_test)\n",
    "df_y_pred = pd.DataFrame({'Actual': y_test.flatten(), 'Predicted': y_pred.flatten()})\n",
    "df_y_pred"
   ]
  },
  {
   "cell_type": "code",
   "execution_count": 90,
   "id": "7R1Ho_diSgLx",
   "metadata": {
    "colab": {
     "base_uri": "https://localhost:8080/"
    },
    "id": "7R1Ho_diSgLx",
    "outputId": "54ab5cf9-87d1-42f0-95cb-e8d067d35168"
   },
   "outputs": [
    {
     "name": "stdout",
     "output_type": "stream",
     "text": [
      "Оценка регрессии (R2): -8411.60\n",
      "Среднеквадратичная ошибка (RMSE): nan\n"
     ]
    },
    {
     "name": "stderr",
     "output_type": "stream",
     "text": [
      "/usr/local/lib/python3.7/dist-packages/ipykernel_launcher.py:3: RuntimeWarning: invalid value encountered in sqrt\n",
      "  This is separate from the ipykernel package so we can avoid doing imports until\n"
     ]
    }
   ],
   "source": [
    "r2_least_squares = r2_score(y_test, y_pred)\n",
    "print(f'Оценка регрессии (R2): {r2_least_squares:.2f}')\n",
    "print(f'Среднеквадратичная ошибка (RMSE): {np.sqrt(r2_least_squares):.2f}')"
   ]
  },
  {
   "cell_type": "code",
   "execution_count": 92,
   "id": "Y1RlQ3CwSjle",
   "metadata": {
    "colab": {
     "base_uri": "https://localhost:8080/",
     "height": 511
    },
    "id": "Y1RlQ3CwSjle",
    "outputId": "88b8d92a-cde4-4329-d0fd-80a6bd42af02"
   },
   "outputs": [
    {
     "data": {
      "text/plain": [
       "[<matplotlib.lines.Line2D at 0x7f14a6c3eb10>]"
      ]
     },
     "execution_count": 92,
     "metadata": {
      "tags": []
     },
     "output_type": "execute_result"
    },
    {
     "data": {
      "image/png": "[encoded data removed]",
      "text/plain": [
       "<Figure size 720x576 with 1 Axes>"
      ]
     },
     "metadata": {
      "needs_background": "light",
      "tags": []
     },
     "output_type": "display_data"
    }
   ],
   "source": [
    "plt.figure(figsize=(10, 8))\n",
    "plt.plot(x_test[:,0], y_pred, 'ro')"
   ]
  },
  {
   "cell_type": "code",
   "execution_count": 94,
   "id": "twtvsPdNTwlD",
   "metadata": {
    "colab": {
     "base_uri": "https://localhost:8080/",
     "height": 507
    },
    "id": "twtvsPdNTwlD",
    "outputId": "f036ddc7-46d0-48a8-a650-7f948d6a0a22"
   },
   "outputs": [
    {
     "name": "stdout",
     "output_type": "stream",
     "text": [
      "Точность работы на обучающей выборке: 0.31705864840726405\n"
     ]
    },
    {
     "name": "stderr",
     "output_type": "stream",
     "text": [
      "/usr/local/lib/python3.7/dist-packages/sklearn/model_selection/_split.py:667: UserWarning: The least populated class in y has only 1 members, which is less than n_splits=5.\n",
      "  % (min_groups, self.n_splits)), UserWarning)\n"
     ]
    },
    {
     "name": "stdout",
     "output_type": "stream",
     "text": [
      "Кросс-валидация: [0.46204636 0.4409831  0.3514089  0.40285146 0.44748432]\n"
     ]
    },
    {
     "data": {
      "text/html": [
       "<div>\n",
       "<style scoped>\n",
       "    .dataframe tbody tr th:only-of-type {\n",
       "        vertical-align: middle;\n",
       "    }\n",
       "\n",
       "    .dataframe tbody tr th {\n",
       "        vertical-align: top;\n",
       "    }\n",
       "\n",
       "    .dataframe thead th {\n",
       "        text-align: right;\n",
       "    }\n",
       "</style>\n",
       "<table border=\"1\" class=\"dataframe\">\n",
       "  <thead>\n",
       "    <tr style=\"text-align: right;\">\n",
       "      <th></th>\n",
       "      <th>Actual</th>\n",
       "      <th>Predicted</th>\n",
       "    </tr>\n",
       "  </thead>\n",
       "  <tbody>\n",
       "    <tr>\n",
       "      <th>0</th>\n",
       "      <td>20845</td>\n",
       "      <td>20990</td>\n",
       "    </tr>\n",
       "    <tr>\n",
       "      <th>1</th>\n",
       "      <td>22880</td>\n",
       "      <td>26830</td>\n",
       "    </tr>\n",
       "    <tr>\n",
       "      <th>2</th>\n",
       "      <td>22000</td>\n",
       "      <td>22500</td>\n",
       "    </tr>\n",
       "    <tr>\n",
       "      <th>3</th>\n",
       "      <td>20700</td>\n",
       "      <td>22500</td>\n",
       "    </tr>\n",
       "    <tr>\n",
       "      <th>4</th>\n",
       "      <td>16000</td>\n",
       "      <td>19980</td>\n",
       "    </tr>\n",
       "    <tr>\n",
       "      <th>...</th>\n",
       "      <td>...</td>\n",
       "      <td>...</td>\n",
       "    </tr>\n",
       "    <tr>\n",
       "      <th>1435</th>\n",
       "      <td>23639</td>\n",
       "      <td>21854</td>\n",
       "    </tr>\n",
       "    <tr>\n",
       "      <th>1436</th>\n",
       "      <td>21990</td>\n",
       "      <td>20988</td>\n",
       "    </tr>\n",
       "    <tr>\n",
       "      <th>1437</th>\n",
       "      <td>12888</td>\n",
       "      <td>15850</td>\n",
       "    </tr>\n",
       "    <tr>\n",
       "      <th>1438</th>\n",
       "      <td>17900</td>\n",
       "      <td>17800</td>\n",
       "    </tr>\n",
       "    <tr>\n",
       "      <th>1439</th>\n",
       "      <td>16980</td>\n",
       "      <td>15870</td>\n",
       "    </tr>\n",
       "  </tbody>\n",
       "</table>\n",
       "<p>1440 rows × 2 columns</p>\n",
       "</div>"
      ],
      "text/plain": [
       "      Actual  Predicted\n",
       "0      20845      20990\n",
       "1      22880      26830\n",
       "2      22000      22500\n",
       "3      20700      22500\n",
       "4      16000      19980\n",
       "...      ...        ...\n",
       "1435   23639      21854\n",
       "1436   21990      20988\n",
       "1437   12888      15850\n",
       "1438   17900      17800\n",
       "1439   16980      15870\n",
       "\n",
       "[1440 rows x 2 columns]"
      ]
     },
     "execution_count": 94,
     "metadata": {
      "tags": []
     },
     "output_type": "execute_result"
    }
   ],
   "source": [
    "from sklearn.linear_model import LogisticRegression\n",
    "reg_logistic = make_pipeline(StandardScaler(),\n",
    "                        LogisticRegression(max_iter=1000, random_state=0))\n",
    "reg_logistic.fit(x_train, y_train)\n",
    "score_svr = reg_logistic.score(x_train, y_train)\n",
    "print(f'Точность работы на обучающей выборке: {score_svr}')\n",
    "\n",
    "cross_scores_svr = cross_val_score(reg_logistic, x_train, y_train, scoring='r2', cv=5)\n",
    "print(f'Кросс-валидация: {cross_scores_svr}')\n",
    "\n",
    "y_pred = reg_logistic.predict(x_test)\n",
    "df_y_pred = pd.DataFrame({'Actual': y_test.flatten(), 'Predicted': y_pred.flatten()})\n",
    "df_y_pred"
   ]
  },
  {
   "cell_type": "code",
   "execution_count": null,
   "id": "ekki1n22UkHw",
   "metadata": {
    "id": "ekki1n22UkHw"
   },
   "outputs": [],
   "source": [
    "r2_least_squares = r2_score(y_test, y_pred)\n",
    "print(f'Оценка регрессии (R2): {r2_least_squares:.2f}')\n",
    "print(f'Среднеквадратичная ошибка (RMSE): {np.sqrt(r2_least_squares):.2f}')"
   ]
  }
 ],
 "metadata": {
  "colab": {
   "collapsed_sections": [
    "still-architecture",
    "D7tjSd-LkcsA",
    "zythC0lvkspM",
    "yqzxAf2Gk0tm"
   ],
   "name": "CarPricePredict.ipynb",
   "provenance": [],
   "toc_visible": true
  },
  "kernelspec": {
   "display_name": "Python 3",
   "language": "python",
   "name": "python3"
  },
  "language_info": {
   "codemirror_mode": {
    "name": "ipython",
    "version": 3
   },
   "file_extension": ".py",
   "mimetype": "text/x-python",
   "name": "python",
   "nbconvert_exporter": "python",
   "pygments_lexer": "ipython3",
   "version": "3.8.5"
  }
 },
 "nbformat": 4,
 "nbformat_minor": 5
}
