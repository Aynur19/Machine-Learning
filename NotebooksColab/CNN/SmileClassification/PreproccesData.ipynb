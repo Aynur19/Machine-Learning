{
  "nbformat": 4,
  "nbformat_minor": 0,
  "metadata": {
    "colab": {
      "name": "PreproccesData.ipynb",
      "provenance": [],
      "collapsed_sections": []
    },
    "kernelspec": {
      "name": "python3",
      "display_name": "Python 3"
    },
    "language_info": {
      "name": "python"
    }
  },
  "cells": [
    {
      "cell_type": "code",
      "metadata": {
        "id": "KISVbaBPx9k9"
      },
      "source": [
        "import numpy as np\n",
        "import glob\n",
        "import os\n",
        "import cv2\n",
        "import numpy as np\n",
        "from google.colab.patches import cv2_imshow\n",
        "import imutils"
      ],
      "execution_count": null,
      "outputs": []
    },
    {
      "cell_type": "code",
      "metadata": {
        "colab": {
          "base_uri": "https://localhost:8080/"
        },
        "id": "gdGVDWpkzEuY",
        "outputId": "253d5f4c-5343-41f1-c932-5d3d9ef496c8"
      },
      "source": [
        "from google.colab import drive\n",
        "drive.mount('/content/gdrive')"
      ],
      "execution_count": null,
      "outputs": [
        {
          "output_type": "stream",
          "text": [
            "Drive already mounted at /content/gdrive; to attempt to forcibly remount, call drive.mount(\"/content/gdrive\", force_remount=True).\n"
          ],
          "name": "stdout"
        }
      ]
    },
    {
      "cell_type": "code",
      "metadata": {
        "id": "mly6TN5u0dlH"
      },
      "source": [
        "rawdatafolder = 'SmilesDataset/grid_data'\n",
        "croppedfolder = 'SmilesDataset/shame_data'\n",
        "rawdatapath = os.path.join('/content/gdrive/MyDrive',rawdatafolder)\n",
        "croppedpath = os.path.join('/content/gdrive/MyDrive',croppedfolder)"
      ],
      "execution_count": null,
      "outputs": []
    },
    {
      "cell_type": "code",
      "metadata": {
        "id": "kiCpZ46wHx7r"
      },
      "source": [
        "def split_grid(path, save_path, rotate=False):\n",
        "    image  = cv2.imread(path)\n",
        "    image = cv2.resize(image, (437, 437), interpolation=cv2.INTER_AREA)\n",
        "    gray = cv2.cvtColor(image, cv2.COLOR_BGR2GRAY)\n",
        "    blur = cv2.GaussianBlur(gray, (5,5), 0)\n",
        "    thresh = cv2.adaptiveThreshold(blur, 255, 1, 1, 11, 2)\n",
        "\n",
        "    contours = cv2.findContours(thresh, cv2.RETR_TREE, cv2.CHAIN_APPROX_SIMPLE)\n",
        "    contours = imutils.grab_contours(contours)\n",
        "\n",
        "    h, w, _ = image.shape\n",
        "    min_area = (h/10.)*(w/10.) - 30**2\n",
        "    max_area = (h/10.)*(w/10.) + 30**2\n",
        "\n",
        "    i = 0\n",
        "    for contour in contours:\n",
        "        area = cv2.contourArea(contour)\n",
        "        if area > min_area and area < max_area:\n",
        "            x,y,w,h = cv2.boundingRect(contour)\n",
        "            ROI = image[y:y+h, x:x+w]\n",
        "            resized_roi = cv2.resize(ROI, (32, 32), interpolation=cv2.INTER_AREA)\n",
        "            gray_roi = cv2.cvtColor(resized_roi, cv2.COLOR_RGB2GRAY)\n",
        "            ret_roi,wb_roi = cv2.threshold(gray_roi,0,255,cv2.THRESH_BINARY+cv2.THRESH_OTSU)\n",
        "            if rotate:\n",
        "                wb_roi = cv2.rotate(wb_roi, cv2.ROTATE_90_CLOCKWISE)\n",
        "            imgname = os.path.splitext(os.path.split(path)[1])[0] + f\"_ROI_{i}.png\"\n",
        "            wb_roi[wb_roi.shape[0]-2:,:] = 255\n",
        "            wb_roi[:, wb_roi.shape[1]-2:] = 255\n",
        "            wb_roi[:2,:] = 255\n",
        "            wb_roi[:, :2] = 255\n",
        "            cv2.imwrite(os.path.join(save_path,imgname), wb_roi)\n",
        "            i = i + 1"
      ],
      "execution_count": null,
      "outputs": []
    },
    {
      "cell_type": "code",
      "metadata": {
        "id": "SfRwIym1jeMR"
      },
      "source": [
        "for filename in glob.glob(os.path.join(rawdatapath, \"*_?.jpg\")):\n",
        "    if filename.endswith(\"2.jpg\"):\n",
        "        split_grid(filename, croppedpath, True)\n",
        "    else:\n",
        "        split_grid(filename, croppedpath)"
      ],
      "execution_count": null,
      "outputs": []
    }
  ]
}