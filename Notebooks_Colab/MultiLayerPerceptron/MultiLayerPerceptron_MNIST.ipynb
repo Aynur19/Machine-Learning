{
  "nbformat": 4,
  "nbformat_minor": 0,
  "metadata": {
    "colab": {
      "name": "MultiLayerPerceptron_MNIST.ipynb",
      "provenance": [],
      "collapsed_sections": [
        "GQDLUdY-o9UW",
        "fCrBtfiDo9UX",
        "XOE8_s7vRWnO",
        "KTscM223Rabm",
        "gdU2OIreRg72",
        "lCX3YIKjRlve",
        "TTdQvLX3SElF",
        "m-uvl_lHo9Uk",
        "dQr4HHdro9Ul"
      ],
      "toc_visible": true
    },
    "kernelspec": {
      "display_name": "Python 3",
      "language": "python",
      "name": "python3"
    },
    "language_info": {
      "codemirror_mode": {
        "name": "ipython",
        "version": 3
      },
      "file_extension": ".py",
      "mimetype": "text/x-python",
      "name": "python",
      "nbconvert_exporter": "python",
      "pygments_lexer": "ipython3",
      "version": "3.8.5"
    }
  },
  "cells": [
    {
      "cell_type": "markdown",
      "metadata": {
        "id": "n6U0D3gfo9UJ"
      },
      "source": [
        "## Лабораторная работа по курсу \"Искусственный интеллект\"\n",
        "## Многослойный персептрон\n",
        "\n",
        "| Студент | Насыбуллин А. А.|\n",
        "|---------|--------|\n",
        "| Группа  | М8О-107М-20 VR/AR & ИИ|\n",
        "\n",
        "Для скачивания датасетов можно Использовать `wget` или `curl`, либо скачать вручную [по ссылке](https://raw.githubusercontent.com/shwars/NeuroWorkshop/master/Data/MNIST/mnist.pkl.gz)."
      ]
    },
    {
      "cell_type": "markdown",
      "metadata": {
        "id": "GQDLUdY-o9UW"
      },
      "source": [
        "### Подлючение модулей и библиотек"
      ]
    },
    {
      "cell_type": "code",
      "metadata": {
        "id": "NqlyXUwgs354"
      },
      "source": [
        "import pickle\n",
        "import numpy as np\n",
        "import pandas as pd\n",
        "from time import time\n",
        "\n",
        "%matplotlib inline \n",
        "import matplotlib.cm as cm\n",
        "import matplotlib.pyplot as plt \n",
        "from matplotlib import gridspec\n",
        "\n",
        "from sklearn.model_selection import train_test_split"
      ],
      "execution_count": 1,
      "outputs": []
    },
    {
      "cell_type": "markdown",
      "metadata": {
        "id": "fCrBtfiDo9UX"
      },
      "source": [
        "## Классы для работы с нейронной сетью"
      ]
    },
    {
      "cell_type": "markdown",
      "metadata": {
        "id": "XOE8_s7vRWnO"
      },
      "source": [
        "### Класс нейросети"
      ]
    },
    {
      "cell_type": "code",
      "metadata": {
        "id": "UGd-5Tldo9UY"
      },
      "source": [
        "class NeuralNetwork:\n",
        "  # конструктор\n",
        "  def __init__(self, layers: [] = []):\n",
        "    self.layers = layers\n",
        "  \n",
        "  # добавление слоя\n",
        "  def add(self, layer):\n",
        "    self.layers.append(layer)\n",
        "  \n",
        "  # прямой ход: вычисление результа работы нейросети (проход по всем слоям от первого до последнего)\n",
        "  def forward(self, x):\n",
        "    for layer in self.layers:\n",
        "      x = layer.forward(x)\n",
        "    return x\n",
        "  \n",
        "  # обратное распространение ошибки (проход с последнего слоя к первому)\n",
        "  def backward(self, z):\n",
        "    for layer in self.layers[::-1]:\n",
        "      z = layer.backward(z)\n",
        "    return z\n",
        "  \n",
        "  # обновление весов для слоев, имеющих данный функционал\n",
        "  def update(self, learning_rate: float):\n",
        "    for layer in self.layers:\n",
        "      layer.update(learning_rate)"
      ],
      "execution_count": 2,
      "outputs": []
    },
    {
      "cell_type": "markdown",
      "metadata": {
        "id": "KTscM223Rabm"
      },
      "source": [
        "### Класс слоя нейросети"
      ]
    },
    {
      "cell_type": "code",
      "metadata": {
        "id": "2MHLRcwfo9UY"
      },
      "source": [
        "# класс слоя нейросети\n",
        "class NeuralNetworkLayer:\n",
        "  def __init__(self, n_inputs:int, n_outputs: int, activation_func):\n",
        "    self.activation_func = activation_func\n",
        "    self.weights = np.random.normal(0, 1.0 / np.sqrt(n_inputs), (n_outputs, n_inputs))\n",
        "    self.bias = np.zeros((1, n_outputs))\n",
        "    self.d_weights = np.zeros_like(self.weights)\n",
        "    self.d_bias = np.zeros_like(self.bias)\n",
        "\n",
        "  # вычисление результата работы слоя\n",
        "  def forward(self, x):\n",
        "    self.x = x\n",
        "    pred = np.dot(x, self.weights.T) + self.bias\n",
        "    outputs = self.activation_func.forward(pred)\n",
        "    return outputs\n",
        "  \n",
        "  # обратное распространение ошибки\n",
        "  def backward(self, dz):\n",
        "    dz = self.activation_func.backward(dz)\n",
        "    dx = np.dot(dz, self.weights)\n",
        "    d_weights = np.dot(dz.T, self.x)\n",
        "    d_bias = dz.sum(axis=0)\n",
        "    self.d_weights = d_weights\n",
        "    self.d_bias = d_bias\n",
        "    return dx\n",
        "\n",
        "  # обновление весов\n",
        "  def update(self, learning_rate: float):\n",
        "    self.weights -= learning_rate * self.d_weights\n",
        "    self.bias -= learning_rate * self.d_bias"
      ],
      "execution_count": 3,
      "outputs": []
    },
    {
      "cell_type": "markdown",
      "metadata": {
        "id": "gdU2OIreRg72"
      },
      "source": [
        "### Класс функций активации"
      ]
    },
    {
      "cell_type": "code",
      "metadata": {
        "id": "PIA7oOjqo9UZ"
      },
      "source": [
        "class ActivationFunction:\n",
        "  def __init__(self, func: str='softmax'):\n",
        "    self.func = func\n",
        "    self.__set_forward__(func)\n",
        "    self.__set_backward__(func)\n",
        "\n",
        "  # вычисление результата работы слоя\n",
        "  def forward(self, z):\n",
        "    self.forward(self, z)\n",
        "  \n",
        "  # обратное распространение ошибки\n",
        "  def backward(self, dp):\n",
        "    self.backward(self, dp)\n",
        "      \n",
        "  def __set_forward__(self, func):\n",
        "    if self.func=='softmax':\n",
        "      self.forward = self.__softmax_forward__\n",
        "    elif self.func == 'tanh':\n",
        "      self.forward = self.__tanh_forward__\n",
        "    else:\n",
        "      self.forward = self.__softmax_forward__\n",
        "        \n",
        "  def __set_backward__(self, func):\n",
        "    if self.func=='softmax':\n",
        "      self.backward = self.__softmax_backward__\n",
        "    elif self.func == 'tanh':\n",
        "      self.backward = self.__tanh_backward__\n",
        "    else:\n",
        "      self.backward = self.__softmax_backward__\n",
        "\n",
        "  def __softmax_backward__(self, dp):\n",
        "    p = self.forward(self.softmax_z)\n",
        "    pdp = p * dp\n",
        "    result = pdp - p * pdp.sum(axis=1, keepdims=True)\n",
        "    return result\n",
        "\n",
        "  def __softmax_forward__(self, z):\n",
        "    self.softmax_z = z\n",
        "    zmax = z.max(axis=1, keepdims=True)\n",
        "    expz = np.exp(z - zmax)\n",
        "    Z = expz.sum(axis=1, keepdims=True)\n",
        "    probabilities = expz / Z\n",
        "    return probabilities\n",
        "\n",
        "  def __tanh_forward__(self, z):\n",
        "    y = np.tanh(z)\n",
        "    self.tanh_y = y\n",
        "    return y\n",
        "  \n",
        "  def __tanh_backward__(self, dy):\n",
        "    return (1.0 - self.tanh_y**2) * dy"
      ],
      "execution_count": 4,
      "outputs": []
    },
    {
      "cell_type": "markdown",
      "metadata": {
        "id": "lCX3YIKjRlve"
      },
      "source": [
        "### Класс функций потерь"
      ]
    },
    {
      "cell_type": "code",
      "metadata": {
        "id": "66rcZ_c_o9Ua"
      },
      "source": [
        "class LossFunction:\n",
        "  def __init__(self, func: str='cross-entropy'):\n",
        "    self.func = func\n",
        "    self.__set_forward__(func)\n",
        "    self.__set_backward__(func)\n",
        "\n",
        "  # вычисление результата работы слоя\n",
        "  def forward(self, p, y):\n",
        "    self.forward(self, p, y)\n",
        "  \n",
        "  # обратное распространение ошибки\n",
        "  def backward(self, loss):\n",
        "    self.backward(self, loss)\n",
        "      \n",
        "  def __set_forward__(self, func):\n",
        "    if self.func == 'cross-entropy':\n",
        "      self.forward = self.__cross_entropy_forward__\n",
        "    else:\n",
        "      self.forward = self.__cross_entropy_forward__\n",
        "        \n",
        "  def __set_backward__(self, func):\n",
        "    if self.func == 'cross-entropy':\n",
        "      self.backward = self.__cross_entropy_backward__\n",
        "    else:\n",
        "      self.backward = self.__cross_entropy_backward__\n",
        "\n",
        "  def __cross_entropy_forward__(self, p, y):\n",
        "    self.p = p\n",
        "    self.y = y\n",
        "    p_of_y = p[np.arange(len(y)), y]\n",
        "    self.log_prob = np.log(p_of_y)\n",
        "    result = -self.log_prob.mean()\n",
        "    return result\n",
        "  \n",
        "  def __cross_entropy_backward__(self, loss):\n",
        "    dlog_softmax = np.zeros_like(self.p)\n",
        "    dlog_softmax[np.arange(len(self.y)), self.y] -= 1.0 / len(self.y)\n",
        "    result = dlog_softmax / self.p\n",
        "    return result"
      ],
      "execution_count": 5,
      "outputs": []
    },
    {
      "cell_type": "markdown",
      "metadata": {
        "id": "6dPIvqoZRr5C"
      },
      "source": [
        "### Класс для тренировки нейросети"
      ]
    },
    {
      "cell_type": "code",
      "metadata": {
        "id": "oUjmoW7jo9Ua"
      },
      "source": [
        "class NeuralNetworkTrainer:\n",
        "  def __init__(self, batch_size=4, learning_rate=0.01):\n",
        "    # self.network = network\n",
        "    self.batch_size = batch_size;\n",
        "    self.learning_rate = learning_rate;\n",
        "  \n",
        "  # обучение нейронной сети эпохами\n",
        "  def train_epoch(self, net, x_train, y_train, loss):\n",
        "    for i in range(0, len(x_train), self.batch_size):\n",
        "      x_batch = x_train[i:i + self.batch_size]\n",
        "      y_batch = y_train[i:i + self.batch_size]\n",
        "\n",
        "      pred = net.forward(x_batch)\n",
        "      losses = loss.forward(pred, y_batch)\n",
        "  \n",
        "      d_pred = loss.backward(losses)\n",
        "      dx = net.backward(d_pred)\n",
        "      net.update(self.learning_rate)\n",
        "\n",
        "    # обучение нейронной сети эпохами\n",
        "  def train_epoch_with_metrics(self, net, x_train, y_train, x_text, y_test, n_epoch, loss):\n",
        "    metrics = NeuralNetworkMetrics()\n",
        "    \n",
        "    train_accurancy = np.empty((n_epoch + 1, 3))\n",
        "    train_accurancy[:] = np.NAN\n",
        "    valid_accurancy = np.empty((n_epoch + 1, 3))\n",
        "    valid_accurancy[:] = np.NAN\n",
        "    \n",
        "    start_time = time()\n",
        "    for epoch in range(n_epoch + 1):\n",
        "      if epoch != 0:\n",
        "        self.train_epoch(net, x_train, y_train, loss)\n",
        "      \n",
        "      t_loss, t_accuracy = metrics.get_loss_accurancy(net, x_train, y_train, loss)\n",
        "      train_accurancy[epoch, :] = [epoch, t_loss, t_accuracy]\n",
        "      \n",
        "      v_loss, v_accuracy = metrics.get_loss_accurancy(net, x_text, y_test, loss)\n",
        "      valid_accurancy[epoch, :] = [epoch, v_loss, v_accuracy]\n",
        "\n",
        "      if epoch == 0:\n",
        "        print(\"Initial train losses={}, accuracy={}: \".format(t_loss, t_accuracy))\n",
        "        print(\"Initial valid losses={}, accuracy={}: \".format(v_loss, v_accuracy))\n",
        "    end_time = time()\n",
        "\n",
        "    train_time = end_time - start_time\n",
        "\n",
        "    print(\"Final train losses={}, accuracy={}: \".format(train_accurancy[-1, 1], train_accurancy[-1, 2]))\n",
        "    print(\"Final valid losses={}, accuracy={}: \".format(valid_accurancy[-1, 1], valid_accurancy[-1, 2]))\n",
        "\n",
        "    return train_accurancy, valid_accurancy, train_time"
      ],
      "execution_count": 6,
      "outputs": []
    },
    {
      "cell_type": "markdown",
      "metadata": {
        "id": "os-PZJebRyV8"
      },
      "source": [
        "### Класс для вычислений метрик работы нейросети"
      ]
    },
    {
      "cell_type": "code",
      "metadata": {
        "id": "vRyu1wx0o9Ub"
      },
      "source": [
        "class NeuralNetworkMetrics:\n",
        "  # получение ошибки и точности предсказания\n",
        "  def get_loss_accurancy(self, net, x, y, loss):\n",
        "    pred = net.forward(x)\n",
        "    losses = loss.forward(pred, y)\n",
        "    pred_max = np.argmax(pred, axis=1)\n",
        "    accurancy = (pred_max == y).mean()\n",
        "    return losses, accurancy"
      ],
      "execution_count": 7,
      "outputs": []
    },
    {
      "cell_type": "markdown",
      "metadata": {
        "id": "POJizduno9Ub"
      },
      "source": [
        "## Вспомогательные функции"
      ]
    },
    {
      "cell_type": "markdown",
      "metadata": {
        "id": "i6wP2j4kSAog"
      },
      "source": [
        "### Функция визуального мониторинга работы нейросети"
      ]
    },
    {
      "cell_type": "code",
      "metadata": {
        "id": "BJ4i8g2ro9Ub"
      },
      "source": [
        "# обучение и построение графика\n",
        "def train_and_plot(net, x_train, y_train, x_text, y_test, trainer, n_epoch: int, loss, title: str, img_name: str):\n",
        "  \n",
        "  train_accurancy, valid_accurancy, train_time = trainer.train_epoch_with_metrics(net, x_train, y_train, x_text, y_test, n_epoch, loss)\n",
        "  x = train_accurancy[:, 0]\n",
        "  y = (train_accurancy[:, 2], valid_accurancy[:, 2])\n",
        "\n",
        "  plt.figure(figsize=(10, 6))\n",
        "  plt.plot(x, y[0], 'k--', label='training accuracy')\n",
        "  plt.plot(x, y[1], 'g-', label='validation accuracy')\n",
        "  plt.legend(loc='lower right')\n",
        "\n",
        "  title = f'{title}, Train Time = {train_time:.2f} sec'\n",
        "  plt.title(f'{title}')\n",
        "\n",
        "  plt.savefig(f'{img_name}')"
      ],
      "execution_count": 8,
      "outputs": []
    },
    {
      "cell_type": "markdown",
      "metadata": {
        "id": "TnSSQcHDDSdj"
      },
      "source": [
        "### Функция генерации названия графика"
      ]
    },
    {
      "cell_type": "code",
      "metadata": {
        "id": "baLw476bDblG"
      },
      "source": [
        "def get_plot_title(layers, n_epoch, batch_size, learning_rate, loss_func):\n",
        "  return f'Layers = {layers}, Epoches = {n_epoch}, Batches = {batch_size}, Learning Rate = {learning_rate}, Loss Function = {loss_func}'"
      ],
      "execution_count": 9,
      "outputs": []
    },
    {
      "cell_type": "markdown",
      "metadata": {
        "id": "9eJFuiR_DvE_"
      },
      "source": [
        "### Функция генерции названия картинки"
      ]
    },
    {
      "cell_type": "code",
      "metadata": {
        "id": "TB36fzvqDzAq"
      },
      "source": [
        "def get_img_name(dataset: str, layers, n_epoch, batch_size, learning_rate, loss_func, format: str):\n",
        "  return f'DS({dataset})_NL({layers})_E({n_epoch})_B({batch_size})_LR({learning_rate})_LF({loss.func}).{format}'"
      ],
      "execution_count": 10,
      "outputs": []
    },
    {
      "cell_type": "markdown",
      "metadata": {
        "id": "TTdQvLX3SElF"
      },
      "source": [
        "## Установка модулей для загрузки и распаковки данных"
      ]
    },
    {
      "cell_type": "code",
      "metadata": {
        "colab": {
          "base_uri": "https://localhost:8080/"
        },
        "id": "2ml3Ol7RSMnp",
        "outputId": "31b23834-050e-4736-aefd-21f0cc500b6c"
      },
      "source": [
        "!pip install gzip-reader\n",
        "\n",
        "# если среда запущена через Colab\n",
        "if 'google.colab' in str(get_ipython()):\n",
        "  !pip install rm\n",
        "  !pip install wget"
      ],
      "execution_count": 11,
      "outputs": [
        {
          "output_type": "stream",
          "text": [
            "Collecting gzip-reader\n",
            "  Downloading https://files.pythonhosted.org/packages/14/82/0f72db8fa5610f5ca291e4e21db0349ffb61b64181d89f0da4bcda444e96/gzip-reader-0.1.tar.gz\n",
            "Building wheels for collected packages: gzip-reader\n",
            "  Building wheel for gzip-reader (setup.py) ... \u001b[?25l\u001b[?25hdone\n",
            "  Created wheel for gzip-reader: filename=gzip_reader-0.1-cp37-none-any.whl size=3172 sha256=7185d6611a94a15712352491b77fd5151c5446048b3e216d5030ccec8f5efa4d\n",
            "  Stored in directory: /root/.cache/pip/wheels/22/86/e9/436fed6772329dda05bd2b3f1630c63eb7502bf4844f2375fa\n",
            "Successfully built gzip-reader\n",
            "Installing collected packages: gzip-reader\n",
            "Successfully installed gzip-reader-0.1\n",
            "Collecting rm\n",
            "  Downloading https://files.pythonhosted.org/packages/a8/46/175372fda424a70c5a8bd92f341061de653ac5525f6619f1d56fc0d9bc9a/rm-2020.12.3.tar.gz\n",
            "Collecting values\n",
            "  Downloading https://files.pythonhosted.org/packages/cc/18/952219903bde3175113927866c19b536cfcea3259cd4e3fdacb8604723f6/values-2020.12.3.tar.gz\n",
            "Building wheels for collected packages: rm, values\n",
            "  Building wheel for rm (setup.py) ... \u001b[?25l\u001b[?25hdone\n",
            "  Created wheel for rm: filename=rm-2020.12.3-cp37-none-any.whl size=1423 sha256=365c28626d802aafd1274044eea503f250743bf682c75516cdd11c9f432b40e9\n",
            "  Stored in directory: /root/.cache/pip/wheels/51/31/d2/bd52f65a6a842cc307357715acdf751951e8a35d2ba17bfe9c\n",
            "  Building wheel for values (setup.py) ... \u001b[?25l\u001b[?25hdone\n",
            "  Created wheel for values: filename=values-2020.12.3-cp37-none-any.whl size=1403 sha256=50892f08e021e46a2f89974e70f0743baa6fe0804f4b89a0748c23682bc6be6f\n",
            "  Stored in directory: /root/.cache/pip/wheels/6f/ae/4f/3c3954bcfd34d33a760db86564e53eed2817cf4c1540ec35b5\n",
            "Successfully built rm values\n",
            "Installing collected packages: values, rm\n",
            "Successfully installed rm-2020.12.3 values-2020.12.3\n",
            "Collecting wget\n",
            "  Downloading https://files.pythonhosted.org/packages/47/6a/62e288da7bcda82b935ff0c6cfe542970f04e29c756b0e147251b2fb251f/wget-3.2.zip\n",
            "Building wheels for collected packages: wget\n",
            "  Building wheel for wget (setup.py) ... \u001b[?25l\u001b[?25hdone\n",
            "  Created wheel for wget: filename=wget-3.2-cp37-none-any.whl size=9681 sha256=dd1b15c7a73b158f439fa8525d88c1a8a9bde3381fbe882b4aeff7e7387a153b\n",
            "  Stored in directory: /root/.cache/pip/wheels/40/15/30/7d8f7cea2902b4db79e3fea550d7d7b85ecb27ef992b618f3f\n",
            "Successfully built wget\n",
            "Installing collected packages: wget\n",
            "Successfully installed wget-3.2\n"
          ],
          "name": "stdout"
        }
      ]
    },
    {
      "cell_type": "markdown",
      "metadata": {
        "id": "Uazn0_Dco9Ug"
      },
      "source": [
        "## MNIST"
      ]
    },
    {
      "cell_type": "markdown",
      "metadata": {
        "id": "m-uvl_lHo9Uk"
      },
      "source": [
        "### MNIST. Загрузка данных"
      ]
    },
    {
      "cell_type": "markdown",
      "metadata": {
        "id": "gEfK6YmwuERi"
      },
      "source": [
        "Скачаем данные с помощью инстрмента **curl** и разархивируем данные с помощью инструмента **gzip**"
      ]
    },
    {
      "cell_type": "code",
      "metadata": {
        "colab": {
          "base_uri": "https://localhost:8080/"
        },
        "id": "8iQs-CSLo9UV",
        "scrolled": true,
        "outputId": "d2e8db7c-4626-4a1d-c653-26e2628732e0"
      },
      "source": [
        "!rm -r /content/data/mnist\n",
        "!wget -P data/mnist https://raw.githubusercontent.com/Aynur19/Machine-Learning/main/data/mnist/mnist.pkl.gz\n",
        "!gzip -d /content/data/mnist/mnist.pkl.gz\n",
        "  \n",
        "with open('/content/data/mnist/mnist.pkl','rb') as f:\n",
        "  MNIST = pickle.load(f)"
      ],
      "execution_count": 12,
      "outputs": [
        {
          "output_type": "stream",
          "text": [
            "rm: cannot remove '/content/data/mnist': No such file or directory\n",
            "--2021-04-08 15:00:07--  https://raw.githubusercontent.com/Aynur19/Machine-Learning/main/data/mnist/mnist.pkl.gz\n",
            "Resolving raw.githubusercontent.com (raw.githubusercontent.com)... 185.199.111.133, 185.199.108.133, 185.199.109.133, ...\n",
            "Connecting to raw.githubusercontent.com (raw.githubusercontent.com)|185.199.111.133|:443... connected.\n",
            "HTTP request sent, awaiting response... 200 OK\n",
            "Length: 10392609 (9.9M) [application/octet-stream]\n",
            "Saving to: ‘data/mnist/mnist.pkl.gz’\n",
            "\n",
            "mnist.pkl.gz        100%[===================>]   9.91M  29.5MB/s    in 0.3s    \n",
            "\n",
            "2021-04-08 15:00:08 (29.5 MB/s) - ‘data/mnist/mnist.pkl.gz’ saved [10392609/10392609]\n",
            "\n"
          ],
          "name": "stdout"
        }
      ]
    },
    {
      "cell_type": "markdown",
      "metadata": {
        "id": "B77P2_fPufs-"
      },
      "source": [
        "Посмотрим какие данные нам предоставлены"
      ]
    },
    {
      "cell_type": "code",
      "metadata": {
        "colab": {
          "base_uri": "https://localhost:8080/"
        },
        "id": "4eJqVa9to9Uk",
        "outputId": "afba2562-3c5d-45c2-addb-6292a97747fe"
      },
      "source": [
        "MNIST"
      ],
      "execution_count": 13,
      "outputs": [
        {
          "output_type": "execute_result",
          "data": {
            "text/plain": [
              "{'Train': {'Features': array([[0, 0, 0, ..., 0, 0, 0],\n",
              "         [0, 0, 0, ..., 0, 0, 0],\n",
              "         [0, 0, 0, ..., 0, 0, 0],\n",
              "         ...,\n",
              "         [0, 0, 0, ..., 0, 0, 0],\n",
              "         [0, 0, 0, ..., 0, 0, 0],\n",
              "         [0, 0, 0, ..., 0, 0, 0]], dtype=int32),\n",
              "  'Labels': array([1, 0, 1, ..., 7, 6, 9], dtype=int32)}}"
            ]
          },
          "metadata": {
            "tags": []
          },
          "execution_count": 13
        }
      ]
    },
    {
      "cell_type": "markdown",
      "metadata": {
        "id": "iMH9lcf6vm5S"
      },
      "source": [
        "Видно, что имеется 2 набора данных:\n",
        "- Features - матрица признаковых описаний объектов (значения пикселей каждой картинки)\n",
        "- Labels - вектор ответов (принадлежность картинки к определенному классу)\n",
        "\n",
        "Разделим данные на 2 переменные:\n",
        "- labels - вектор ответов (значения классов)\n",
        "- data - матрица признаков (значения пикселей)"
      ]
    },
    {
      "cell_type": "code",
      "metadata": {
        "id": "zl26CHMHo9Ul"
      },
      "source": [
        "labels = MNIST['Train']['Labels']\n",
        "data = MNIST['Train']['Features']"
      ],
      "execution_count": 14,
      "outputs": []
    },
    {
      "cell_type": "markdown",
      "metadata": {
        "id": "dQr4HHdro9Ul"
      },
      "source": [
        "### MNIST. Первоначальный анализ данных, предобработка\n"
      ]
    },
    {
      "cell_type": "markdown",
      "metadata": {
        "id": "QqUVr3GDGj5f"
      },
      "source": [
        "Выведем основную информацию:\n",
        "- количество признаков (пикселей)\n",
        "- количество объектов (картинок)\n",
        "- количество разных ответов (классов)"
      ]
    },
    {
      "cell_type": "code",
      "metadata": {
        "colab": {
          "base_uri": "https://localhost:8080/"
        },
        "id": "25JcahrMo9Um",
        "outputId": "e0742380-558e-4b3c-d714-1aeae6919d19"
      },
      "source": [
        "print(f'Количество признаков (пикселей): {data.shape[1]}')\n",
        "print(f'Количество объектов (картинок): {data.shape[0]}')\n",
        "print(f'Количество разных ответов (классов): {len(np.unique(labels))}')"
      ],
      "execution_count": 15,
      "outputs": [
        {
          "output_type": "stream",
          "text": [
            "Количество признаков (пикселей): 784\n",
            "Количество объектов (картинок): 42000\n",
            "Количество разных ответов (классов): 10\n"
          ],
          "name": "stdout"
        }
      ]
    },
    {
      "cell_type": "markdown",
      "metadata": {
        "id": "txQ_juNno9Un"
      },
      "source": [
        "Необходимо: \n",
        "1. Поменять тип данных для признаков на float, чтобы во время обучения и применения нейронных сетей тип данных был везде одинаковый. При приведении к int дробная часть отсекается, что ведет к увеличению погрешности в вычислениях \n",
        "2. Отмасштабировать все значения пикселей к значениям от 0 до 1,иначе в ходе вычислений большие значения могут привести к ошибкам"
      ]
    },
    {
      "cell_type": "code",
      "metadata": {
        "id": "eHGHlnyuo9Un"
      },
      "source": [
        "data = data.astype(float)\n",
        "data = data / 255"
      ],
      "execution_count": 16,
      "outputs": []
    },
    {
      "cell_type": "markdown",
      "metadata": {
        "id": "Y4g39w2pyBKw"
      },
      "source": [
        "Разбиваем признаки и ответы на обучающую и тестовую выборки в соотношении 75/25"
      ]
    },
    {
      "cell_type": "code",
      "metadata": {
        "id": "7kI5zHwso9Uo"
      },
      "source": [
        "x_train, x_test, y_train, y_test = train_test_split(data, labels, test_size=0.25, random_state=42)"
      ],
      "execution_count": 17,
      "outputs": []
    },
    {
      "cell_type": "markdown",
      "metadata": {
        "id": "DPupsqLLo9Uo"
      },
      "source": [
        "### MNIST. Применение нейронных сетей и отображение графика обучения"
      ]
    },
    {
      "cell_type": "markdown",
      "metadata": {
        "id": "4v10cQ4Cme9B"
      },
      "source": [
        "Создание экземпляров: \n",
        "- функция ошибки\n",
        "- расчета метрик"
      ]
    },
    {
      "cell_type": "code",
      "metadata": {
        "id": "jr2MFdPjo9Uo"
      },
      "source": [
        "loss = LossFunction('cross-entropy')\n",
        "metrics = NeuralNetworkMetrics()"
      ],
      "execution_count": 18,
      "outputs": []
    },
    {
      "cell_type": "markdown",
      "metadata": {
        "id": "_jpgXtRFo33T"
      },
      "source": [
        "Применение разных моделей нейронной сети"
      ]
    },
    {
      "cell_type": "code",
      "metadata": {
        "colab": {
          "base_uri": "https://localhost:8080/",
          "height": 458
        },
        "id": "w9IPbkBpo9Uo",
        "outputId": "bde12c8e-1cad-4469-beb2-762e880a4347"
      },
      "source": [
        "# обучение нейронной сети с одним слоем\n",
        "layer1 = NeuralNetworkLayer(784, 10, activation_func=ActivationFunction('softmax'))\n",
        "net = NeuralNetwork([layer1])\n",
        "n_epoch = 10\n",
        "batch_size = 4\n",
        "learning_rate = 0.1\n",
        "\n",
        "trainer = NeuralNetworkTrainer(batch_size, learning_rate)\n",
        "train_and_plot(net, x_train, y_train, x_test, y_test, trainer, n_epoch, loss, \n",
        "               title=get_plot_title(len(net.layers), n_epoch, batch_size, learning_rate, loss.func),\n",
        "               img_name=get_img_name('MNIST', len(net.layers), n_epoch, batch_size, learning_rate, loss.func, 'png'))"
      ],
      "execution_count": 19,
      "outputs": [
        {
          "output_type": "stream",
          "text": [
            "Initial train losses=2.30204506154226, accuracy=0.11593650793650793: \n",
            "Initial valid losses=2.300310584609296, accuracy=0.11828571428571429: \n",
            "Final train losses=0.2903033393041941, accuracy=0.9185396825396825: \n",
            "Final valid losses=0.37886789292299083, accuracy=0.9043809523809524: \n"
          ],
          "name": "stdout"
        },
        {
          "output_type": "display_data",
          "data": {
            "image/png": "[encoded data removed]",
            "text/plain": [
              "<Figure size 720x432 with 1 Axes>"
            ]
          },
          "metadata": {
            "tags": [],
            "needs_background": "light"
          }
        }
      ]
    },
    {
      "cell_type": "code",
      "metadata": {
        "colab": {
          "base_uri": "https://localhost:8080/",
          "height": 458
        },
        "id": "1V8xuV1xqudY",
        "outputId": "e09edfd5-23b5-4ca0-ae31-3f7426f3672a"
      },
      "source": [
        "# обучение нейронной сети с одним слоем. Скорость обучения = 0.5\n",
        "layer1 = NeuralNetworkLayer(784, 10, activation_func=ActivationFunction('softmax'))\n",
        "net = NeuralNetwork([layer1])\n",
        "n_epoch = 10\n",
        "batch_size = 4\n",
        "learning_rate = 0.5\n",
        "\n",
        "trainer = NeuralNetworkTrainer(batch_size, learning_rate)\n",
        "train_and_plot(net, x_train, y_train, x_test, y_test, trainer, n_epoch, loss, \n",
        "               title=get_plot_title(len(net.layers), n_epoch, batch_size, learning_rate, loss.func),\n",
        "               img_name=get_img_name('MNIST', len(net.layers), n_epoch, batch_size, learning_rate, loss.func, 'png'))"
      ],
      "execution_count": 20,
      "outputs": [
        {
          "output_type": "stream",
          "text": [
            "Initial train losses=2.4686925288842767, accuracy=0.07117460317460317: \n",
            "Initial valid losses=2.4724369455379787, accuracy=0.06266666666666666: \n",
            "Final train losses=1.2402475457850215, accuracy=0.8701269841269841: \n",
            "Final valid losses=1.593146488065365, accuracy=0.8606666666666667: \n"
          ],
          "name": "stdout"
        },
        {
          "output_type": "display_data",
          "data": {
            "image/png": "[encoded data removed]",
            "text/plain": [
              "<Figure size 720x432 with 1 Axes>"
            ]
          },
          "metadata": {
            "tags": [],
            "needs_background": "light"
          }
        }
      ]
    },
    {
      "cell_type": "code",
      "metadata": {
        "colab": {
          "base_uri": "https://localhost:8080/",
          "height": 458
        },
        "id": "hjjskNCSsa4H",
        "outputId": "60c8cb35-114b-4dea-d5ac-dea139da359d"
      },
      "source": [
        "# обучение нейронной сети с 2-мя слоями\n",
        "layer1 = NeuralNetworkLayer(784, 392, activation_func=ActivationFunction('tanh'))\n",
        "layer2 = NeuralNetworkLayer(392, 10, activation_func=ActivationFunction('softmax'))\n",
        "net = NeuralNetwork([layer1, layer2])\n",
        "n_epoch = 10\n",
        "batch_size = 16\n",
        "learning_rate = 0.1\n",
        "\n",
        "trainer = NeuralNetworkTrainer(batch_size, learning_rate)\n",
        "train_and_plot(net, x_train, y_train, x_test, y_test, trainer, n_epoch, loss, \n",
        "               title=get_plot_title(len(net.layers), n_epoch, batch_size, learning_rate, loss.func),\n",
        "               img_name=get_img_name('MNIST', len(net.layers), n_epoch, batch_size, learning_rate, loss.func, 'png'))"
      ],
      "execution_count": 21,
      "outputs": [
        {
          "output_type": "stream",
          "text": [
            "Initial train losses=2.3370419345756943, accuracy=0.12673015873015872: \n",
            "Initial valid losses=2.331618896323844, accuracy=0.12466666666666666: \n",
            "Final train losses=0.03145314709764491, accuracy=0.9905396825396825: \n",
            "Final valid losses=0.1039411129133574, accuracy=0.9680952380952381: \n"
          ],
          "name": "stdout"
        },
        {
          "output_type": "display_data",
          "data": {
            "image/png": "[encoded data removed]",
            "text/plain": [
              "<Figure size 720x432 with 1 Axes>"
            ]
          },
          "metadata": {
            "tags": [],
            "needs_background": "light"
          }
        }
      ]
    },
    {
      "cell_type": "code",
      "metadata": {
        "colab": {
          "base_uri": "https://localhost:8080/",
          "height": 458
        },
        "id": "2u7hlL8Fo9Up",
        "outputId": "abe1822e-81e1-431d-c528-f7ecd5c81b45"
      },
      "source": [
        "# обучение нейронной сети с 2-мя слоями\n",
        "layer1 = NeuralNetworkLayer(784, 392, activation_func=ActivationFunction('tanh'))\n",
        "layer2 = NeuralNetworkLayer(392, 10, activation_func=ActivationFunction('softmax'))\n",
        "net = NeuralNetwork([layer1, layer2])\n",
        "n_epoch = 10\n",
        "batch_size = 16\n",
        "learning_rate = 0.5\n",
        "\n",
        "trainer = NeuralNetworkTrainer(batch_size, learning_rate)\n",
        "train_and_plot(net, x_train, y_train, x_test, y_test, trainer, n_epoch, loss, \n",
        "               title=get_plot_title(len(net.layers), n_epoch, batch_size, learning_rate, loss.func),\n",
        "               img_name=get_img_name('MNIST', len(net.layers), n_epoch, batch_size, learning_rate, loss.func, 'png'))"
      ],
      "execution_count": 22,
      "outputs": [
        {
          "output_type": "stream",
          "text": [
            "Initial train losses=2.2909879686341452, accuracy=0.13968253968253969: \n",
            "Initial valid losses=2.2914260540299813, accuracy=0.13380952380952382: \n",
            "Final train losses=0.39112636908693177, accuracy=0.9485079365079365: \n",
            "Final valid losses=0.6293439779442181, accuracy=0.9338095238095238: \n"
          ],
          "name": "stdout"
        },
        {
          "output_type": "display_data",
          "data": {
            "image/png": "[encoded data removed]",
            "text/plain": [
              "<Figure size 720x432 with 1 Axes>"
            ]
          },
          "metadata": {
            "tags": [],
            "needs_background": "light"
          }
        }
      ]
    },
    {
      "cell_type": "code",
      "metadata": {
        "colab": {
          "base_uri": "https://localhost:8080/",
          "height": 458
        },
        "id": "CKrJj18lo9Uq",
        "outputId": "e7a4ecb6-9a6e-4d38-f3a1-37b26d02e800"
      },
      "source": [
        "# обучение нейронной сети с 3-мя слоями\n",
        "layer1 = NeuralNetworkLayer(784, 392, activation_func=ActivationFunction('tanh'))\n",
        "layer2 = NeuralNetworkLayer(392, 196, activation_func=ActivationFunction('tanh'))\n",
        "layer3 = NeuralNetworkLayer(196, 10, activation_func=ActivationFunction('softmax'))\n",
        "\n",
        "net = NeuralNetwork([layer1, layer2, layer3])\n",
        "n_epoch = 10\n",
        "batch_size = 32\n",
        "learning_rate = 0.1\n",
        "\n",
        "trainer = NeuralNetworkTrainer(batch_size, learning_rate)\n",
        "train_and_plot(net, x_train, y_train, x_test, y_test, trainer, n_epoch, loss, \n",
        "               title=get_plot_title(len(net.layers), n_epoch, batch_size, learning_rate, loss.func),\n",
        "               img_name=get_img_name('MNIST', len(net.layers), n_epoch, batch_size, learning_rate, loss.func, 'png'))"
      ],
      "execution_count": 23,
      "outputs": [
        {
          "output_type": "stream",
          "text": [
            "Initial train losses=2.3938194741560874, accuracy=0.09584126984126984: \n",
            "Initial valid losses=2.3973647852034876, accuracy=0.09428571428571429: \n",
            "Final train losses=0.03470912018779652, accuracy=0.9897142857142858: \n",
            "Final valid losses=0.10023789878691837, accuracy=0.969047619047619: \n"
          ],
          "name": "stdout"
        },
        {
          "output_type": "display_data",
          "data": {
            "image/png": "[encoded data removed]",
            "text/plain": [
              "<Figure size 720x432 with 1 Axes>"
            ]
          },
          "metadata": {
            "tags": [],
            "needs_background": "light"
          }
        }
      ]
    },
    {
      "cell_type": "code",
      "metadata": {
        "colab": {
          "base_uri": "https://localhost:8080/",
          "height": 458
        },
        "id": "rPMJ6YG2GYyf",
        "outputId": "a2bb7580-2937-423b-868b-9ecdba7fca55"
      },
      "source": [
        "# обучение нейронной сети с 3-мя слоями\n",
        "layer1 = NeuralNetworkLayer(784, 392, activation_func=ActivationFunction('tanh'))\n",
        "layer2 = NeuralNetworkLayer(392, 196, activation_func=ActivationFunction('tanh'))\n",
        "layer3 = NeuralNetworkLayer(196, 10, activation_func=ActivationFunction('softmax'))\n",
        "\n",
        "net = NeuralNetwork([layer1, layer2, layer3])\n",
        "n_epoch = 10\n",
        "batch_size = 32\n",
        "learning_rate = 0.5\n",
        "\n",
        "trainer = NeuralNetworkTrainer(batch_size, learning_rate)\n",
        "train_and_plot(net, x_train, y_train, x_test, y_test, trainer, n_epoch, loss, \n",
        "               title=get_plot_title(len(net.layers), n_epoch, batch_size, learning_rate, loss.func),\n",
        "               img_name=get_img_name('MNIST', len(net.layers), n_epoch, batch_size, learning_rate, loss.func, 'png'))"
      ],
      "execution_count": 24,
      "outputs": [
        {
          "output_type": "stream",
          "text": [
            "Initial train losses=2.379155907122742, accuracy=0.0714920634920635: \n",
            "Initial valid losses=2.3785539599544276, accuracy=0.06638095238095239: \n",
            "Final train losses=0.01165619105114387, accuracy=0.9958412698412699: \n",
            "Final valid losses=0.1352854460771524, accuracy=0.9701904761904762: \n"
          ],
          "name": "stdout"
        },
        {
          "output_type": "display_data",
          "data": {
            "image/png": "[encoded data removed]",
            "text/plain": [
              "<Figure size 720x432 with 1 Axes>"
            ]
          },
          "metadata": {
            "tags": [],
            "needs_background": "light"
          }
        }
      ]
    }
  ]
}