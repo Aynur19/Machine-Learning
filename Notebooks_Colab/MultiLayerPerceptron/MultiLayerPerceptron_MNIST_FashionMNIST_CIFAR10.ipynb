{
  "nbformat": 4,
  "nbformat_minor": 0,
  "metadata": {
    "colab": {
      "name": "Solution1.ipynb",
      "provenance": [],
      "collapsed_sections": [
        "GQDLUdY-o9UW",
        "fCrBtfiDo9UX",
        "XOE8_s7vRWnO",
        "KTscM223Rabm",
        "gdU2OIreRg72",
        "lCX3YIKjRlve",
        "TTdQvLX3SElF",
        "m-uvl_lHo9Uk",
        "dQr4HHdro9Ul"
      ],
      "toc_visible": true
    },
    "kernelspec": {
      "display_name": "Python 3",
      "language": "python",
      "name": "python3"
    },
    "language_info": {
      "codemirror_mode": {
        "name": "ipython",
        "version": 3
      },
      "file_extension": ".py",
      "mimetype": "text/x-python",
      "name": "python",
      "nbconvert_exporter": "python",
      "pygments_lexer": "ipython3",
      "version": "3.8.5"
    }
  },
  "cells": [
    {
      "cell_type": "markdown",
      "metadata": {
        "id": "n6U0D3gfo9UJ"
      },
      "source": [
        "## Лабораторная работа по курсу \"Искусственный интеллект\"\n",
        "## Многослойный персептрон\n",
        "\n",
        "| Студент | Насыбуллин А. А.|\n",
        "|---------|--------|\n",
        "| Группа  | М8О-107М-20 VR/AR & ИИ|\n",
        "\n",
        "Для скачивания датасетов можно Использовать `wget` или `curl`, либо скачать вручную [по ссылке](https://raw.githubusercontent.com/shwars/NeuroWorkshop/master/Data/MNIST/mnist.pkl.gz)."
      ]
    },
    {
      "cell_type": "markdown",
      "metadata": {
        "id": "GQDLUdY-o9UW"
      },
      "source": [
        "### Подлючение модулей и библиотек"
      ]
    },
    {
      "cell_type": "code",
      "metadata": {
        "id": "NqlyXUwgs354"
      },
      "source": [
        "import pickle\n",
        "import numpy as np\n",
        "import pandas as pd\n",
        "from time import time\n",
        "\n",
        "%matplotlib inline \n",
        "import matplotlib.cm as cm\n",
        "import matplotlib.pyplot as plt \n",
        "from matplotlib import gridspec\n",
        "\n",
        "from sklearn.model_selection import train_test_split"
      ],
      "execution_count": 22,
      "outputs": []
    },
    {
      "cell_type": "markdown",
      "metadata": {
        "id": "fCrBtfiDo9UX"
      },
      "source": [
        "## Классы для работы с нейронной сетью"
      ]
    },
    {
      "cell_type": "markdown",
      "metadata": {
        "id": "XOE8_s7vRWnO"
      },
      "source": [
        "### Класс нейросети"
      ]
    },
    {
      "cell_type": "code",
      "metadata": {
        "id": "UGd-5Tldo9UY"
      },
      "source": [
        "class NeuralNetwork:\n",
        "  # конструктор\n",
        "  def __init__(self, layers: [] = []):\n",
        "    self.layers = layers\n",
        "  \n",
        "  # добавление слоя\n",
        "  def add(self, layer):\n",
        "    self.layers.append(layer)\n",
        "  \n",
        "  # прямой ход: вычисление результа работы нейросети (проход по всем слоям от первого до последнего)\n",
        "  def forward(self, x):\n",
        "    for layer in self.layers:\n",
        "      x = layer.forward(x)\n",
        "    return x\n",
        "  \n",
        "  # обратное распространение ошибки (проход с последнего слоя к первому)\n",
        "  def backward(self, z):\n",
        "    for layer in self.layers[::-1]:\n",
        "      z = layer.backward(z)\n",
        "    return z\n",
        "  \n",
        "  # обновление весов для слоев, имеющих данный функционал\n",
        "  def update(self, learning_rate: float):\n",
        "    for layer in self.layers:\n",
        "      layer.update(learning_rate)"
      ],
      "execution_count": 2,
      "outputs": []
    },
    {
      "cell_type": "markdown",
      "metadata": {
        "id": "KTscM223Rabm"
      },
      "source": [
        "### Класс слоя нейросети"
      ]
    },
    {
      "cell_type": "code",
      "metadata": {
        "id": "2MHLRcwfo9UY"
      },
      "source": [
        "# класс слоя нейросети\n",
        "class NeuralNetworkLayer:\n",
        "  def __init__(self, n_inputs:int, n_outputs: int, activation_func):\n",
        "    self.activation_func = activation_func\n",
        "    self.weights = np.random.normal(0, 1.0 / np.sqrt(n_inputs), (n_outputs, n_inputs))\n",
        "    self.bias = np.zeros((1, n_outputs))\n",
        "    self.d_weights = np.zeros_like(self.weights)\n",
        "    self.d_bias = np.zeros_like(self.bias)\n",
        "\n",
        "  # вычисление результата работы слоя\n",
        "  def forward(self, x):\n",
        "    self.x = x\n",
        "    pred = np.dot(x, self.weights.T) + self.bias\n",
        "    outputs = self.activation_func.forward(pred)\n",
        "    return outputs\n",
        "  \n",
        "  # обратное распространение ошибки\n",
        "  def backward(self, dz):\n",
        "    dz = self.activation_func.backward(dz)\n",
        "    dx = np.dot(dz, self.weights)\n",
        "    d_weights = np.dot(dz.T, self.x)\n",
        "    d_bias = dz.sum(axis=0)\n",
        "    self.d_weights = d_weights\n",
        "    self.d_bias = d_bias\n",
        "    return dx\n",
        "\n",
        "  # обновление весов\n",
        "  def update(self, learning_rate: float):\n",
        "    self.weights -= learning_rate * self.d_weights\n",
        "    self.bias -= learning_rate * self.d_bias"
      ],
      "execution_count": 3,
      "outputs": []
    },
    {
      "cell_type": "markdown",
      "metadata": {
        "id": "gdU2OIreRg72"
      },
      "source": [
        "### Класс функций активации"
      ]
    },
    {
      "cell_type": "code",
      "metadata": {
        "id": "PIA7oOjqo9UZ"
      },
      "source": [
        "class ActivationFunction:\n",
        "  def __init__(self, func: str='softmax'):\n",
        "    self.func = func\n",
        "    self.__set_forward__(func)\n",
        "    self.__set_backward__(func)\n",
        "\n",
        "  # вычисление результата работы слоя\n",
        "  def forward(self, z):\n",
        "    self.forward(self, z)\n",
        "  \n",
        "  # обратное распространение ошибки\n",
        "  def backward(self, dp):\n",
        "    self.backward(self, dp)\n",
        "      \n",
        "  def __set_forward__(self, func):\n",
        "    if self.func=='softmax':\n",
        "      self.forward = self.__softmax_forward__\n",
        "    elif self.func == 'tanh':\n",
        "      self.forward = self.__tanh_forward__\n",
        "    else:\n",
        "      self.forward = self.__softmax_forward__\n",
        "        \n",
        "  def __set_backward__(self, func):\n",
        "    if self.func=='softmax':\n",
        "      self.backward = self.__softmax_backward__\n",
        "    elif self.func == 'tanh':\n",
        "      self.backward = self.__tanh_backward__\n",
        "    else:\n",
        "      self.backward = self.__softmax_backward__\n",
        "\n",
        "  def __softmax_backward__(self, dp):\n",
        "    p = self.forward(self.softmax_z)\n",
        "    pdp = p * dp\n",
        "    result = pdp - p * pdp.sum(axis=1, keepdims=True)\n",
        "    return result\n",
        "\n",
        "  def __softmax_forward__(self, z):\n",
        "    self.softmax_z = z\n",
        "    zmax = z.max(axis=1, keepdims=True)\n",
        "    expz = np.exp(z - zmax)\n",
        "    Z = expz.sum(axis=1, keepdims=True)\n",
        "    probabilities = expz / Z\n",
        "    return probabilities\n",
        "\n",
        "  def __tanh_forward__(self, z):\n",
        "    y = np.tanh(z)\n",
        "    self.tanh_y = y\n",
        "    return y\n",
        "  \n",
        "  def __tanh_backward__(self, dy):\n",
        "    return (1.0 - self.tanh_y**2) * dy"
      ],
      "execution_count": 4,
      "outputs": []
    },
    {
      "cell_type": "markdown",
      "metadata": {
        "id": "lCX3YIKjRlve"
      },
      "source": [
        "### Класс функций потерь"
      ]
    },
    {
      "cell_type": "code",
      "metadata": {
        "id": "66rcZ_c_o9Ua"
      },
      "source": [
        "class LossFunction:\n",
        "  def __init__(self, func: str='cross-entropy'):\n",
        "    self.func = func\n",
        "    self.__set_forward__(func)\n",
        "    self.__set_backward__(func)\n",
        "\n",
        "  # вычисление результата работы слоя\n",
        "  def forward(self, p, y):\n",
        "    self.forward(self, p, y)\n",
        "  \n",
        "  # обратное распространение ошибки\n",
        "  def backward(self, loss):\n",
        "    self.backward(self, loss)\n",
        "      \n",
        "  def __set_forward__(self, func):\n",
        "    if self.func == 'cross-entropy':\n",
        "      self.forward = self.__cross_entropy_forward__\n",
        "    else:\n",
        "      self.forward = self.__cross_entropy_forward__\n",
        "        \n",
        "  def __set_backward__(self, func):\n",
        "    if self.func == 'cross-entropy':\n",
        "      self.backward = self.__cross_entropy_backward__\n",
        "    else:\n",
        "      self.backward = self.__cross_entropy_backward__\n",
        "\n",
        "  def __cross_entropy_forward__(self, p, y):\n",
        "    self.p = p\n",
        "    self.y = y\n",
        "    p_of_y = p[np.arange(len(y)), y]\n",
        "    self.log_prob = np.log(p_of_y)\n",
        "    result = -self.log_prob.mean()\n",
        "    return result\n",
        "  \n",
        "  def __cross_entropy_backward__(self, loss):\n",
        "    dlog_softmax = np.zeros_like(self.p)\n",
        "    dlog_softmax[np.arange(len(self.y)), self.y] -= 1.0 / len(self.y)\n",
        "    result = dlog_softmax / self.p\n",
        "    return result"
      ],
      "execution_count": 5,
      "outputs": []
    },
    {
      "cell_type": "markdown",
      "metadata": {
        "id": "6dPIvqoZRr5C"
      },
      "source": [
        "### Класс для тренировки нейросети"
      ]
    },
    {
      "cell_type": "code",
      "metadata": {
        "id": "oUjmoW7jo9Ua"
      },
      "source": [
        "class NeuralNetworkTrainer:\n",
        "  def __init__(self, batch_size=4, learning_rate=0.01):\n",
        "    # self.network = network\n",
        "    self.batch_size = batch_size;\n",
        "    self.learning_rate = learning_rate;\n",
        "  \n",
        "  # обучение нейронной сети эпохами\n",
        "  def train_epoch(self, net, x_train, y_train, loss):\n",
        "    for i in range(0, len(x_train), self.batch_size):\n",
        "      x_batch = x_train[i:i + self.batch_size]\n",
        "      y_batch = y_train[i:i + self.batch_size]\n",
        "\n",
        "      pred = net.forward(x_batch)\n",
        "      losses = loss.forward(pred, y_batch)\n",
        "  \n",
        "      d_pred = loss.backward(losses)\n",
        "      dx = net.backward(d_pred)\n",
        "      net.update(self.learning_rate)\n",
        "\n",
        "    # обучение нейронной сети эпохами\n",
        "  def train_epoch_with_metrics(self, net, x_train, y_train, x_text, y_test, n_epoch, loss):\n",
        "    metrics = NeuralNetworkMetrics()\n",
        "    \n",
        "    train_accurancy = np.empty((n_epoch + 1, 3))\n",
        "    train_accurancy[:] = np.NAN\n",
        "    valid_accurancy = np.empty((n_epoch + 1, 3))\n",
        "    valid_accurancy[:] = np.NAN\n",
        "    \n",
        "    start_time = time()\n",
        "    for epoch in range(n_epoch + 1):\n",
        "      if epoch != 0:\n",
        "        self.train_epoch(net, x_train, y_train, loss)\n",
        "      \n",
        "      t_loss, t_accuracy = metrics.get_loss_accurancy(net, x_train, y_train, loss)\n",
        "      train_accurancy[epoch, :] = [epoch, t_loss, t_accuracy]\n",
        "      \n",
        "      v_loss, v_accuracy = metrics.get_loss_accurancy(net, x_text, y_test, loss)\n",
        "      valid_accurancy[epoch, :] = [epoch, v_loss, v_accuracy]\n",
        "\n",
        "      if epoch == 0:\n",
        "        print(\"Initial train losses={}, accuracy={}: \".format(t_loss, t_accuracy))\n",
        "        print(\"Initial valid losses={}, accuracy={}: \".format(v_loss, v_accuracy))\n",
        "    end_time = time()\n",
        "\n",
        "    train_time = end_time - start_time\n",
        "\n",
        "    print(\"Final train losses={}, accuracy={}: \".format(train_accurancy[-1, 1], train_accurancy[-1, 2]))\n",
        "    print(\"Final valid losses={}, accuracy={}: \".format(valid_accurancy[-1, 1], valid_accurancy[-1, 2]))\n",
        "\n",
        "    return train_accurancy, valid_accurancy, train_time"
      ],
      "execution_count": 6,
      "outputs": []
    },
    {
      "cell_type": "markdown",
      "metadata": {
        "id": "os-PZJebRyV8"
      },
      "source": [
        "### Класс для вычислений метрик работы нейросети"
      ]
    },
    {
      "cell_type": "code",
      "metadata": {
        "id": "vRyu1wx0o9Ub"
      },
      "source": [
        "class NeuralNetworkMetrics:\n",
        "  # получение ошибки и точности предсказания\n",
        "  def get_loss_accurancy(self, net, x, y, loss):\n",
        "    pred = net.forward(x)\n",
        "    losses = loss.forward(pred, y)\n",
        "    pred_max = np.argmax(pred, axis=1)\n",
        "    accurancy = (pred_max == y).mean()\n",
        "    return losses, accurancy"
      ],
      "execution_count": 7,
      "outputs": []
    },
    {
      "cell_type": "markdown",
      "metadata": {
        "id": "POJizduno9Ub"
      },
      "source": [
        "## Вспомогательные функции"
      ]
    },
    {
      "cell_type": "markdown",
      "metadata": {
        "id": "i6wP2j4kSAog"
      },
      "source": [
        "### Функция визуального мониторинга работы нейросети"
      ]
    },
    {
      "cell_type": "code",
      "metadata": {
        "id": "BJ4i8g2ro9Ub"
      },
      "source": [
        "# обучение и построение графика\n",
        "def train_and_plot(net, x_train, y_train, x_text, y_test, trainer, n_epoch: int, loss, title: str, img_name: str):\n",
        "  \n",
        "  train_accurancy, valid_accurancy, train_time = trainer.train_epoch_with_metrics(net, x_train, y_train, x_text, y_test, n_epoch, loss)\n",
        "  x = train_accurancy[:, 0]\n",
        "  y = (train_accurancy[:, 2], valid_accurancy[:, 2])\n",
        "\n",
        "  plt.figure(figsize=(10, 6))\n",
        "  plt.plot(x, y[0], 'k--', label='training accuracy')\n",
        "  plt.plot(x, y[1], 'g-', label='validation accuracy')\n",
        "  plt.legend(loc='lower right')\n",
        "\n",
        "  title = f'{title}, Train Time = {train_time:.2f} sec'\n",
        "  plt.title(f'{title}')\n",
        "\n",
        "  plt.savefig(f'{img_name}')"
      ],
      "execution_count": 8,
      "outputs": []
    },
    {
      "cell_type": "markdown",
      "metadata": {
        "id": "TnSSQcHDDSdj"
      },
      "source": [
        "### Функция генерации названия графика"
      ]
    },
    {
      "cell_type": "code",
      "metadata": {
        "id": "baLw476bDblG"
      },
      "source": [
        "def get_plot_title(layers, n_epoch, batch_size, learning_rate, loss_func):\n",
        "  return f'Layers = {layers}, Epoches = {n_epoch}, Batches = {batch_size}, Learning Rate = {learning_rate}, Loss Function = {loss_func}'"
      ],
      "execution_count": 9,
      "outputs": []
    },
    {
      "cell_type": "markdown",
      "metadata": {
        "id": "9eJFuiR_DvE_"
      },
      "source": [
        "### Функция генерции названия картинки"
      ]
    },
    {
      "cell_type": "code",
      "metadata": {
        "id": "TB36fzvqDzAq"
      },
      "source": [
        "def get_img_name(dataset: str, layers, n_epoch, batch_size, learning_rate, loss_func, format: str):\n",
        "  return f'DS({dataset})_NL({layers})_E({n_epoch})_B({batch_size})_LR({learning_rate})_LF({loss.func}).{format}'"
      ],
      "execution_count": 20,
      "outputs": []
    },
    {
      "cell_type": "markdown",
      "metadata": {
        "id": "TTdQvLX3SElF"
      },
      "source": [
        "## Установка модулей для загрузки и распаковки данных"
      ]
    },
    {
      "cell_type": "code",
      "metadata": {
        "colab": {
          "base_uri": "https://localhost:8080/"
        },
        "id": "2ml3Ol7RSMnp",
        "outputId": "f2e7e30d-717b-4506-b5a8-7eacf8f85bee"
      },
      "source": [
        "!pip install gzip-reader\n",
        "\n",
        "# если среда запущена через Colab\n",
        "if 'google.colab' in str(get_ipython()):\n",
        "  !pip install rm\n",
        "  !pip install wget"
      ],
      "execution_count": 11,
      "outputs": [
        {
          "output_type": "stream",
          "text": [
            "Requirement already satisfied: gzip-reader in /usr/local/lib/python3.7/dist-packages (0.1)\n",
            "Requirement already satisfied: rm in /usr/local/lib/python3.7/dist-packages (2020.12.3)\n",
            "Requirement already satisfied: values in /usr/local/lib/python3.7/dist-packages (from rm) (2020.12.3)\n",
            "Requirement already satisfied: wget in /usr/local/lib/python3.7/dist-packages (3.2)\n"
          ],
          "name": "stdout"
        }
      ]
    },
    {
      "cell_type": "markdown",
      "metadata": {
        "id": "Uazn0_Dco9Ug"
      },
      "source": [
        "## MNIST"
      ]
    },
    {
      "cell_type": "markdown",
      "metadata": {
        "id": "m-uvl_lHo9Uk"
      },
      "source": [
        "### MNIST. Загрузка данных"
      ]
    },
    {
      "cell_type": "markdown",
      "metadata": {
        "id": "gEfK6YmwuERi"
      },
      "source": [
        "Скачаем данные с помощью инстрмента **curl** и разархивируем данные с помощью инструмента **gzip**"
      ]
    },
    {
      "cell_type": "code",
      "metadata": {
        "colab": {
          "base_uri": "https://localhost:8080/"
        },
        "id": "8iQs-CSLo9UV",
        "scrolled": true,
        "outputId": "9fd78dad-66ec-4ca2-8568-5bcc66973ba9"
      },
      "source": [
        "if 'google.colab' in str(get_ipython()):\n",
        "  !rm -r /content/data/mnist\n",
        "  !wget -P data/mnist https://raw.githubusercontent.com/Aynur19/Machine-Learning/main/data/mnist/mnist.pkl.gz\n",
        "  !gzip -d /content/data/mnist/mnist.pkl.gz\n",
        "  \n",
        "  with open('/content/data/mnist/mnist.pkl','rb') as f:\n",
        "    MNIST = pickle.load(f)\n",
        "else:\n",
        "  !gzip -d ../data/mnist/mnist.pkl.gz\n",
        "  \n",
        "  with open('../data/mnist/mnist.pkl','rb') as f:\n",
        "    MNIST = pickle.load(f)"
      ],
      "execution_count": 12,
      "outputs": [
        {
          "output_type": "stream",
          "text": [
            "--2021-04-08 10:42:59--  https://raw.githubusercontent.com/Aynur19/Machine-Learning/main/data/mnist/mnist.pkl.gz\n",
            "Resolving raw.githubusercontent.com (raw.githubusercontent.com)... 185.199.110.133, 185.199.111.133, 185.199.109.133, ...\n",
            "Connecting to raw.githubusercontent.com (raw.githubusercontent.com)|185.199.110.133|:443... connected.\n",
            "HTTP request sent, awaiting response... 200 OK\n",
            "Length: 10392609 (9.9M) [application/octet-stream]\n",
            "Saving to: ‘data/mnist/mnist.pkl.gz’\n",
            "\n",
            "mnist.pkl.gz        100%[===================>]   9.91M  39.1MB/s    in 0.3s    \n",
            "\n",
            "2021-04-08 10:43:00 (39.1 MB/s) - ‘data/mnist/mnist.pkl.gz’ saved [10392609/10392609]\n",
            "\n"
          ],
          "name": "stdout"
        }
      ]
    },
    {
      "cell_type": "markdown",
      "metadata": {
        "id": "B77P2_fPufs-"
      },
      "source": [
        "Посмотрим какие данные нам предоставлены"
      ]
    },
    {
      "cell_type": "code",
      "metadata": {
        "colab": {
          "base_uri": "https://localhost:8080/"
        },
        "id": "4eJqVa9to9Uk",
        "outputId": "f8e43497-19c1-45c1-e96e-cc031df40018"
      },
      "source": [
        "MNIST"
      ],
      "execution_count": 13,
      "outputs": [
        {
          "output_type": "execute_result",
          "data": {
            "text/plain": [
              "{'Train': {'Features': array([[0, 0, 0, ..., 0, 0, 0],\n",
              "         [0, 0, 0, ..., 0, 0, 0],\n",
              "         [0, 0, 0, ..., 0, 0, 0],\n",
              "         ...,\n",
              "         [0, 0, 0, ..., 0, 0, 0],\n",
              "         [0, 0, 0, ..., 0, 0, 0],\n",
              "         [0, 0, 0, ..., 0, 0, 0]], dtype=int32),\n",
              "  'Labels': array([1, 0, 1, ..., 7, 6, 9], dtype=int32)}}"
            ]
          },
          "metadata": {
            "tags": []
          },
          "execution_count": 13
        }
      ]
    },
    {
      "cell_type": "markdown",
      "metadata": {
        "id": "iMH9lcf6vm5S"
      },
      "source": [
        "Видно, что имеется 2 набора данных:\n",
        "- Features - матрица признаковых описаний объектов (значения пикселей каждой картинки)\n",
        "- Labels - вектор ответов (принадлежность картинки к определенному классу)\n",
        "\n",
        "Разделим данные на 2 переменные:\n",
        "- labels - вектор ответов (значения классов)\n",
        "- data - матрица признаков (значения пикселей)"
      ]
    },
    {
      "cell_type": "code",
      "metadata": {
        "id": "zl26CHMHo9Ul"
      },
      "source": [
        "labels = MNIST['Train']['Labels']\n",
        "data = MNIST['Train']['Features']"
      ],
      "execution_count": 14,
      "outputs": []
    },
    {
      "cell_type": "markdown",
      "metadata": {
        "id": "dQr4HHdro9Ul"
      },
      "source": [
        "### MNIST. Первоначальный анализ данных, предобработка\n"
      ]
    },
    {
      "cell_type": "markdown",
      "metadata": {
        "id": "QqUVr3GDGj5f"
      },
      "source": [
        "Выведем основную информацию:\n",
        "- количество признаков (пикселей)\n",
        "- количество объектов (картинок)\n",
        "- количество разных ответов (классов)"
      ]
    },
    {
      "cell_type": "code",
      "metadata": {
        "colab": {
          "base_uri": "https://localhost:8080/"
        },
        "id": "25JcahrMo9Um",
        "outputId": "1909fe08-dc06-487c-8c12-e307246a01d0"
      },
      "source": [
        "print(f'Количество признаков (пикселей): {data.shape[1]}')\n",
        "print(f'Количество объектов (картинок): {data.shape[0]}')\n",
        "print(f'Количество разных ответов (классов): {len(np.unique(labels))}')"
      ],
      "execution_count": 15,
      "outputs": [
        {
          "output_type": "stream",
          "text": [
            "Количество признаков (пикселей): 784\n",
            "Количество объектов (картинок): 42000\n",
            "Количество разных ответов (классов): 10\n"
          ],
          "name": "stdout"
        }
      ]
    },
    {
      "cell_type": "markdown",
      "metadata": {
        "id": "txQ_juNno9Un"
      },
      "source": [
        "Необходимо: \n",
        "1. Поменять тип данных для признаков на float, чтобы во время обучения и применения нейронных сетей тип данных был везде одинаковый. При приведении к int дробная часть отсекается, что ведет к увеличению погрешности в вычислениях \n",
        "2. Отмасштабировать все значения пикселей к значениям от 0 до 1,иначе в ходе вычислений большие значения могут привести к ошибкам"
      ]
    },
    {
      "cell_type": "code",
      "metadata": {
        "id": "eHGHlnyuo9Un"
      },
      "source": [
        "data = data.astype(float)\n",
        "data = data / 255"
      ],
      "execution_count": 16,
      "outputs": []
    },
    {
      "cell_type": "markdown",
      "metadata": {
        "id": "Y4g39w2pyBKw"
      },
      "source": [
        "Разбиваем признаки и ответы на обучающую и тестовую выборки в соотношении 75/25"
      ]
    },
    {
      "cell_type": "code",
      "metadata": {
        "id": "7kI5zHwso9Uo"
      },
      "source": [
        "x_train, x_test, y_train, y_test = train_test_split(data, labels, test_size=0.25, random_state=42)"
      ],
      "execution_count": 17,
      "outputs": []
    },
    {
      "cell_type": "markdown",
      "metadata": {
        "id": "DPupsqLLo9Uo"
      },
      "source": [
        "### MNIST. Применение нейронных сетей и отображение графика обучения"
      ]
    },
    {
      "cell_type": "markdown",
      "metadata": {
        "id": "4v10cQ4Cme9B"
      },
      "source": [
        "Создание экземпляров: \n",
        "- функция ошибки\n",
        "- расчета метрик"
      ]
    },
    {
      "cell_type": "code",
      "metadata": {
        "id": "jr2MFdPjo9Uo"
      },
      "source": [
        "loss = LossFunction('cross-entropy')\n",
        "metrics = NeuralNetworkMetrics()"
      ],
      "execution_count": 18,
      "outputs": []
    },
    {
      "cell_type": "markdown",
      "metadata": {
        "id": "_jpgXtRFo33T"
      },
      "source": [
        "Применение разных моделей нейронной сети"
      ]
    },
    {
      "cell_type": "code",
      "metadata": {
        "colab": {
          "base_uri": "https://localhost:8080/",
          "height": 458
        },
        "id": "w9IPbkBpo9Uo",
        "outputId": "c17c5641-00f8-47be-9eb6-8842988eb869"
      },
      "source": [
        "# обучение нейронной сети с одним слоем\n",
        "layer1 = NeuralNetworkLayer(784, 10, activation_func=ActivationFunction('softmax'))\n",
        "net = NeuralNetwork([layer1])\n",
        "n_epoch = 10\n",
        "batch_size = 4\n",
        "learning_rate = 0.1\n",
        "\n",
        "trainer = NeuralNetworkTrainer(batch_size, learning_rate)\n",
        "train_and_plot(net, x_train, y_train, x_test, y_test, trainer, n_epoch, loss, \n",
        "               title=get_plot_title(len(net.layers), n_epoch, batch_size, learning_rate, loss.func),\n",
        "               img_name=get_img_name('MNIST', len(net.layers), n_epoch, batch_size, learning_rate, loss.func, 'png'))"
      ],
      "execution_count": 23,
      "outputs": [
        {
          "output_type": "stream",
          "text": [
            "Initial train losses=2.3204143477759045, accuracy=0.09952380952380953: \n",
            "Initial valid losses=2.318808271243683, accuracy=0.10066666666666667: \n",
            "Final train losses=0.290312825832549, accuracy=0.9184126984126985: \n",
            "Final valid losses=0.378654839277895, accuracy=0.9046666666666666: \n"
          ],
          "name": "stdout"
        },
        {
          "output_type": "display_data",
          "data": {
            "image/png": "[encoded data removed]",
            "text/plain": [
              "<Figure size 720x432 with 1 Axes>"
            ]
          },
          "metadata": {
            "tags": [],
            "needs_background": "light"
          }
        }
      ]
    },
    {
      "cell_type": "code",
      "metadata": {
        "colab": {
          "base_uri": "https://localhost:8080/",
          "height": 458
        },
        "id": "1V8xuV1xqudY",
        "outputId": "40bab713-b5cb-435d-cab7-6ad168689c6b"
      },
      "source": [
        "# обучение нейронной сети с одним слоем. Скорость обучения = 0.5\n",
        "layer1 = NeuralNetworkLayer(784, 10, activation_func=ActivationFunction('softmax'))\n",
        "net = NeuralNetwork([layer1])\n",
        "n_epoch = 10\n",
        "batch_size = 4\n",
        "learning_rate = 0.5\n",
        "\n",
        "trainer = NeuralNetworkTrainer(batch_size, learning_rate)\n",
        "train_and_plot(net, x_train, y_train, x_test, y_test, trainer, n_epoch, loss, \n",
        "               title=get_plot_title(len(net.layers), n_epoch, batch_size, learning_rate, loss.func),\n",
        "               img_name=get_img_name('MNIST', len(net.layers), n_epoch, batch_size, learning_rate, loss.func, 'png'))"
      ],
      "execution_count": 24,
      "outputs": [
        {
          "output_type": "stream",
          "text": [
            "Initial train losses=2.3923294292096178, accuracy=0.05390476190476191: \n",
            "Initial valid losses=2.395173933387519, accuracy=0.047523809523809524: \n",
            "Final train losses=1.0126707837058446, accuracy=0.8908253968253969: \n",
            "Final valid losses=1.3683639923493243, accuracy=0.8774285714285714: \n"
          ],
          "name": "stdout"
        },
        {
          "output_type": "display_data",
          "data": {
            "image/png": "[encoded data removed]",
            "text/plain": [
              "<Figure size 720x432 with 1 Axes>"
            ]
          },
          "metadata": {
            "tags": [],
            "needs_background": "light"
          }
        }
      ]
    },
    {
      "cell_type": "code",
      "metadata": {
        "colab": {
          "base_uri": "https://localhost:8080/",
          "height": 458
        },
        "id": "hjjskNCSsa4H",
        "outputId": "c4bf74bb-7565-456f-bb50-2cbcbb03670f"
      },
      "source": [
        "# обучение нейронной сети с 2-мя слоями\n",
        "layer1 = NeuralNetworkLayer(784, 392, activation_func=ActivationFunction('tanh'))\n",
        "layer2 = NeuralNetworkLayer(392, 10, activation_func=ActivationFunction('softmax'))\n",
        "net = NeuralNetwork([layer1, layer2])\n",
        "n_epoch = 10\n",
        "batch_size = 16\n",
        "learning_rate = 0.1\n",
        "\n",
        "trainer = NeuralNetworkTrainer(batch_size, learning_rate)\n",
        "train_and_plot(net, x_train, y_train, x_test, y_test, trainer, n_epoch, loss, \n",
        "               title=get_plot_title(len(net.layers), n_epoch, batch_size, learning_rate, loss.func),\n",
        "               img_name=get_img_name('MNIST', len(net.layers), n_epoch, batch_size, learning_rate, loss.func, 'png'))"
      ],
      "execution_count": 27,
      "outputs": [
        {
          "output_type": "stream",
          "text": [
            "Initial train losses=2.3724308239247134, accuracy=0.08917460317460317: \n",
            "Initial valid losses=2.374078667816363, accuracy=0.09038095238095238: \n",
            "Final train losses=0.03387498544948286, accuracy=0.989904761904762: \n",
            "Final valid losses=0.10805163382427864, accuracy=0.9678095238095238: \n"
          ],
          "name": "stdout"
        },
        {
          "output_type": "display_data",
          "data": {
            "image/png": "[encoded data removed]",
            "text/plain": [
              "<Figure size 720x432 with 1 Axes>"
            ]
          },
          "metadata": {
            "tags": [],
            "needs_background": "light"
          }
        }
      ]
    },
    {
      "cell_type": "code",
      "metadata": {
        "colab": {
          "base_uri": "https://localhost:8080/",
          "height": 458
        },
        "id": "2u7hlL8Fo9Up",
        "outputId": "17641e1b-ddc6-4049-b8d2-c62e4875ba38"
      },
      "source": [
        "# обучение нейронной сети с 2-мя слоями\n",
        "layer1 = NeuralNetworkLayer(784, 392, activation_func=ActivationFunction('tanh'))\n",
        "layer2 = NeuralNetworkLayer(392, 10, activation_func=ActivationFunction('softmax'))\n",
        "net = NeuralNetwork([layer1, layer2])\n",
        "n_epoch = 10\n",
        "batch_size = 16\n",
        "learning_rate = 0.5\n",
        "\n",
        "trainer = NeuralNetworkTrainer(batch_size, learning_rate)\n",
        "train_and_plot(net, x_train, y_train, x_test, y_test, trainer, n_epoch, loss, \n",
        "               title=get_plot_title(len(net.layers), n_epoch, batch_size, learning_rate, loss.func),\n",
        "               img_name=get_img_name('MNIST', len(net.layers), n_epoch, batch_size, learning_rate, loss.func, 'png'))"
      ],
      "execution_count": 28,
      "outputs": [
        {
          "output_type": "stream",
          "text": [
            "Initial train losses=2.354492314106588, accuracy=0.09549206349206349: \n",
            "Initial valid losses=2.352164598749447, accuracy=0.09571428571428571: \n",
            "Final train losses=0.4662610287540973, accuracy=0.9501269841269842: \n",
            "Final valid losses=0.6771379221104986, accuracy=0.9416190476190476: \n"
          ],
          "name": "stdout"
        },
        {
          "output_type": "display_data",
          "data": {
            "image/png": "[encoded data removed]",
            "text/plain": [
              "<Figure size 720x432 with 1 Axes>"
            ]
          },
          "metadata": {
            "tags": [],
            "needs_background": "light"
          }
        }
      ]
    },
    {
      "cell_type": "code",
      "metadata": {
        "colab": {
          "base_uri": "https://localhost:8080/",
          "height": 458
        },
        "id": "CKrJj18lo9Uq",
        "outputId": "f731f1b6-bc25-4822-bfb9-d45113104346"
      },
      "source": [
        "# обучение нейронной сети с 3-мя слоями\n",
        "layer1 = NeuralNetworkLayer(784, 392, activation_func=ActivationFunction('tanh'))\n",
        "layer2 = NeuralNetworkLayer(392, 196, activation_func=ActivationFunction('tanh'))\n",
        "layer3 = NeuralNetworkLayer(196, 10, activation_func=ActivationFunction('softmax'))\n",
        "\n",
        "net = NeuralNetwork([layer1, layer2, layer3])\n",
        "n_epoch = 10\n",
        "batch_size = 32\n",
        "learning_rate = 0.1\n",
        "\n",
        "trainer = NeuralNetworkTrainer(batch_size, learning_rate)\n",
        "train_and_plot(net, x_train, y_train, x_test, y_test, trainer, n_epoch, loss, \n",
        "               title=get_plot_title(len(net.layers), n_epoch, batch_size, learning_rate, loss.func),\n",
        "               img_name=get_img_name('MNIST', len(net.layers), n_epoch, batch_size, learning_rate, loss.func, 'png'))"
      ],
      "execution_count": 29,
      "outputs": [
        {
          "output_type": "stream",
          "text": [
            "Initial train losses=2.322628350999345, accuracy=0.1100952380952381: \n",
            "Initial valid losses=2.325854724523066, accuracy=0.10933333333333334: \n",
            "Final train losses=0.037959551869516495, accuracy=0.9885396825396825: \n",
            "Final valid losses=0.10706742080158338, accuracy=0.9678095238095238: \n"
          ],
          "name": "stdout"
        },
        {
          "output_type": "display_data",
          "data": {
            "image/png": "[encoded data removed]",
            "text/plain": [
              "<Figure size 720x432 with 1 Axes>"
            ]
          },
          "metadata": {
            "tags": [],
            "needs_background": "light"
          }
        }
      ]
    },
    {
      "cell_type": "code",
      "metadata": {
        "colab": {
          "base_uri": "https://localhost:8080/",
          "height": 458
        },
        "id": "rPMJ6YG2GYyf",
        "outputId": "8ffebee9-e490-4b32-c357-20c724842bad"
      },
      "source": [
        "# обучение нейронной сети с 3-мя слоями\n",
        "layer1 = NeuralNetworkLayer(784, 392, activation_func=ActivationFunction('tanh'))\n",
        "layer2 = NeuralNetworkLayer(392, 196, activation_func=ActivationFunction('tanh'))\n",
        "layer3 = NeuralNetworkLayer(196, 10, activation_func=ActivationFunction('softmax'))\n",
        "\n",
        "net = NeuralNetwork([layer1, layer2, layer3])\n",
        "n_epoch = 10\n",
        "batch_size = 32\n",
        "learning_rate = 0.5\n",
        "\n",
        "trainer = NeuralNetworkTrainer(batch_size, learning_rate)\n",
        "train_and_plot(net, x_train, y_train, x_test, y_test, trainer, n_epoch, loss, \n",
        "               title=get_plot_title(len(net.layers), n_epoch, batch_size, learning_rate, loss.func),\n",
        "               img_name=get_img_name('MNIST', len(net.layers), n_epoch, batch_size, learning_rate, loss.func, 'png'))"
      ],
      "execution_count": 30,
      "outputs": [
        {
          "output_type": "stream",
          "text": [
            "Initial train losses=2.348684423315901, accuracy=0.06942857142857142: \n",
            "Initial valid losses=2.351198582116592, accuracy=0.07352380952380952: \n",
            "Final train losses=0.01780357047469168, accuracy=0.993904761904762: \n",
            "Final valid losses=0.1432740504165219, accuracy=0.9689523809523809: \n"
          ],
          "name": "stdout"
        },
        {
          "output_type": "display_data",
          "data": {
            "image/png": "[encoded data removed]",
            "text/plain": [
              "<Figure size 720x432 with 1 Axes>"
            ]
          },
          "metadata": {
            "tags": [],
            "needs_background": "light"
          }
        }
      ]
    },
    {
      "cell_type": "markdown",
      "metadata": {
        "id": "-j5cKsbBo9Ut"
      },
      "source": [
        "## Fashion MNIST"
      ]
    },
    {
      "cell_type": "markdown",
      "metadata": {
        "id": "OHyJlNkMo9Ut"
      },
      "source": [
        "### Fashion MNIST. Загрузка данных"
      ]
    },
    {
      "cell_type": "code",
      "metadata": {
        "id": "bvskBta1ukR2"
      },
      "source": [
        "!wget -P data/fashion http://fashion-mnist.s3-website.eu-central-1.amazonaws.com/train-images-idx3-ubyte.gz\n",
        "!wget -P data/fashion http://fashion-mnist.s3-website.eu-central-1.amazonaws.com/train-labels-idx1-ubyte.gz\n",
        "!wget -P data/fashion http://fashion-mnist.s3-website.eu-central-1.amazonaws.com/t10k-images-idx3-ubyte.gz\n",
        "!wget -P data/fashion http://fashion-mnist.s3-website.eu-central-1.amazonaws.com/t10k-labels-idx1-ubyte.gz"
      ],
      "execution_count": null,
      "outputs": []
    },
    {
      "cell_type": "markdown",
      "metadata": {
        "id": "r0Dl3Eepg7Xi"
      },
      "source": [
        "Распаковка данных"
      ]
    },
    {
      "cell_type": "code",
      "metadata": {
        "id": "nWRCtWRovqWO"
      },
      "source": [
        "!gzip -d /content/data/fashion/t10k-images-idx3-ubyte.gz\n",
        "!gzip -d /content/data/fashion/t10k-labels-idx1-ubyte.gz\n",
        "!gzip -d /content/data/fashion/train-images-idx3-ubyte.gz\n",
        "!gzip -d /content/data/fashion/train-labels-idx1-ubyte.gz"
      ],
      "execution_count": null,
      "outputs": []
    },
    {
      "cell_type": "markdown",
      "metadata": {
        "id": "OO4h5vuQhDii"
      },
      "source": [
        "Установка модуля **idx2numpy** для получения numpy массивов из распакованных данных"
      ]
    },
    {
      "cell_type": "code",
      "metadata": {
        "id": "F3qXRiNkxjwj"
      },
      "source": [
        "!pip install idx2numpy\n",
        "import idx2numpy"
      ],
      "execution_count": null,
      "outputs": []
    },
    {
      "cell_type": "markdown",
      "metadata": {
        "id": "EAjVjiP8krf9"
      },
      "source": [
        "Разбиваем данные на обучающие и тестовые выборки"
      ]
    },
    {
      "cell_type": "code",
      "metadata": {
        "id": "CRPgWXKFxweP"
      },
      "source": [
        "file = 'data/fashion/train-images-idx3-ubyte'\n",
        "train_images = idx2numpy.convert_from_file(file)\n",
        "\n",
        "file = 'data/fashion/train-labels-idx1-ubyte'\n",
        "train_labels = idx2numpy.convert_from_file(file)\n",
        "\n",
        "file = 'data/fashion/t10k-images-idx3-ubyte'\n",
        "test_images = idx2numpy.convert_from_file(file)\n",
        "\n",
        "file = 'data/fashion/t10k-labels-idx1-ubyte'\n",
        "test_labels = idx2numpy.convert_from_file(file)"
      ],
      "execution_count": null,
      "outputs": []
    },
    {
      "cell_type": "markdown",
      "metadata": {
        "id": "MLLQjyl6o9Uu"
      },
      "source": [
        "### Fashion MNIST. Первоначальный анализ данных, предобработка"
      ]
    },
    {
      "cell_type": "code",
      "metadata": {
        "id": "Yn0mFv4Vo9Ut"
      },
      "source": [
        "print(f'Размерность матрицы данных train_images: {train_images.shape}')\n",
        "print(f'Размерность матрицы данных test_images: {test_images.shape}')\n",
        "print(f'Размерность матрицы данных train_labels: {train_labels.shape}')\n",
        "print(f'Размерность матрицы данных test_labels: {test_labels.shape}')\n",
        "\n",
        "print(f'Количество признаков (пикселей): {train_images.shape[1]}')\n",
        "print(f'Количество объектов (картинок): {train_images.shape[0]}')\n",
        "\n",
        "# необходимо узнать количество классов на выходе\n",
        "print(f'Количество разных ответов (классов): {len(np.unique(train_labels))}')"
      ],
      "execution_count": null,
      "outputs": []
    },
    {
      "cell_type": "markdown",
      "metadata": {
        "id": "LeF_D-selUIL"
      },
      "source": [
        "Приводим данные признаков к типу float и масштабируем в диапазон от 0 до 1"
      ]
    },
    {
      "cell_type": "code",
      "metadata": {
        "id": "kBwUZMw4o9Uu"
      },
      "source": [
        "train_images = train_images.astype(float)\n",
        "train_images = train_images / 255\n",
        "\n",
        "test_images = test_images.astype(float)\n",
        "test_images = test_images / 255"
      ],
      "execution_count": null,
      "outputs": []
    },
    {
      "cell_type": "markdown",
      "metadata": {
        "id": "S9VCnVH2lmoX"
      },
      "source": [
        "Преобразуем данные признаков в двумерные матрицы"
      ]
    },
    {
      "cell_type": "code",
      "metadata": {
        "id": "9jFsUYc61WTe"
      },
      "source": [
        "train_images = train_images.reshape(60000, 784)\n",
        "test_images = test_images.reshape(10000, 784)\n",
        "\n",
        "print(f'Размерность матрицы данных train_images: {train_images.shape}')\n",
        "print(f'Размерность матрицы данных test_images: {test_images.shape}')"
      ],
      "execution_count": null,
      "outputs": []
    },
    {
      "cell_type": "markdown",
      "metadata": {
        "id": "VBCw1izoo9Uu"
      },
      "source": [
        "### Fashion MNIST. Применение нейронных сетей и отображение графика обучения"
      ]
    },
    {
      "cell_type": "code",
      "metadata": {
        "id": "dBwZiHn2zu6T"
      },
      "source": [
        "loss = LossFunction('cross-entropy')\n",
        "metrics = NeuralNetworkMetrics()\n",
        "monitoring = NeuralNetworkMonitoring()"
      ],
      "execution_count": null,
      "outputs": []
    },
    {
      "cell_type": "code",
      "metadata": {
        "id": "PWI8YrUcz0a-"
      },
      "source": [
        "# обучение нейронной сети с одним слоем\n",
        "net = NeuralNetwork()\n",
        "net.add(NeuralNetworkLayer(784, 10, activation_func=ActivationFunction('softmax')))\n",
        "trainer = NeuralNetworkTrainer(net, batch_size=4, learning_rate=0.01)\n",
        "res = monitoring.train_and_plot(train_images, train_labels, test_images, test_labels, trainer, 30, loss=loss)"
      ],
      "execution_count": null,
      "outputs": []
    },
    {
      "cell_type": "code",
      "metadata": {
        "id": "H-CJwmhY40cA"
      },
      "source": [
        "# обучение нейронной сети с одним слоем. Скорость обучения = 0.5\n",
        "net = NeuralNetwork()\n",
        "net.add(NeuralNetworkLayer(784, 10, activation_func=ActivationFunction('softmax')))\n",
        "trainer = NeuralNetworkTrainer(net, batch_size=4, learning_rate=0.5)\n",
        "res = monitoring.train_and_plot(train_images, train_labels, test_images, test_labels, trainer, 30, loss=loss)"
      ],
      "execution_count": null,
      "outputs": []
    },
    {
      "cell_type": "code",
      "metadata": {
        "id": "bow4blDH47gs"
      },
      "source": [
        "# обучение нейронной сети с одним слоем. Скорость обучения = 0.5, количество данных в пакете = 10\n",
        "net = NeuralNetwork()\n",
        "net.add(NeuralNetworkLayer(784, 10, activation_func=ActivationFunction('softmax')))\n",
        "trainer = NeuralNetworkTrainer(net, batch_size=10, learning_rate=0.5)\n",
        "res = monitoring.train_and_plot(train_images, train_labels, test_images, test_labels, trainer, 30, loss=loss)"
      ],
      "execution_count": null,
      "outputs": []
    },
    {
      "cell_type": "code",
      "metadata": {
        "id": "Mq-6m9vC5QN8"
      },
      "source": [
        "# обучение нейронной сети с 2-мя слоями\n",
        "net = NeuralNetwork()\n",
        "net.add(NeuralNetworkLayer(784, 392, activation_func=ActivationFunction('tanh')))\n",
        "net.add(NeuralNetworkLayer(392, 10, activation_func=ActivationFunction('softmax')))\n",
        "trainer = NeuralNetworkTrainer(net, batch_size=4, learning_rate=0.01)\n",
        "\n",
        "print(\"Initial loss={}, accuracy={}: \".format(*metrics.get_loss_accurancy(net, train_images, train_labels, loss)))\n",
        "trainer.train_epoch(net, train_images, train_labels, loss)\n",
        "print(\"Final loss={}, accuracy={}: \".format(*metrics.get_loss_accurancy(net, train_images, train_labels, loss)))\n",
        "print(\"Test loss={}, accuracy={}: \".format(*metrics.get_loss_accurancy(net, test_images, test_labels, loss)))"
      ],
      "execution_count": null,
      "outputs": []
    },
    {
      "cell_type": "code",
      "metadata": {
        "id": "sn24C1pJe8EP"
      },
      "source": [
        "print(\"Initial loss={}, accuracy={}: \".format(*metrics.get_loss_accurancy(net, train_images, train_labels, loss)))\n",
        "trainer.train_epoch(net, train_images, train_labels, loss)\n",
        "print(\"Final loss={}, accuracy={}: \".format(*metrics.get_loss_accurancy(net, train_images, train_labels, loss)))\n",
        "print(\"Test loss={}, accuracy={}: \".format(*metrics.get_loss_accurancy(net, test_images, test_labels, loss)))"
      ],
      "execution_count": null,
      "outputs": []
    },
    {
      "cell_type": "code",
      "metadata": {
        "id": "QhnxtDtS5ntR"
      },
      "source": [
        "# обучение нейронной сети с 3-мя слоями\n",
        "net = NeuralNetwork()\n",
        "net.add(NeuralNetworkLayer(784, 392, activation_func=ActivationFunction('tanh')))\n",
        "net.add(NeuralNetworkLayer(392, 196, activation_func=ActivationFunction('tanh')))\n",
        "net.add(NeuralNetworkLayer(196, 10, activation_func=ActivationFunction('softmax')))\n",
        "trainer = NeuralNetworkTrainer(net, batch_size=4, learning_rate=0.01)\n",
        "\n",
        "print(\"Initial loss={}, accuracy={}: \".format(*metrics.get_loss_accurancy(net, train_images, train_labels, loss)))\n",
        "trainer.train_epoch(net, train_images, train_labels, loss)\n",
        "print(\"Final loss={}, accuracy={}: \".format(*metrics.get_loss_accurancy(net, train_images, train_labels, loss)))\n",
        "print(\"Test loss={}, accuracy={}: \".format(*metrics.get_loss_accurancy(net, test_images, test_labels, loss)))"
      ],
      "execution_count": null,
      "outputs": []
    }
  ]
}